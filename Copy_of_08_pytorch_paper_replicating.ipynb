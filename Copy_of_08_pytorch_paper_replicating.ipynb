{
  "cells": [
    {
      "cell_type": "markdown",
      "metadata": {
        "id": "view-in-github",
        "colab_type": "text"
      },
      "source": [
        "<a href=\"https://colab.research.google.com/github/Asterisk07/control_bicycle/blob/main/Copy_of_08_pytorch_paper_replicating.ipynb\" target=\"_parent\"><img src=\"https://colab.research.google.com/assets/colab-badge.svg\" alt=\"Open In Colab\"/></a>"
      ]
    },
    {
      "cell_type": "markdown",
      "id": "e7e81227-aa0c-4e15-9ac4-20cc7128c915",
      "metadata": {
        "id": "e7e81227-aa0c-4e15-9ac4-20cc7128c915"
      },
      "source": [
        "<a href=\"https://colab.research.google.com/github/mrdbourke/pytorch-deep-learning/blob/main/08_pytorch_paper_replicating.ipynb\" target=\"_parent\"><img src=\"https://colab.research.google.com/assets/colab-badge.svg\" alt=\"Open In Colab\"/></a>\n",
        "\n",
        "[View Source Code](https://github.com/mrdbourke/pytorch-deep-learning/blob/main/08_pytorch_paper_replicating.ipynb) | [View Slides](https://github.com/mrdbourke/pytorch-deep-learning/blob/main/slides/08_pytorch_paper_replicating.pdf)"
      ]
    },
    {
      "cell_type": "markdown",
      "id": "873828f0-e50f-40b9-9879-f9a01adaa020",
      "metadata": {
        "id": "873828f0-e50f-40b9-9879-f9a01adaa020",
        "tags": []
      },
      "source": [
        "# 08. PyTorch Paper Replicating\n",
        "\n",
        "Welcome to Milestone Project 2: PyTorch Paper Replicating!\n",
        "\n",
        "In this project, we're going to be **replicating a machine learning research paper** and creating a Vision Transformer (ViT) from scratch using PyTorch.\n",
        "\n",
        "We'll then see how ViT, a state-of-the-art computer vision architecture, performs on our FoodVision Mini problem.\n",
        "\n",
        "<img src=\"https://raw.githubusercontent.com/mrdbourke/pytorch-deep-learning/main/images/08-vit-paper-applying-vit-to-food-vision-mini.png\" alt=\"appyling the vision transformer architecture to FoodVision mini\" width=900/>\n",
        "\n",
        "*For Milestone Project 2 we're going to focus on recreating the Vision Transformer (ViT) computer vision architecture and applying it to our FoodVision Mini problem to classify different images of pizza, steak and sushi.*"
      ]
    },
    {
      "cell_type": "markdown",
      "source": [],
      "metadata": {
        "id": "I1jNjhQzlnJn"
      },
      "id": "I1jNjhQzlnJn"
    },
    {
      "cell_type": "markdown",
      "id": "ccb53b99-277c-4ac0-a1fb-283c47576be1",
      "metadata": {
        "id": "ccb53b99-277c-4ac0-a1fb-283c47576be1"
      },
      "source": [
        "## What is paper replicating?\n",
        "\n",
        "It's no secret machine learning is advancing fast.\n",
        "\n",
        "Many of these advances get published in machine learning research papers.\n",
        "\n",
        "And the goal of **paper replicating** is to replicate these advances with code so you can use the techniques for your own problem.\n",
        "\n",
        "For example, let's say a new model architecture gets released that performs better than any other architecture before on various benchmarks, wouldn't it be nice to try that architecture on your own problems?\n",
        "\n",
        "<img src=\"https://raw.githubusercontent.com/mrdbourke/pytorch-deep-learning/main/images/08-vit-paper-what-is-paper-replicating-images-math-text-to-code.png\" alt=\"paper replicating involves turning a machine learning reserch paper comprised of images/diagrams, text and math into usable code\" width=1000/>\n",
        "\n",
        "*Machine learning paper replicating involves turning a machine learning paper comprised of images/diagrams, math and text into usable code and in our case, usable PyTorch code. Diagram, math equations and text from the [ViT paper](https://arxiv.org/abs/2010.11929).*\n"
      ]
    },
    {
      "cell_type": "markdown",
      "id": "966b353c-c9d8-4568-ad64-c0df45a39442",
      "metadata": {
        "id": "966b353c-c9d8-4568-ad64-c0df45a39442"
      },
      "source": [
        "## What is a machine learning research paper?\n",
        "\n",
        "A machine learning research paper is a scientific paper that details findings of a research group on a specific area.\n",
        "\n",
        "The contents of a machine learning research paper can vary from paper to paper but they generally follow the structure:\n",
        "\n",
        "| **Section** | **Contents** |\n",
        "| ----- | ----- |\n",
        "| **Abstract** | An overview/summary of the paper's main findings/contributions. |\n",
        "| **Introduction** | What's the paper's main problem and details of previous methods used to try and solve it. |\n",
        "| **Method** | How did the researchers go about conducting their research? For example, what model(s), data sources, training setups were used? |\n",
        "| **Results** | What are the outcomes of the paper? If a new type of model or training setup was used, how did the results of findings compare to previous works? (this is where **experiment tracking** comes in handy) |\n",
        "| **Conclusion** | What are the limitations of the suggested methods? What are some next steps for the research community? |\n",
        "| **References** | What resources/other papers did the researchers look at to build their own body of work? |\n",
        "| **Appendix** | Are there any extra resources/findings to look at that weren't included in any of the above sections? |"
      ]
    },
    {
      "cell_type": "markdown",
      "id": "b8ce67f6-0b00-448b-885d-b7d22bce4ff6",
      "metadata": {
        "id": "b8ce67f6-0b00-448b-885d-b7d22bce4ff6"
      },
      "source": [
        "## Why replicate a machine learning research paper?\n",
        "\n",
        "A machine learning research paper is often a presentation of months of work and experiments done by some of the best machine learning teams in the world condensed into a few pages of text.\n",
        "\n",
        "And if these experiments lead to better results in an area related to the problem you're working on, it'd be nice to check them out.\n",
        "\n",
        "Also, replicating the work of others is a fantastic way to practice your skills.\n",
        "\n",
        "<img src=\"https://raw.githubusercontent.com/mrdbourke/pytorch-deep-learning/main/images/08-george-hotz-quote.png\" width=600 alt=\"george hotz quote saying to get better at being a machine learning engineer, download a paper, implement it and keep going until you have skills\"/>\n",
        "\n",
        "*George Hotz is founder of [comma.ai](https://comma.ai/), a self-driving car company and livestreams machine learning coding on [Twitch](https://www.twitch.tv/georgehotz) and those videos get posted in full to [YouTube](https://www.youtube.com/c/georgehotzarchive). I pulled this quote from one of his livestreams. The \"٭\" is to note that machine learning engineering often involves the extra step(s) of preprocessing data and making your models available for others to use (deployment).*\n",
        "    \n",
        "When you first start trying to replicate research papers, you'll likely be overwhelmed.\n",
        "\n",
        "That's normal.\n",
        "\n",
        "Research teams spend weeks, months and sometimes years creating these works so it makes sense if it takes you sometime to even read let alone reproduce the works.\n",
        "\n",
        "Replicating research is such a tough problem, phenomenal machine learning libraries and tools such as, [HuggingFace](https://huggingface.co/), [PyTorch Image Models](https://github.com/rwightman/pytorch-image-models) (`timm` library) and [fast.ai](https://www.fast.ai/) have been born out of making machine learning research more accessible."
      ]
    },
    {
      "cell_type": "markdown",
      "id": "b09a7ccf-41e8-4ee4-8d78-aff5f650ca7f",
      "metadata": {
        "id": "b09a7ccf-41e8-4ee4-8d78-aff5f650ca7f"
      },
      "source": [
        "## Where can you find code examples for machine learning research papers?\n",
        "\n",
        "One of the first things you'll notice when it comes to machine learning research is: there's a lot of it.\n",
        "\n",
        "So beware, trying to stay on top of it is like trying to outrun a hamster wheel.\n",
        "\n",
        "Follow your interest, pick a few things that stand out to you.\n",
        "\n",
        "In saying this, there are several places to find and read machine learning research papers (and code):\n",
        "\n",
        "| **Resource** | **What is it?** |\n",
        "| ----- | ----- |\n",
        "| [arXiv](https://arxiv.org/) | Pronounced \"archive\", arXiv is a free and open resource for reading technical articles on everything from physics to computer science (including machine learning). |\n",
        "| [AK Twitter](https://twitter.com/_akhaliq) | The AK Twitter account publishes machine learning research highlights, often with live demos almost every day. I don't understand 9/10 posts but I find it fun to explore every so often. |\n",
        "| [Papers with Code](https://paperswithcode.com/) | A curated collection of trending, active and greatest machine learning papers, many of which include code resources attached. Also includes a collection of common machine learning datasets, benchmarks and current state-of-the-art models. |\n",
        "| [lucidrains' `vit-pytorch` GitHub repository](https://github.com/lucidrains/vit-pytorch) | Less of a place to find research papers and more of an example of what paper replicating with code on a larger-scale and with a specific focus looks like. The `vit-pytorch` repository is a collection of Vision Transformer model architectures from various research papers replicated with PyTorch code (much of the inspiration for this notebook was gathered from this repository). |\n",
        "\n",
        "> **Note:** This list is far from exhaustive. I only list a few places, the ones I use most frequently personally. So beware the bias. However, I've noticed that even this short list often fully satisfies my needs for knowing what's going on in the field. Any more and I might go crazy."
      ]
    },
    {
      "cell_type": "markdown",
      "id": "329412b2-fb66-46de-ba72-2aa5092eb231",
      "metadata": {
        "id": "329412b2-fb66-46de-ba72-2aa5092eb231"
      },
      "source": [
        "## What we're going to cover\n",
        "\n",
        "Rather than talk about replicating a paper, we're going to get hands-on and *actually* replicate a paper.\n",
        "\n",
        "The process for replicating all papers will be slightly different but by seeing what it's like to do one, we'll get the momentum to do more.\n",
        "\n",
        "More specifically, we're going to be replicating the machine learning research paper [*An Image is Worth 16x16 Words: Transformers for Image Recognition at Scale*](https://arxiv.org/abs/2010.11929)  (ViT paper) with PyTorch.\n",
        "\n",
        "The Transformer neural network architecture was originally introduced in the machine learning research paper [*Attention is all you need*](https://arxiv.org/abs/1706.03762).\n",
        "\n",
        "And the original Transformer architecture was designed to work on one-dimensional (1D) sequences of text.\n",
        "\n",
        "A **Transformer architecture** is generally considered to be any neural network that uses the [**attention mechanism**](https://en.wikipedia.org/wiki/Attention_(machine_learning)) as its primary learning layer. Similar to how a convolutional neural network (CNN) uses convolutions as its primary learning layer.\n",
        "\n",
        "Like the name suggests, **the Vision Transformer (ViT) architecture was designed to adapt the original Transformer architecture to vision problem(s)** (classification being the first and since many others have followed).\n",
        "\n",
        "The original Vision Transformer has been through several iterations over the past couple of years, however, we're going to focus on replicating the original, otherwise known as the \"vanilla Vision Transformer\". Because if you can recreate the original, you can adapt to the others.\n",
        "\n",
        "We're going to be focusing on building the ViT architecture as per the original ViT paper and applying it to FoodVision Mini.\n",
        "\n",
        "| **Topic** | **Contents** |\n",
        "| ----- | ----- |\n",
        "| **[0. Getting setup](https://www.learnpytorch.io/08_pytorch_paper_replicating/#0-getting-setup)** | We've written a fair bit of useful code over the past few sections, let's download it and make sure we can use it again. |\n",
        "| **[1. Get data](https://www.learnpytorch.io/08_pytorch_paper_replicating/#1-get-data)** | Let's get the pizza, steak and sushi image classification dataset we've been using and build a Vision Transformer to try and improve FoodVision Mini model's results. |\n",
        "| **[2. Create Datasets and DataLoaders](https://www.learnpytorch.io/08_pytorch_paper_replicating/#2-create-datasets-and-dataloaders)** | We'll use the `data_setup.py` script we wrote in chapter 05. PyTorch Going Modular to setup our DataLoaders. |\n",
        "| **[3. Replicating the ViT paper: an overview](https://www.learnpytorch.io/08_pytorch_paper_replicating/#3-replicating-the-vit-paper-an-overview)** | Replicating a machine learning research paper can be bit a fair challenge, so before we jump in, let's break the ViT paper down into smaller chunks, so we can replicate the paper chunk by chunk. |\n",
        "| **[4. Equation 1: The Patch Embedding](https://www.learnpytorch.io/08_pytorch_paper_replicating/#4-equation-1-split-data-into-patches-and-creating-the-class-position-and-patch-embedding)** | The ViT architecture is comprised of four main equations, the first being the patch and position embedding. Or turning an image into a sequence of learnable patches. |\n",
        "| **[5. Equation 2: Multi-Head Attention (MSA)](https://www.learnpytorch.io/08_pytorch_paper_replicating/#5-equation-2-multi-head-attention-msa)** | The self-attention/multi-head self-attention (MSA) mechanism is at the heart of every Transformer architecture, including the ViT architecture, let's create an MSA block using PyTorch's in-built layers. |\n",
        "| **[6. Equation 3: Multilayer Perceptron (MLP)](https://www.learnpytorch.io/08_pytorch_paper_replicating/#6-equation-3-multilayer-perceptron-mlp)** | The ViT architecture uses a multilayer perceptron as part of its Transformer Encoder and for its output layer. Let's start by creating an MLP for the Transformer Encoder. |\n",
        "| **[7. Creating the Transformer Encoder](https://www.learnpytorch.io/08_pytorch_paper_replicating/#7-create-the-transformer-encoder)** | A Transformer Encoder is typically comprised of alternating layers of MSA (equation 2) and MLP (equation 3) joined together via residual connections. Let's create one by stacking the layers we created in sections 5 & 6 on top of each other.  |\n",
        "| **[8. Putting it all together to create ViT](https://www.learnpytorch.io/08_pytorch_paper_replicating/#8-putting-it-all-together-to-create-vit)** | We've got all the pieces of the puzzle to create the ViT architecture, let's put them all together into a single class we can call as our model. |\n",
        "| **[9. Setting up training code for our ViT model](https://www.learnpytorch.io/08_pytorch_paper_replicating/#9-setting-up-training-code-for-our-vit-model)** | Training our custom ViT implementation is similar to all of the other models we've trained previously. And thanks to our `train()` function in `engine.py` we can start training with a few lines of code. |\n",
        "| **[10. Using a pretrained ViT from `torchvision.models`](https://www.learnpytorch.io/08_pytorch_paper_replicating/#10-using-a-pretrained-vit-from-torchvisionmodels-on-the-same-dataset)** | Training a large model like ViT usually takes a fair amount of data. Since we're only working with a small amount of pizza, steak and sushi images, let's see if we can leverage the power of transfer learning to improve our performance. |\n",
        "| **[11. Make predictions on a custom image](https://www.learnpytorch.io/08_pytorch_paper_replicating/#11-make-predictions-on-a-custom-image)** | The magic of machine learning is seeing it work on your own data, so let's take our best performing model and put FoodVision Mini to the test on the infamous *pizza-dad* image (a photo of my dad eating pizza). |\n",
        "\n",
        "> **Note:** Despite the fact we're going to be focused on replicating the ViT paper, avoid getting too bogged down on a particular paper as newer better methods will often come along, quickly, so the skill should be to remain curious whilst building the fundamental skills of turning math and words on a page into working code."
      ]
    },
    {
      "cell_type": "markdown",
      "id": "c348ba8b-579f-4707-be16-79557a9d92e1",
      "metadata": {
        "id": "c348ba8b-579f-4707-be16-79557a9d92e1"
      },
      "source": [
        "## Terminology\n",
        "\n",
        "There are going to be a fair few acronyms throughout this notebook.\n",
        "\n",
        "In light of this, here are some definitions:\n",
        "* **ViT** - Stands for Vision Transformer (the main neural network architecture we're going to be focused on replicating).\n",
        "* **ViT paper** - Short hand for the original machine learning research paper that introduced the ViT architecture, [*An Image is Worth 16x16 Words: Transformers for Image Recognition at Scale*](https://arxiv.org/abs/2010.11929), anytime *ViT paper* is mentioned, you can be assured it is referencing this paper."
      ]
    },
    {
      "cell_type": "markdown",
      "id": "cf677bb7-719a-447e-a8e8-c4f287146b62",
      "metadata": {
        "id": "cf677bb7-719a-447e-a8e8-c4f287146b62"
      },
      "source": [
        "## Where can you get help?\n",
        "\n",
        "All of the materials for this course [are available on GitHub](https://github.com/mrdbourke/pytorch-deep-learning).\n",
        "\n",
        "If you run into trouble, you can ask a question on the course [GitHub Discussions page](https://github.com/mrdbourke/pytorch-deep-learning/discussions).\n",
        "\n",
        "And of course, there's the [PyTorch documentation](https://pytorch.org/docs/stable/index.html) and [PyTorch developer forums](https://discuss.pytorch.org/), a very helpful place for all things PyTorch."
      ]
    },
    {
      "cell_type": "markdown",
      "id": "7a8913de-e49e-40c9-89c7-6b847fac9def",
      "metadata": {
        "id": "7a8913de-e49e-40c9-89c7-6b847fac9def"
      },
      "source": [
        "## 0. Getting setup\n",
        "\n",
        "As we've done previously, let's make sure we've got all of the modules we'll need for this section.\n",
        "\n",
        "We'll import the Python scripts (such as `data_setup.py` and `engine.py`) we created in [05. PyTorch Going Modular](https://www.learnpytorch.io/05_pytorch_going_modular/).\n",
        "\n",
        "To do so, we'll download [`going_modular`](https://github.com/mrdbourke/pytorch-deep-learning/tree/main/going_modular) directory from the `pytorch-deep-learning` repository (if we don't already have it).\n",
        "\n",
        "We'll also get the [`torchinfo`](https://github.com/TylerYep/torchinfo) package if it's not available.\n",
        "\n",
        "`torchinfo` will help later on to give us a visual representation of our model.\n",
        "\n",
        "And since later on we'll be using `torchvision` v0.13 package (available as of July 2022), we'll make sure we've got the latest versions."
      ]
    },
    {
      "cell_type": "code",
      "execution_count": null,
      "id": "ebe46d77-6c4d-4102-9994-2cb89f633f18",
      "metadata": {
        "colab": {
          "base_uri": "https://localhost:8080/"
        },
        "id": "ebe46d77-6c4d-4102-9994-2cb89f633f18",
        "outputId": "c2f1ee3a-3bd7-49ef-e332-cecd49517027"
      },
      "outputs": [
        {
          "output_type": "stream",
          "name": "stdout",
          "text": [
            "torch version: 2.4.1+cu121\n",
            "torchvision version: 0.19.1+cu121\n"
          ]
        }
      ],
      "source": [
        "# For this notebook to run with updated APIs, we need torch 1.12+ and torchvision 0.13+\n",
        "try:\n",
        "    import torch\n",
        "    import torchvision\n",
        "    assert int(torch.__version__.split(\".\")[1]) >= 12 or int(torch.__version__.split(\".\")[0]) == 2, \"torch version should be 1.12+\"\n",
        "    assert int(torchvision.__version__.split(\".\")[1]) >= 13, \"torchvision version should be 0.13+\"\n",
        "    print(f\"torch version: {torch.__version__}\")\n",
        "    print(f\"torchvision version: {torchvision.__version__}\")\n",
        "except:\n",
        "    print(f\"[INFO] torch/torchvision versions not as required, installing nightly versions.\")\n",
        "    !pip3 install -U torch torchvision torchaudio --index-url https://download.pytorch.org/whl/cu118\n",
        "    import torch\n",
        "    import torchvision\n",
        "    print(f\"torch version: {torch.__version__}\")\n",
        "    print(f\"torchvision version: {torchvision.__version__}\")"
      ]
    },
    {
      "cell_type": "markdown",
      "id": "30caf875-557e-410f-8dff-bd4a9f6c7ae4",
      "metadata": {
        "id": "30caf875-557e-410f-8dff-bd4a9f6c7ae4"
      },
      "source": [
        "> **Note:** If you're using Google Colab and the cell above starts to install various software packages, you may have to restart your runtime after running the above cell. After restarting, you can run the cell again and verify you've got the right versions of `torch` and `torchvision`.\n",
        "\n",
        "Now we'll continue with the regular imports, setting up device agnostic code and this time we'll also get the [`helper_functions.py`](https://github.com/mrdbourke/pytorch-deep-learning/blob/main/helper_functions.py) script from GitHub.\n",
        "\n",
        "The `helper_functions.py` script contains several functions we created in previous sections:\n",
        "* `set_seeds()` to set the random seeds (created in [07. PyTorch Experiment Tracking section 0](https://www.learnpytorch.io/07_pytorch_experiment_tracking/#create-a-helper-function-to-set-seeds)).\n",
        "* `download_data()` to download a data source given a link (created in [07. PyTorch Experiment Tracking section 1](https://www.learnpytorch.io/07_pytorch_experiment_tracking/#1-get-data)).\n",
        "* `plot_loss_curves()` to inspect our model's training results (created in [04. PyTorch Custom Datasets section 7.8](https://www.learnpytorch.io/04_pytorch_custom_datasets/#78-plot-the-loss-curves-of-model-0))\n",
        "\n",
        "> **Note:** It may be a better idea for many of the functions in the `helper_functions.py` script to be merged into `going_modular/going_modular/utils.py`, perhaps that's an extension you'd like to try.\n"
      ]
    },
    {
      "cell_type": "code",
      "execution_count": null,
      "id": "960eb156-c1b1-4e76-a812-01bf045835bd",
      "metadata": {
        "id": "960eb156-c1b1-4e76-a812-01bf045835bd"
      },
      "outputs": [],
      "source": [
        "# Continue with regular imports\n",
        "import matplotlib.pyplot as plt\n",
        "import torch\n",
        "import torchvision\n",
        "\n",
        "from torch import nn\n",
        "from torchvision import transforms\n",
        "\n",
        "# Try to get torchinfo, install it if it doesn't work\n",
        "try:\n",
        "    from torchinfo import summary\n",
        "except:\n",
        "    print(\"[INFO] Couldn't find torchinfo... installing it.\")\n",
        "    !pip install -q torchinfo\n",
        "    from torchinfo import summary\n",
        "\n",
        "# Try to import the going_modular directory, download it from GitHub if it doesn't work\n",
        "try:\n",
        "    from going_modular.going_modular import data_setup, engine\n",
        "    from helper_functions import download_data, set_seeds, plot_loss_curves\n",
        "except:\n",
        "    # Get the going_modular scripts\n",
        "    print(\"[INFO] Couldn't find going_modular or helper_functions scripts... downloading them from GitHub.\")\n",
        "    !git clone https://github.com/mrdbourke/pytorch-deep-learning\n",
        "    !mv pytorch-deep-learning/going_modular .\n",
        "    !mv pytorch-deep-learning/helper_functions.py . # get the helper_functions.py script\n",
        "    !rm -rf pytorch-deep-learning\n",
        "    from going_modular.going_modular import data_setup, engine\n",
        "    from helper_functions import download_data, set_seeds, plot_loss_curves"
      ]
    },
    {
      "cell_type": "markdown",
      "id": "4f9bdd26-26ac-4756-bd8e-b7a50799f28b",
      "metadata": {
        "id": "4f9bdd26-26ac-4756-bd8e-b7a50799f28b"
      },
      "source": [
        "> **Note:** If you're using Google Colab, and you don't have a GPU turned on yet, it's now time to turn one on via `Runtime -> Change runtime type -> Hardware accelerator -> GPU`."
      ]
    },
    {
      "cell_type": "code",
      "execution_count": null,
      "id": "5e246f92-e509-474e-b6c7-c82cf11cb8ca",
      "metadata": {
        "id": "5e246f92-e509-474e-b6c7-c82cf11cb8ca",
        "outputId": "d12037c5-700e-4644-9b07-ae7f06cfe04d",
        "colab": {
          "base_uri": "https://localhost:8080/",
          "height": 35
        }
      },
      "outputs": [
        {
          "output_type": "execute_result",
          "data": {
            "text/plain": [
              "'cpu'"
            ],
            "application/vnd.google.colaboratory.intrinsic+json": {
              "type": "string"
            }
          },
          "metadata": {},
          "execution_count": 18
        }
      ],
      "source": [
        "device = \"cuda\" if torch.cuda.is_available() else \"cpu\"\n",
        "device"
      ]
    },
    {
      "cell_type": "markdown",
      "id": "5a695192-2644-4aa7-beab-7222a24b1a1a",
      "metadata": {
        "id": "5a695192-2644-4aa7-beab-7222a24b1a1a"
      },
      "source": [
        "## 1. Get Data\n",
        "\n",
        "Since we're continuing on with FoodVision Mini, let's download the pizza, steak and sushi image dataset we've been using.\n",
        "\n",
        "To do so we can use the `download_data()` function from `helper_functions.py` that we created in [07. PyTorch Experiment Tracking section 1](https://www.learnpytorch.io/07_pytorch_experiment_tracking/#1-get-data).\n",
        "\n",
        "We'll `source` to the raw GitHub link of the [`pizza_steak_sushi.zip` data](https://github.com/mrdbourke/pytorch-deep-learning/raw/main/data/pizza_steak_sushi.zip) and the `destination` to `pizza_steak_sushi`."
      ]
    },
    {
      "cell_type": "code",
      "execution_count": null,
      "id": "37b5ffc0-7093-481e-8081-dbdfac4c24f0",
      "metadata": {
        "id": "37b5ffc0-7093-481e-8081-dbdfac4c24f0",
        "outputId": "193f76f5-47e6-4ea1-89b3-56e933ac7f96",
        "colab": {
          "base_uri": "https://localhost:8080/"
        }
      },
      "outputs": [
        {
          "output_type": "stream",
          "name": "stdout",
          "text": [
            "[INFO] data/pizza_steak_sushi directory exists, skipping download.\n"
          ]
        },
        {
          "output_type": "execute_result",
          "data": {
            "text/plain": [
              "PosixPath('data/pizza_steak_sushi')"
            ]
          },
          "metadata": {},
          "execution_count": 27
        }
      ],
      "source": [
        "# # # Download pizza, steak, sushi images from GitHub\n",
        "# image_path = download_data(source=\"https://github.com/mrdbourke/pytorch-deep-learning/raw/main/data/pizza_steak_sushi.zip\",\n",
        "#                            destination=\"pizza_steak_sushi\")\n",
        "# # image_path = download_data(source=\"https://www.cs.toronto.edu/~kriz/cifar-10-python.tar.gz\",\n",
        "# #                            destination=\"cifar-10\")\n",
        "\n",
        "# # image_path=!kaggle datasets download -d {\"pankrzysiu/cifar10-python\"}\n",
        "# image_path"
      ]
    },
    {
      "cell_type": "code",
      "source": [
        "# import os\n",
        "# import tarfile\n",
        "# import requests\n",
        "# from pathlib import Path\n",
        "\n",
        "# def download_data(source, destination):\n",
        "#     destination_path = Path(destination)  # Use pathlib for consistent path handling\n",
        "\n",
        "#     if not destination_path.exists():\n",
        "#         print(f\"[INFO] Did not find {destination} directory, creating one...\")\n",
        "#         destination_path.mkdir(parents=True, exist_ok=True)\n",
        "\n",
        "#     filename = source.split(\"/\")[-1]\n",
        "#     filepath = destination_path / filename  # Use pathlib to join paths\n",
        "\n",
        "#     # Download the dataset\n",
        "#     print(f\"[INFO] Downloading {filename} from {source}...\")\n",
        "#     response = requests.get(source, stream=True)\n",
        "#     with open(filepath, 'wb') as f:\n",
        "#         f.write(response.content)\n",
        "\n",
        "#     # Check if it's a .tar.gz file\n",
        "#     if filename.endswith(\"tar.gz\"):\n",
        "#         print(f\"[INFO] Extracting {filename}...\")\n",
        "#         with tarfile.open(filepath, 'r:gz') as tar:\n",
        "#             tar.extractall(path=destination_path)\n",
        "#         print(f\"[INFO] Extraction completed.\")\n",
        "\n",
        "#     return destination_path  # Return a Path object\n",
        "\n",
        "# # Example usage:\n",
        "# image_path = download_data(source=\"https://www.cs.toronto.edu/~kriz/cifar-10-python.tar.gz\",\n",
        "#                            destination=\"pizza_steak_sushi\")\n",
        "\n",
        "# image_path\n"
      ],
      "metadata": {
        "id": "oipr_eg_mWhN"
      },
      "id": "oipr_eg_mWhN",
      "execution_count": null,
      "outputs": []
    },
    {
      "cell_type": "markdown",
      "id": "55a047b1-9f12-4dcf-8d97-83b7cbb37392",
      "metadata": {
        "id": "55a047b1-9f12-4dcf-8d97-83b7cbb37392"
      },
      "source": [
        "Beautiful! Data downloaded, let's setup the training and test directories."
      ]
    },
    {
      "cell_type": "code",
      "execution_count": null,
      "id": "92a426b6-df22-4a58-9d5e-b382c73c6048",
      "metadata": {
        "id": "92a426b6-df22-4a58-9d5e-b382c73c6048",
        "colab": {
          "base_uri": "https://localhost:8080/"
        },
        "outputId": "a30a27df-cf85-4ab6-8a46-11bdc15e32ab"
      },
      "outputs": [
        {
          "output_type": "execute_result",
          "data": {
            "text/plain": [
              "(PosixPath('data/pizza_steak_sushi/train'),\n",
              " PosixPath('data/pizza_steak_sushi/test'))"
            ]
          },
          "metadata": {},
          "execution_count": 28
        }
      ],
      "source": [
        "# # Setup directory paths to train and test images\n",
        "# train_dir = image_path / \"train\"\n",
        "# test_dir = image_path / \"test\"\n",
        "# train_dir,test_dir"
      ]
    },
    {
      "cell_type": "code",
      "source": [
        "# # Setup directory paths to train and test images\n",
        "# train_dir = image_path / \"train\"\n",
        "# test_dir = image_path / \"test\"\n",
        "# train_dir,test_dir"
      ],
      "metadata": {
        "id": "emdIn6I4m6tl"
      },
      "id": "emdIn6I4m6tl",
      "execution_count": null,
      "outputs": []
    },
    {
      "cell_type": "markdown",
      "id": "d6fce58f-0f0b-48ef-a9b6-1ef3ca09380d",
      "metadata": {
        "id": "d6fce58f-0f0b-48ef-a9b6-1ef3ca09380d"
      },
      "source": [
        "## 2. Create Datasets and DataLoaders\n",
        "\n",
        "Now we've got some data, let's now turn it into `DataLoader`'s.\n",
        "\n",
        "To do so we can use the `create_dataloaders()` function in [`data_setup.py`](https://github.com/mrdbourke/pytorch-deep-learning/blob/main/going_modular/going_modular/data_setup.py).\n",
        "\n",
        "First, we'll create a transform to prepare our images.\n",
        "\n",
        "This where one of the first references to the ViT paper will come in.\n",
        "\n",
        "In Table 3, the training resolution is mentioned as being 224 (height=224, width=224).\n",
        "\n",
        "<img src=\"https://raw.githubusercontent.com/mrdbourke/pytorch-deep-learning/main/images/08-vit-paper-image-size-and-batch-size.png\" width=900 alt=\"Table 3 from the Vision Transformer paper showing the image size and batch size\"/>\n",
        "\n",
        "*You can often find various hyperparameter settings listed in a table. In this case we're still preparing our data, so we're mainly concerned with things like image size and batch size. Source: Table 3 in [ViT paper](https://arxiv.org/abs/2010.11929).*\n",
        "\n",
        "So we'll make sure our transform resizes our images appropriately.\n",
        "\n",
        "And since we'll be training our model from scratch (no transfer learning to begin with), we won't provide a `normalize` transform like we did in [06. PyTorch Transfer Learning section 2.1](https://www.learnpytorch.io/06_pytorch_transfer_learning/#21-creating-a-transform-for-torchvisionmodels-manual-creation).\n",
        "\n",
        "### 2.1 Prepare transforms for images"
      ]
    },
    {
      "cell_type": "code",
      "execution_count": null,
      "id": "a45ea650-c3fa-479c-8767-48bc3a1f1267",
      "metadata": {
        "id": "a45ea650-c3fa-479c-8767-48bc3a1f1267",
        "outputId": "3531c0cd-0a86-4a8f-a36d-802b20485bd3",
        "colab": {
          "base_uri": "https://localhost:8080/"
        }
      },
      "outputs": [
        {
          "output_type": "stream",
          "name": "stdout",
          "text": [
            "Manually created transforms: Compose(\n",
            "    Resize(size=(224, 224), interpolation=bilinear, max_size=None, antialias=True)\n",
            "    ToTensor()\n",
            ")\n"
          ]
        }
      ],
      "source": [
        "# Create image size (from Table 3 in the ViT paper)\n",
        "IMG_SIZE = 224\n",
        "\n",
        "# Create transform pipeline manually\n",
        "manual_transforms = transforms.Compose([\n",
        "    transforms.Resize((IMG_SIZE, IMG_SIZE)),\n",
        "    transforms.ToTensor(),\n",
        "])\n",
        "print(f\"Manually created transforms: {manual_transforms}\")"
      ]
    },
    {
      "cell_type": "code",
      "source": [
        "import torch\n",
        "from torchvision import datasets, transforms\n",
        "from torch.utils.data import DataLoader\n",
        "\n",
        "train_data = datasets.CIFAR10(root='cifar-10', train=True, download=True, transform=manual_transforms)\n",
        "test_data = datasets.CIFAR10(root='cifar-10', train=False, download=True, transform=manual_transforms)\n",
        "\n"
      ],
      "metadata": {
        "colab": {
          "base_uri": "https://localhost:8080/"
        },
        "id": "4hsqtD-xoAOJ",
        "outputId": "6e571ab7-47f5-4cce-f6a7-48f1e2b9e824"
      },
      "id": "4hsqtD-xoAOJ",
      "execution_count": null,
      "outputs": [
        {
          "output_type": "stream",
          "name": "stdout",
          "text": [
            "Files already downloaded and verified\n",
            "Files already downloaded and verified\n"
          ]
        }
      ]
    },
    {
      "cell_type": "markdown",
      "id": "437078c2-eb42-471f-8561-94845d0a878d",
      "metadata": {
        "id": "437078c2-eb42-471f-8561-94845d0a878d"
      },
      "source": [
        "### 2.2 Turn images into `DataLoader`'s\n",
        "Transforms created!\n",
        "\n",
        "Let's now create our `DataLoader`'s.\n",
        "\n",
        "The ViT paper states the use of a batch size of 4096 which is 128x the size of the batch size we've been using (32).\n",
        "\n",
        "However, we're going to stick with a batch size of 32.\n",
        "\n",
        "Why?\n",
        "\n",
        "Because some hardware (including the free tier of Google Colab) may not be able to handle a batch size of 4096.\n",
        "\n",
        "Having a batch size of 4096 means that 4096 images need to fit into the GPU memory at a time.\n",
        "\n",
        "This works when you've got the hardware to handle it like a research team from Google often does but when you're running on a single GPU (such as using Google Colab), making sure things work with smaller batch size first is a good idea.\n",
        "\n",
        "An extension of this project could be to try a higher batch size value and see what happens.\n",
        "\n",
        "> **Note:** We're using the `pin_memory=True` parameter in the `create_dataloaders()` function to speed up computation. `pin_memory=True` avoids unnecessary copying of memory between the CPU and GPU memory by \"pinning\" examples that have been seen before. Though the benefits of this will likely be seen with larger dataset sizes (our FoodVision Mini dataset is quite small). However, setting `pin_memory=True` doesn't *always* improve performance (this is another one of those we're scenarios in machine learning where some things work sometimes and don't other times), so best to *experiment, experiment, experiment*. See the PyTorch [`torch.utils.data.DataLoader` documentation](https://pytorch.org/docs/stable/data.html#torch.utils.data.DataLoader) or [Making Deep Learning Go Brrrr from First Principles](https://horace.io/brrr_intro.html) by Horace He for more."
      ]
    },
    {
      "cell_type": "code",
      "execution_count": null,
      "id": "d0ac8145-f89a-490f-82e3-d4b22225d163",
      "metadata": {
        "id": "d0ac8145-f89a-490f-82e3-d4b22225d163",
        "outputId": "f58c7f7c-47e2-41c8-ba29-1d2f256faa6c",
        "colab": {
          "base_uri": "https://localhost:8080/"
        }
      },
      "outputs": [
        {
          "output_type": "execute_result",
          "data": {
            "text/plain": [
              "(<torch.utils.data.dataloader.DataLoader at 0x7a6e5741dd20>,\n",
              " <torch.utils.data.dataloader.DataLoader at 0x7a6e6305a800>,\n",
              " ['airplane',\n",
              "  'automobile',\n",
              "  'bird',\n",
              "  'cat',\n",
              "  'deer',\n",
              "  'dog',\n",
              "  'frog',\n",
              "  'horse',\n",
              "  'ship',\n",
              "  'truck'])"
            ]
          },
          "metadata": {},
          "execution_count": 87
        }
      ],
      "source": [
        "# Set the batch size\n",
        "BATCH_SIZE = 32 # this is lower than the ViT paper but it's because we're starting small\n",
        "\n",
        "# Create data loaders\n",
        "# train_dataloader, test_dataloader, class_names = data_setup.create_dataloaders(\n",
        "#     train_dir=train_dir,\n",
        "#     test_dir=test_dir,\n",
        "#     transform=manual_transforms, # use manually created transforms\n",
        "#     batch_size=BATCH_SIZE\n",
        "# )\n",
        "train_dataloader = DataLoader(train_data, batch_size=32, shuffle=True)\n",
        "test_dataloader = DataLoader(test_data, batch_size=32, shuffle=False)\n",
        "\n",
        "# Get class names\n",
        "class_names = train_data.classes\n",
        "\n",
        "# train_dataloader, test_dataloader, class_names\n",
        "\n",
        "train_dataloader, test_dataloader, class_names"
      ]
    },
    {
      "cell_type": "markdown",
      "id": "4a980a5b-0c3b-440d-87f5-c54f1ab143ab",
      "metadata": {
        "id": "4a980a5b-0c3b-440d-87f5-c54f1ab143ab"
      },
      "source": [
        "### 2.3 Visualize a single image\n",
        "\n",
        "Now we've loaded our data, let's *visualize, visualize, visualize!*\n",
        "\n",
        "An important step in the ViT paper is preparing the images into patches.\n",
        "\n",
        "We'll get to what this means in [section 4](https://www.learnpytorch.io/08_pytorch_paper_replicating/#4-equation-1-split-data-into-patches-and-creating-the-class-position-and-patch-embedding) but for now, let's view a single image and its label.\n",
        "\n",
        "To do so, let's get a single image and label from a batch of data and inspect their shapes."
      ]
    },
    {
      "cell_type": "code",
      "execution_count": null,
      "id": "b5734a22-ded5-403e-84f5-d7a90ed3f085",
      "metadata": {
        "id": "b5734a22-ded5-403e-84f5-d7a90ed3f085",
        "outputId": "bc12d48c-b757-47a6-b531-7ea57f0b9697",
        "colab": {
          "base_uri": "https://localhost:8080/"
        }
      },
      "outputs": [
        {
          "output_type": "execute_result",
          "data": {
            "text/plain": [
              "(torch.Size([3, 224, 224]), tensor(5))"
            ]
          },
          "metadata": {},
          "execution_count": 88
        }
      ],
      "source": [
        "# Get a batch of images\n",
        "image_batch, label_batch = next(iter(train_dataloader))\n",
        "\n",
        "# Get a single image from the batch\n",
        "image, label = image_batch[0], label_batch[0]\n",
        "\n",
        "# View the batch shapes\n",
        "image.shape, label"
      ]
    },
    {
      "cell_type": "markdown",
      "id": "898cbb6d-b433-41be-9280-41de129077df",
      "metadata": {
        "id": "898cbb6d-b433-41be-9280-41de129077df"
      },
      "source": [
        "Wonderful!\n",
        "\n",
        "Now let's plot the image and its label with `matplotlib`."
      ]
    },
    {
      "cell_type": "code",
      "execution_count": null,
      "id": "afe85fae-38fd-4f34-a52c-29d02cce09c1",
      "metadata": {
        "id": "afe85fae-38fd-4f34-a52c-29d02cce09c1",
        "outputId": "73045445-04d6-483e-b3d3-10ba6cd9d024",
        "colab": {
          "base_uri": "https://localhost:8080/",
          "height": 428
        }
      },
      "outputs": [
        {
          "output_type": "display_data",
          "data": {
            "text/plain": [
              "<Figure size 640x480 with 1 Axes>"
            ],
            "image/png": "[encoded data removed]"
          },
          "metadata": {}
        }
      ],
      "source": [
        "# Plot image with matplotlib\n",
        "plt.imshow(image.permute(1, 2, 0)) # rearrange image dimensions to suit matplotlib [color_channels, height, width] -> [height, width, color_channels]\n",
        "plt.title(class_names[label])\n",
        "plt.axis(False);"
      ]
    },
    {
      "cell_type": "markdown",
      "id": "4b8416fa-fb0c-4276-8405-12531ba78b71",
      "metadata": {
        "id": "4b8416fa-fb0c-4276-8405-12531ba78b71"
      },
      "source": [
        "Nice!\n",
        "\n",
        "Looks like our images are importing correctly, let's continue with the paper replication."
      ]
    },
    {
      "cell_type": "markdown",
      "id": "13bfb028-1afa-44ec-89e9-8890975311ea",
      "metadata": {
        "id": "13bfb028-1afa-44ec-89e9-8890975311ea"
      },
      "source": [
        "## 3. Replicating the ViT paper: an overview\n",
        "\n",
        "Before we write any more code, let's discuss what we're doing.\n",
        "\n",
        "We'd like to replicate the ViT paper for our own problem, FoodVision Mini.\n",
        "\n",
        "So our **model inputs** are: images of pizza, steak and sushi.\n",
        "\n",
        "And our ideal **model outputs** are: predicted labels of pizza, steak or sushi.\n",
        "\n",
        "No different to what we've been doing throughout the previous sections.\n",
        "\n",
        "The question is: how do we go from our inputs to the desired outputs?"
      ]
    },
    {
      "cell_type": "markdown",
      "id": "6e7f0a12-cce9-45d0-a572-4ad612a98735",
      "metadata": {
        "id": "6e7f0a12-cce9-45d0-a572-4ad612a98735"
      },
      "source": [
        "### 3.1 Inputs and outputs, layers and blocks\n",
        "\n",
        "ViT is a deep learning neural network architecture.\n",
        "\n",
        "And any neural network architecture is generally comprised of **layers**.\n",
        "\n",
        "And a collection of layers is often referred to as a **block**.\n",
        "\n",
        "And stacking many blocks together is what gives us the whole architecture.\n",
        "\n",
        "A **layer** takes an input (say an image tensor), performs some kind of function on it (for example what's in the layer's `forward()` method) and then returns an output.\n",
        "\n",
        "So if a **single layer** takes an input and gives an output, then a collection of layers or a **block** also takes an input and gives an output.\n",
        "\n",
        "Let's make this concrete:\n",
        "* **Layer** - takes an input, performs a function on it, returns an output.\n",
        "* **Block** - a collection of layers, takes an input, performs a series of functions on it, returns an output.\n",
        "* **Architecture (or model)** - a collection of blocks, takes an input, performs a series of functions on it, returns an output.\n",
        "\n",
        "This ideology is what we're going to be using to replicate the ViT paper.\n",
        "\n",
        "We're going to take it layer by layer, block by block, function by function putting the pieces of the puzzle together like Lego to get our desired overall architecture.\n",
        "\n",
        "The reason we do this is because looking at a whole research paper can be intimidating.\n",
        "\n",
        "So for a better understanding, we'll break it down, starting with the inputs and outputs of single layer and working up to the inputs and outputs of the whole model.\n",
        "\n",
        "<img src=\"https://raw.githubusercontent.com/mrdbourke/pytorch-deep-learning/main/images/08-vit-paper-intputs-outputs-layers-and-blocks.png\" alt=\"inputs and outputs, layers and blocks of a model\" width=900/>\n",
        "\n",
        "*A modern deep learning architecture is usually collection of layers and blocks. Where layers take an input (data as a numerical representation) and manipulate it using some kind of function (for example, the self-attention formula pictured above, however, this function could be almost anything) and then output it. Blocks are generally stacks of layers on top of each other doing a similar thing to a single layer but multiple times.*"
      ]
    },
    {
      "cell_type": "markdown",
      "id": "c2852f3f-61f0-4dad-ae8c-49db54e28470",
      "metadata": {
        "id": "c2852f3f-61f0-4dad-ae8c-49db54e28470"
      },
      "source": [
        "### 3.2 Getting specific: What's ViT made of?\n",
        "\n",
        "There are many little details about the ViT model sprinkled throughout the paper.\n",
        "\n",
        "Finding them all is like one big treasure hunt!\n",
        "\n",
        "Remember, a research paper is often months of work compressed into a few pages so it's understandable for it to take of practice to replicate.\n",
        "\n",
        "However, the main three resources we'll be looking at for the architecture design are:\n",
        "1. **Figure 1** - This gives an overview of the model in a graphical sense, you could *almost* recreate the architecture with this figure alone.\n",
        "2. **Four equations in section 3.1** - These equations give a little bit more of a mathematical grounding to the coloured blocks in Figure 1.\n",
        "3. **Table 1** - This table shows the various hyperparameter settings (such as number of layers and number of hidden units) for different ViT model variants. We'll be focused on the smallest version, ViT-Base."
      ]
    },
    {
      "cell_type": "markdown",
      "id": "4c90c4c0-0039-4790-a25b-f14754e6b468",
      "metadata": {
        "id": "4c90c4c0-0039-4790-a25b-f14754e6b468"
      },
      "source": [
        "#### 3.2.1 Exploring Figure 1\n",
        "\n",
        "Let's start by going through Figure 1 of the ViT Paper.\n",
        "\n",
        "The main things we'll be paying attention to are:\n",
        "1. **Layers** - takes an **input**, performs an operation or function on the input, produces an **output**.\n",
        "2. **Blocks** - a collection of layers, which in turn also takes an **input** and produces an **output**.\n",
        "\n",
        "<img src=\"https://raw.githubusercontent.com/mrdbourke/pytorch-deep-learning/main/images/08-vit-paper-figure-1-inputs-and-outputs.png\" width=900 alt=\"figure 1 from the original vision transformer paper\"/>\n",
        "\n",
        "*Figure 1 from the ViT Paper showcasing the different inputs, outputs, layers and blocks that create the architecture. Our goal will be to replicate each of these using PyTorch code.*\n",
        "\n",
        "The ViT architecture is comprised of several stages:\n",
        "* **Patch + Position Embedding (inputs)** - Turns the input image into a sequence of image patches and adds a position number to specify in what order the patch comes in.\n",
        "* **Linear projection of flattened patches (Embedded Patches)** - The image patches get turned into an **embedding**, the benefit of using an embedding rather than just the image values is that an embedding is a *learnable* representation (typically in the form of a vector) of the image that can improve with training.\n",
        "* **Norm** - This is short for \"[Layer Normalization](https://paperswithcode.com/method/layer-normalization)\" or \"LayerNorm\", a technique for regularizing (reducing overfitting) a neural network, you can use LayerNorm via the PyTorch layer [`torch.nn.LayerNorm()`](https://pytorch.org/docs/stable/generated/torch.nn.LayerNorm.html).\n",
        "* **Multi-Head Attention** - This is a [Multi-Headed Self-Attention layer](https://paperswithcode.com/method/multi-head-attention) or \"MSA\" for short. You can create an MSA layer via the PyTorch layer [`torch.nn.MultiheadAttention()`](https://pytorch.org/docs/stable/generated/torch.nn.MultiheadAttention.html).\n",
        "* **MLP (or [Multilayer perceptron](https://en.wikipedia.org/wiki/Multilayer_perceptron))** - A MLP can often refer to any collection of feedforward layers (or in PyTorch's case, a collection of layers with a `forward()` method). In the ViT Paper, the authors refer to the MLP as \"MLP block\" and it contains two [`torch.nn.Linear()`](https://pytorch.org/docs/stable/generated/torch.nn.Linear.html) layers with a [`torch.nn.GELU()`](https://pytorch.org/docs/stable/generated/torch.nn.GELU.html) non-linearity activation in between them (section 3.1) and a [`torch.nn.Dropout()`](https://pytorch.org/docs/stable/generated/torch.nn.Dropout.html) layer after each (Appendix B.1).\n",
        "* **Transformer Encoder** - The Transformer Encoder, is a collection of the layers listed above. There are two skip connections inside the Transformer encoder (the \"+\" symbols) meaning the layer's inputs are fed directly to immediate layers as well as subsequent layers. The overall ViT architecture is comprised of a number of Transformer encoders stacked on top of eachother.\n",
        "* **MLP Head** - This is the output layer of the architecture, it converts the learned features of an input to a class output. Since we're working on image classification, you could also call this the \"classifier head\". The structure of the MLP Head is similar to the MLP block.\n",
        "\n",
        "You might notice that many of the pieces of the ViT architecture can be created with existing PyTorch layers.\n",
        "\n",
        "This is because of how PyTorch is designed, it's one of the main purposes of PyTorch to create reusable neural network layers for both researchers and machine learning practitioners.\n",
        "\n",
        "> **Question:** Why not code everything from scratch?\n",
        ">\n",
        "> You could definitely do that by reproducing all of the math equations from the paper with custom PyTorch layers and that would certainly be an educative exercise, however, using pre-existing PyTorch layers is usually preferred as pre-existing layers have often been extensively tested and performance checked to make sure they run correctly and fast.\n",
        "\n",
        "> **Note:** We're going to be focused on writing PyTorch code to create these layers. For the background on what each of these layers does, I'd suggest reading the ViT Paper in full or reading the linked resources for each layer.\n",
        "\n",
        "Let's take Figure 1 and adapt it to our FoodVision Mini problem of classifying images of food into pizza, steak or sushi.\n",
        "\n",
        "<img src=\"https://raw.githubusercontent.com/mrdbourke/pytorch-deep-learning/main/images/08-vit-paper-figure-1-inputs-and-outputs-food-mini.png\" width=900 alt=\"figure 1 from the original vision transformer paper adapted to work with food images, an image of pizza goes in and gets classified as 'pizza'\"/>\n",
        "\n",
        "*Figure 1 from the ViT Paper adapted for use with FoodVision Mini. An image of food goes in (pizza), the image gets turned into patches and then projected to an embedding. The embedding then travels through the various layers and blocks and (hopefully) the class \"pizza\" is returned.*"
      ]
    },
    {
      "cell_type": "markdown",
      "id": "d95ff18c-9df1-45fa-a22d-9eca72160b6e",
      "metadata": {
        "id": "d95ff18c-9df1-45fa-a22d-9eca72160b6e"
      },
      "source": [
        "#### 3.2.2 Exploring the Four Equations\n",
        "\n",
        "The next main part(s) of the ViT paper we're going to look at are the four equations in section 3.1.\n",
        "\n",
        "<img src=\"https://raw.githubusercontent.com/mrdbourke/pytorch-deep-learning/main/images/08-vit-paper-four-equations.png\" width=650 alt=\"four mathematical equations from the vision transformer machine learning paper\"/>\n",
        "\n",
        "*These four equations represent the math behind the four major parts of the ViT architecture.*\n",
        "\n",
        "Section 3.1 describes each of these (some of the text has been omitted for brevity, bolded text is mine):\n",
        "\n",
        "| **Equation number** | **Description from ViT paper section 3.1** |\n",
        "| ----- | ----- |\n",
        "| 1 | ...The Transformer uses constant latent vector size $D$ through all of its layers, so we flatten the patches and map to $D$ dimensions with a **trainable linear projection** (Eq. 1). We refer to the output of this projection as the **patch embeddings**... **Position embeddings** are added to the patch embeddings to retain positional information. We use standard **learnable 1D position embeddings**...|\n",
        "| 2 | The Transformer encoder (Vaswani et al., 2017) consists of alternating layers of multiheaded selfattention (MSA, see Appendix A) and MLP blocks (Eq. 2, 3). **Layernorm (LN) is applied before every block**, and **residual connections after every block** (Wang et al., 2019; Baevski & Auli, 2019). |\n",
        "| 3 | Same as equation 2. |\n",
        "| 4 | Similar to BERT's [ class ] token, we **prepend a learnable embedding to the sequence of embedded patches** $\\left(\\mathbf{z}_{0}^{0}=\\mathbf{x}_{\\text {class }}\\right)$, whose state at the output of the Transformer encoder $\\left(\\mathbf{z}_{L}^{0}\\right)$ serves as the image representation $\\mathbf{y}$ (Eq. 4)... |\n",
        "\n",
        "Let's map these descriptions to the ViT architecture in Figure 1.\n",
        "\n",
        "<img src=\"https://raw.githubusercontent.com/mrdbourke/pytorch-deep-learning/main/images/08-vit-paper-mapping-the-four-equations-to-figure-1.png\" width=1000 alt=\"mapping the vision transformer paper figure 1 to the four equations listed in the paper\"/>\n",
        "\n",
        "*Connecting Figure 1 from the ViT paper to the four equations from section 3.1 describing the math behind each of the layers/blocks.*\n",
        "\n",
        "There's a lot happening in the image above but following the coloured lines and arrows reveals the main concepts of the ViT architecture.\n",
        "\n",
        "How about we break down each equation further (it will be our goal to recreate these with code)?\n",
        "\n",
        "In all equations (except equation 4), \"$\\mathbf{z}$\" is the raw output of a particular layer:\n",
        "\n",
        "1. $\\mathbf{z}_{0}$ is \"z zero\" (this is the output of the initial patch embedding layer).\n",
        "2. $\\mathbf{z}_{\\ell}^{\\prime}$ is \"z of a particular layer *prime*\" (or an intermediary value of z).\n",
        "3. $\\mathbf{z}_{\\ell}$ is \"z of a particular layer\".\n",
        "\n",
        "And $\\mathbf{y}$ is the overall output of the architecture."
      ]
    },
    {
      "cell_type": "markdown",
      "id": "57bb31fb-cdf1-45a4-a09e-2d067370d601",
      "metadata": {
        "id": "57bb31fb-cdf1-45a4-a09e-2d067370d601"
      },
      "source": [
        "#### 3.2.3 Equation 1 overview\n",
        "\n",
        "$$\n",
        "\\begin{aligned}\n",
        "\\mathbf{z}_{0} &=\\left[\\mathbf{x}_{\\text {class }} ; \\mathbf{x}_{p}^{1} \\mathbf{E} ; \\mathbf{x}_{p}^{2} \\mathbf{E} ; \\cdots ; \\mathbf{x}_{p}^{N} \\mathbf{E}\\right]+\\mathbf{E}_{\\text {pos }}, & & \\mathbf{E} \\in \\mathbb{R}^{\\left(P^{2} \\cdot C\\right) \\times D}, \\mathbf{E}_{\\text {pos }} \\in \\mathbb{R}^{(N+1) \\times D}\n",
        "\\end{aligned}\n",
        "$$\n",
        "\n",
        "This equation deals with the class token, patch embedding and position embedding ($\\mathbf{E}$ is for embedding) of the input image.\n",
        "\n",
        "In vector form, the embedding might look something like:\n",
        "\n",
        "```python\n",
        "x_input = [class_token, image_patch_1, image_patch_2, image_patch_3...] + [class_token_position, image_patch_1_position, image_patch_2_position, image_patch_3_position...]\n",
        "```\n",
        "\n",
        "Where each of the elements in the vector is learnable (their `requires_grad=True`)."
      ]
    },
    {
      "cell_type": "markdown",
      "id": "00db59a6-61d9-4447-b92b-80b75027f7d9",
      "metadata": {
        "id": "00db59a6-61d9-4447-b92b-80b75027f7d9"
      },
      "source": [
        "#### 3.2.4 Equation 2 overview\n",
        "\n",
        "$$\n",
        "\\begin{aligned}\n",
        "\\mathbf{z}_{\\ell}^{\\prime} &=\\operatorname{MSA}\\left(\\operatorname{LN}\\left(\\mathbf{z}_{\\ell-1}\\right)\\right)+\\mathbf{z}_{\\ell-1}, & & \\ell=1 \\ldots L\n",
        "\\end{aligned}\n",
        "$$\n",
        "\n",
        "This says that for every layer from $1$ through to $L$ (the total number of layers), there's a Multi-Head Attention layer (MSA) wrapping a LayerNorm layer (LN).\n",
        "\n",
        "The addition on the end is the equivalent of adding the input to the output and forming a [skip/residual connection](https://paperswithcode.com/method/residual-connection).\n",
        "\n",
        "We'll call this layer the \"MSA block\".\n",
        "\n",
        "In pseudocode, this might look like:\n",
        "\n",
        "```python\n",
        "x_output_MSA_block = MSA_layer(LN_layer(x_input)) + x_input\n",
        "```\n",
        "\n",
        "Notice the skip connection on the end (adding the input of the layers to the output of the layers)."
      ]
    },
    {
      "cell_type": "markdown",
      "id": "c2ea68c1-4172-43c3-9a8a-d7632b0ab8c3",
      "metadata": {
        "id": "c2ea68c1-4172-43c3-9a8a-d7632b0ab8c3"
      },
      "source": [
        "#### 3.2.5 Equation 3 overview\n",
        "\n",
        "$$\n",
        "\\begin{aligned}\n",
        "\\mathbf{z}_{\\ell} &=\\operatorname{MLP}\\left(\\operatorname{LN}\\left(\\mathbf{z}_{\\ell}^{\\prime}\\right)\\right)+\\mathbf{z}_{\\ell}^{\\prime}, & & \\ell=1 \\ldots L \\\\\n",
        "\\end{aligned}\n",
        "$$\n",
        "\n",
        "This says that for every layer from $1$ through to $L$ (the total number of layers), there's also a Multilayer Perceptron layer (MLP) wrapping a LayerNorm layer (LN).\n",
        "\n",
        "The addition on the end is showing the presence of a skip/residual connection.\n",
        "\n",
        "We'll call this layer the \"MLP block\".\n",
        "\n",
        "In pseudocode, this might look like:\n",
        "\n",
        "```python\n",
        "x_output_MLP_block = MLP_layer(LN_layer(x_output_MSA_block)) + x_output_MSA_block\n",
        "```\n",
        "\n",
        "Notice the skip connection on the end (adding the input of the layers to the output of the layers)."
      ]
    },
    {
      "cell_type": "markdown",
      "id": "98617f81-7edb-41bd-a371-b5e81dffbee4",
      "metadata": {
        "id": "98617f81-7edb-41bd-a371-b5e81dffbee4"
      },
      "source": [
        "#### 3.2.6 Equation 4 overview\n",
        "\n",
        "$$\n",
        "\\begin{aligned}\n",
        "\\mathbf{y} &=\\operatorname{LN}\\left(\\mathbf{z}_{L}^{0}\\right) & &\n",
        "\\end{aligned}\n",
        "$$\n",
        "\n",
        "This says for the last layer $L$, the output $y$ is the 0 index token of $z$ wrapped in a LayerNorm layer (LN).\n",
        "\n",
        "Or in our case, the 0 index of `x_output_MLP_block`:\n",
        "\n",
        "```python\n",
        "y = Linear_layer(LN_layer(x_output_MLP_block[0]))\n",
        "```\n",
        "\n",
        "Of course there are some simplifications above but we'll take care of those when we start to write PyTorch code for each section.\n",
        "\n",
        "> **Note:** The above section covers alot of information. But don't forget if something doesn't make sense, you can always research it further. By asking questions like \"what is a residual connection?\"."
      ]
    },
    {
      "cell_type": "markdown",
      "id": "cd36899e-5bc7-411a-aab7-28e3a5a2c6cb",
      "metadata": {
        "id": "cd36899e-5bc7-411a-aab7-28e3a5a2c6cb"
      },
      "source": [
        "#### 3.2.7 Exploring Table 1\n",
        "\n",
        "The final piece of the ViT architecture puzzle we'll focus on (for now) is Table 1.\n",
        "\n",
        "| Model | Layers | Hidden size $D$ | MLP size | Heads | Params |\n",
        "| :--- | :---: | :---: | :---: | :---: | :---: |\n",
        "| ViT-Base | 12 | 768 | 3072 | 12 | $86M$ |\n",
        "| ViT-Large | 24 | 1024 | 4096 | 16 | $307M$ |\n",
        "| ViT-Huge | 32 | 1280 | 5120 | 16 | $632M$ |\n",
        "\n",
        "<div align=center>\n",
        "    <i>Table 1: Details of Vision Transformer model variants. Source: <a href=\"https://arxiv.org/abs/2010.11929\">ViT paper</a>.</i>\n",
        "</div>\n",
        "<br>\n",
        "\n",
        "This table showcasing the various hyperparameters of each of the ViT architectures.\n",
        "\n",
        "You can see the numbers gradually increase from ViT-Base to ViT-Huge.\n",
        "\n",
        "We're going to focus on replicating ViT-Base (start small and scale up when necessary) but we'll be writing code that could easily scale up to the larger variants.\n",
        "\n",
        "Breaking the hyperparameters down:\n",
        "* **Layers** - How many Transformer Encoder blocks are there? (each of these will contain a MSA block and MLP block)\n",
        "* **Hidden size $D$** - This is the embedding dimension throughout the architecture, this will be the size of the vector that our image gets turned into when it gets patched and embedded. Generally, the larger the embedding dimension, the more information can be captured, the better results. However, a larger embedding comes at the cost of more computation.\n",
        "* **MLP size** - What are the number of hidden units in the MLP layers?\n",
        "* **Heads** - How many heads are there in the Multi-Head Attention layers?\n",
        "* **Params** - What are the total number of parameters of the model? Generally, more parameters leads to better performance but at the cost of more computation. You'll notice even ViT-Base has far more parameters than any other model we've used so far.\n",
        "\n",
        "We'll use these values as the hyperparameter settings for our ViT architecture."
      ]
    },
    {
      "cell_type": "markdown",
      "id": "d9aedd15-5a98-431e-bd9e-9d18616e4bff",
      "metadata": {
        "id": "d9aedd15-5a98-431e-bd9e-9d18616e4bff"
      },
      "source": [
        "### 3.3 My workflow for replicating papers\n",
        "\n",
        "When I start working on replicating a paper, I go through the following steps:\n",
        "\n",
        "1. Read the whole paper end-to-end once (to get an idea of the main concepts).\n",
        "2. Go back through each section and see how they line up with each other and start thinking about how they might be turned into code (just like above).\n",
        "3. Repeat step 2 until I've got a fairly good outline.\n",
        "4. Use [mathpix.com](https://mathpix.com/) (a very handy tool) to turn any sections of the paper into markdown/LaTeX to put into notebooks.\n",
        "5. Replicate the simplest version of the model possible.\n",
        "6. If I get stuck, look up other examples.\n",
        "\n",
        "<img src=\"https://github.com/mrdbourke/pytorch-deep-learning/raw/main/images/08-vit-paper-mathpix-demo.gif\" width=900 alt=\"using mathpix.com to turn text from a machine learning research paper (PDF) into editable LaTeX\"/>\n",
        "\n",
        "*Turning the four equations from the ViT paper into editable LaTeX/markdown using [mathpix.com](https://mathpix.com/).*\n",
        "\n",
        "We've already gone through the first few steps above (and if you haven't read the full paper yet, I'd encourage you to give it a go) but what we'll be focusing on next is step 5: replicating the simplest version of the model possible.\n",
        "\n",
        "This is why we're starting with ViT-Base.\n",
        "\n",
        "Replicating the smallest version of the architecture possible, get it working and then we can scale up if we wanted to.\n",
        "\n",
        "> **Note:** If you've never read a research paper before, many of the above steps can be intimidating. But don't worry, like anything, your skills at reading *and* replicating papers will improve with practice. Don't forget, a research paper is often *months* of work by many people compressed into a few pages. So trying to replicate it on your own is no small feat."
      ]
    },
    {
      "cell_type": "markdown",
      "id": "9f1717f5-f6bc-4cce-b5eb-093822da988d",
      "metadata": {
        "id": "9f1717f5-f6bc-4cce-b5eb-093822da988d",
        "tags": []
      },
      "source": [
        "## 4. Equation 1: Split data into patches and creating the class, position and patch embedding\n",
        "\n",
        "I remember one of my machine learning engineer friends used to say \"it's all about the embedding.\"\n",
        "\n",
        "As in, if you can represent your data in a good, learnable way (as **embeddings are learnable representations**), chances are, a learning algorithm will be able to perform well on them.\n",
        "\n",
        "With that being said, let's start by creating the class, position and patch embeddings for the ViT architecture.\n",
        "\n",
        "We'll start with the **patch embedding**.\n",
        "\n",
        "This means we'll be turning our input images in a sequence of patches and then embedding those patches.\n",
        "\n",
        "Recall that an **embedding** is a learnable representation of some form and is often a vector.\n",
        "\n",
        "The term learnable is important because this means the numerical representation of an input image (that the model sees) can be improved over time.\n",
        "\n",
        "We'll begin by following the opening paragraph of section 3.1 of the ViT paper (bold mine):\n",
        "\n",
        "> The standard Transformer receives as input a 1D sequence of token embeddings. To handle 2D images, we reshape the image $\\mathbf{x} \\in \\mathbb{R}^{H \\times W \\times C}$ into a sequence of flattened 2D patches $\\mathbf{x}_{p} \\in \\mathbb{R}^{N \\times\\left(P^{2} \\cdot C\\right)}$, where $(H, W)$ is the resolution of the original image, $C$ is the number of channels, $(P, P)$ is the resolution of each image patch, and $N=H W / P^{2}$ is the resulting number of patches, which also serves as the effective input sequence length for the Transformer. The Transformer uses constant latent vector size $D$ through all of its layers, so we flatten the patches and map to $D$ dimensions with a trainable linear projection (Eq. 1). We refer to the output of this projection as the **patch embeddings**.\n",
        "\n",
        "And size we're dealing with image shapes, let's keep in mind the line from Table 3 of the ViT paper:\n",
        "\n",
        "> Training resolution is **224**.\n",
        "\n",
        "Let's break down the text above.\n",
        "\n",
        "* $D$ is the size of the **patch embeddings**, different values for $D$ for various sized ViT models can be found in Table 1.\n",
        "* The image starts as 2D with size ${H \\times W \\times C}$.\n",
        "    * $(H, W)$ is the resolution of the original image (height, width).\n",
        "    * $C$ is the number of channels.\n",
        "* The image gets converted to a sequence of flattened 2D patches with size ${N \\times\\left(P^{2} \\cdot C\\right)}$.\n",
        "    * $(P, P)$ is the resolution of each image patch (**patch size**).\n",
        "    * $N=H W / P^{2}$ is the resulting number of patches, which also serves as the input sequence length for the Transformer.\n",
        "\n",
        "<img src=\"https://raw.githubusercontent.com/mrdbourke/pytorch-deep-learning/main/images/08-vit-paper-equation-1-annotated.png\" width=900 alt=\"mapping the vit architecture diagram positional and patch embeddings portion to the relative mathematical equation describing what's going on\"/>\n",
        "\n",
        "*Mapping the patch and position embedding portion of the ViT architecture from Figure 1 to Equation 1. The opening paragraph of section 3.1 describes the different input and output shapes of the patch embedding layer.*"
      ]
    },
    {
      "cell_type": "markdown",
      "id": "2010c168-88c7-4045-8c02-8e759ffacef8",
      "metadata": {
        "id": "2010c168-88c7-4045-8c02-8e759ffacef8",
        "tags": []
      },
      "source": [
        "### 4.1 Calculating patch embedding input and output shapes by hand\n",
        "\n",
        "How about we start by calculating these input and output shape values by hand?\n",
        "\n",
        "To do so, let's create some variables to mimic each of the terms (such as $H$, $W$ etc) above.\n",
        "\n",
        "We'll use a patch size ($P$) of 16 since it's the best performing version of ViT-Base uses (see column \"ViT-B/16\" of Table 5 in the ViT paper for more)."
      ]
    },
    {
      "cell_type": "code",
      "execution_count": null,
      "id": "bb10d7f1-1aca-416f-b5a4-3abe722ff207",
      "metadata": {
        "id": "bb10d7f1-1aca-416f-b5a4-3abe722ff207",
        "outputId": "6a08689a-f198-42c6-c029-4d3b6af9f51c",
        "colab": {
          "base_uri": "https://localhost:8080/"
        }
      },
      "outputs": [
        {
          "output_type": "stream",
          "name": "stdout",
          "text": [
            "Number of patches (N) with image height (H=224), width (W=224) and patch size (P=16): 196\n"
          ]
        }
      ],
      "source": [
        "# Create example values\n",
        "height = 224 # H (\"The training resolution is 224.\")\n",
        "width = 224 # W\n",
        "color_channels = 3 # C\n",
        "patch_size = 16 # P\n",
        "\n",
        "# Calculate N (number of patches)\n",
        "number_of_patches = int((height * width) / patch_size**2)\n",
        "print(f\"Number of patches (N) with image height (H={height}), width (W={width}) and patch size (P={patch_size}): {number_of_patches}\")"
      ]
    },
    {
      "cell_type": "markdown",
      "id": "0e5f118e-e828-498a-abe1-0de8a5d90cd5",
      "metadata": {
        "id": "0e5f118e-e828-498a-abe1-0de8a5d90cd5"
      },
      "source": [
        "We've got the number of patches, how about we create the image output size as well?\n",
        "\n",
        "Better yet, let's replicate the input and output shapes of the patch embedding layer.\n",
        "\n",
        "Recall:\n",
        "\n",
        "* **Input:** The image starts as 2D with size ${H \\times W \\times C}$.\n",
        "* **Output:** The image gets converted to a sequence of flattened 2D patches with size ${N \\times\\left(P^{2} \\cdot C\\right)}$."
      ]
    },
    {
      "cell_type": "code",
      "execution_count": null,
      "id": "1f684bab-1e4e-4251-99b7-839b0b69dbd3",
      "metadata": {
        "id": "1f684bab-1e4e-4251-99b7-839b0b69dbd3",
        "outputId": "27584745-5624-4582-cd29-fd7d8ecbbbc1",
        "colab": {
          "base_uri": "https://localhost:8080/"
        }
      },
      "outputs": [
        {
          "output_type": "stream",
          "name": "stdout",
          "text": [
            "Input shape (single 2D image): (224, 224, 3)\n",
            "Output shape (single 2D image flattened into patches): (196, 768)\n"
          ]
        }
      ],
      "source": [
        "# Input shape (this is the size of a single image)\n",
        "embedding_layer_input_shape = (height, width, color_channels)\n",
        "\n",
        "# Output shape\n",
        "embedding_layer_output_shape = (number_of_patches, patch_size**2 * color_channels)\n",
        "\n",
        "print(f\"Input shape (single 2D image): {embedding_layer_input_shape}\")\n",
        "print(f\"Output shape (single 2D image flattened into patches): {embedding_layer_output_shape}\")"
      ]
    },
    {
      "cell_type": "markdown",
      "id": "addb44a8-dd44-4ad4-8641-5e8c6f49753b",
      "metadata": {
        "id": "addb44a8-dd44-4ad4-8641-5e8c6f49753b"
      },
      "source": [
        "Input and output shapes acquired!"
      ]
    },
    {
      "cell_type": "markdown",
      "id": "7ee6c9bf-e40f-4511-9325-498251f5b998",
      "metadata": {
        "id": "7ee6c9bf-e40f-4511-9325-498251f5b998"
      },
      "source": [
        "### 4.2 Turning a single image into patches\n",
        "\n",
        "Now we know the ideal input and output shapes for our **patch embedding** layer, let's move towards making it.\n",
        "\n",
        "What we're doing is breaking down the overall architecture into smaller pieces, focusing on the inputs and outputs of individual layers.\n",
        "\n",
        "So how do we create the patch embedding layer?\n",
        "\n",
        "We'll get to that shortly, first, let's *visualize, visualize, visualize!* what it looks like to turn an image into patches.\n",
        "\n",
        "Let's start with our single image."
      ]
    },
    {
      "cell_type": "code",
      "execution_count": null,
      "id": "336e1b36-9849-4104-8cb9-bb64a20ffc48",
      "metadata": {
        "id": "336e1b36-9849-4104-8cb9-bb64a20ffc48",
        "outputId": "93668c54-e644-4bd3-be63-13e977e51530",
        "colab": {
          "base_uri": "https://localhost:8080/",
          "height": 428
        }
      },
      "outputs": [
        {
          "output_type": "display_data",
          "data": {
            "text/plain": [
              "<Figure size 640x480 with 1 Axes>"
            ],
            "image/png": "[encoded data removed]"
          },
          "metadata": {}
        }
      ],
      "source": [
        "# View single image\n",
        "plt.imshow(image.permute(1, 2, 0)) # adjust for matplotlib\n",
        "plt.title(class_names[label])\n",
        "plt.axis(False);"
      ]
    },
    {
      "cell_type": "markdown",
      "id": "c7ebc6e5-c601-49fa-a185-05a50fdc81cc",
      "metadata": {
        "id": "c7ebc6e5-c601-49fa-a185-05a50fdc81cc"
      },
      "source": [
        "We want to turn this image into patches of itself inline with Figure 1 of the ViT paper.\n",
        "\n",
        "How about we start by just visualizing the top row of patched pixels?\n",
        "\n",
        "We can do this by indexing on the different image dimensions."
      ]
    },
    {
      "cell_type": "code",
      "execution_count": null,
      "id": "bcd2e784-7989-40e5-b8f5-64de18f1fe3d",
      "metadata": {
        "id": "bcd2e784-7989-40e5-b8f5-64de18f1fe3d",
        "outputId": "eb5a685e-416e-465b-ae90-3de36607d263",
        "colab": {
          "base_uri": "https://localhost:8080/",
          "height": 152
        }
      },
      "outputs": [
        {
          "output_type": "display_data",
          "data": {
            "text/plain": [
              "<Figure size 1600x1600 with 1 Axes>"
            ],
            "image/png": "[encoded data removed]"
          },
          "metadata": {}
        }
      ],
      "source": [
        "# Change image shape to be compatible with matplotlib (color_channels, height, width) -> (height, width, color_channels)\n",
        "image_permuted = image.permute(1, 2, 0)\n",
        "\n",
        "# Index to plot the top row of patched pixels\n",
        "patch_size = 16\n",
        "plt.figure(figsize=(patch_size, patch_size))\n",
        "plt.imshow(image_permuted[:patch_size, :, :]);"
      ]
    },
    {
      "cell_type": "markdown",
      "id": "ad0f2977-7c7b-45e5-91a9-a8626e8e73c7",
      "metadata": {
        "id": "ad0f2977-7c7b-45e5-91a9-a8626e8e73c7"
      },
      "source": [
        "Now we've got the top row, let's turn it into patches.\n",
        "\n",
        "We can do this by iterating through the number of patches there'd be in the top row."
      ]
    },
    {
      "cell_type": "code",
      "execution_count": null,
      "id": "93210158-3dcb-4d1f-b728-c7c9c3df99dd",
      "metadata": {
        "id": "93210158-3dcb-4d1f-b728-c7c9c3df99dd",
        "outputId": "329001d8-914c-41a0-cbd5-bc56dc8c9ae7",
        "colab": {
          "base_uri": "https://localhost:8080/",
          "height": 157
        }
      },
      "outputs": [
        {
          "output_type": "stream",
          "name": "stdout",
          "text": [
            "Number of patches per row: 14.0\n",
            "Patch size: 16 pixels x 16 pixels\n"
          ]
        },
        {
          "output_type": "display_data",
          "data": {
            "text/plain": [
              "<Figure size 1400x1400 with 14 Axes>"
            ],
            "image/png": "[encoded data removed]"
          },
          "metadata": {}
        }
      ],
      "source": [
        "# Setup hyperparameters and make sure img_size and patch_size are compatible\n",
        "img_size = 224\n",
        "patch_size = 16\n",
        "num_patches = img_size/patch_size\n",
        "assert img_size % patch_size == 0, \"Image size must be divisible by patch size\"\n",
        "print(f\"Number of patches per row: {num_patches}\\nPatch size: {patch_size} pixels x {patch_size} pixels\")\n",
        "\n",
        "# Create a series of subplots\n",
        "fig, axs = plt.subplots(nrows=1,\n",
        "                        ncols=img_size // patch_size, # one column for each patch\n",
        "                        figsize=(num_patches, num_patches),\n",
        "                        sharex=True,\n",
        "                        sharey=True)\n",
        "\n",
        "# Iterate through number of patches in the top row\n",
        "for i, patch in enumerate(range(0, img_size, patch_size)):\n",
        "    axs[i].imshow(image_permuted[:patch_size, patch:patch+patch_size, :]); # keep height index constant, alter the width index\n",
        "    axs[i].set_xlabel(i+1) # set the label\n",
        "    axs[i].set_xticks([])\n",
        "    axs[i].set_yticks([])"
      ]
    },
    {
      "cell_type": "markdown",
      "id": "dc30f0a2-7344-4a90-b5b7-7a98127c59fd",
      "metadata": {
        "id": "dc30f0a2-7344-4a90-b5b7-7a98127c59fd"
      },
      "source": [
        "Those are some nice looking patches!\n",
        "\n",
        "How about we do it for the whole image?\n",
        "\n",
        "This time we'll iterate through the indexes for height and width and plot each patch as it's own subplot."
      ]
    },
    {
      "cell_type": "code",
      "execution_count": null,
      "id": "7d45e15a-eb50-4c46-8055-2acaaacb881c",
      "metadata": {
        "id": "7d45e15a-eb50-4c46-8055-2acaaacb881c",
        "outputId": "7c0f7fe6-acc0-49d2-d123-0dabf89b879c",
        "tags": [],
        "colab": {
          "base_uri": "https://localhost:8080/",
          "height": 1000
        }
      },
      "outputs": [
        {
          "output_type": "stream",
          "name": "stdout",
          "text": [
            "Number of patches per row: 14.0        \n",
            "Number of patches per column: 14.0        \n",
            "Total patches: 196.0        \n",
            "Patch size: 16 pixels x 16 pixels\n"
          ]
        },
        {
          "output_type": "display_data",
          "data": {
            "text/plain": [
              "<Figure size 1400x1400 with 196 Axes>"
            ],
            "image/png": "[encoded data removed]"
          },
          "metadata": {}
        }
      ],
      "source": [
        "# Setup hyperparameters and make sure img_size and patch_size are compatible\n",
        "img_size = 224\n",
        "patch_size = 16\n",
        "num_patches = img_size/patch_size\n",
        "assert img_size % patch_size == 0, \"Image size must be divisible by patch size\"\n",
        "print(f\"Number of patches per row: {num_patches}\\\n",
        "        \\nNumber of patches per column: {num_patches}\\\n",
        "        \\nTotal patches: {num_patches*num_patches}\\\n",
        "        \\nPatch size: {patch_size} pixels x {patch_size} pixels\")\n",
        "\n",
        "# Create a series of subplots\n",
        "fig, axs = plt.subplots(nrows=img_size // patch_size, # need int not float\n",
        "                        ncols=img_size // patch_size,\n",
        "                        figsize=(num_patches, num_patches),\n",
        "                        sharex=True,\n",
        "                        sharey=True)\n",
        "\n",
        "# Loop through height and width of image\n",
        "for i, patch_height in enumerate(range(0, img_size, patch_size)): # iterate through height\n",
        "    for j, patch_width in enumerate(range(0, img_size, patch_size)): # iterate through width\n",
        "\n",
        "        # Plot the permuted image patch (image_permuted -> (Height, Width, Color Channels))\n",
        "        axs[i, j].imshow(image_permuted[patch_height:patch_height+patch_size, # iterate through height\n",
        "                                        patch_width:patch_width+patch_size, # iterate through width\n",
        "                                        :]) # get all color channels\n",
        "\n",
        "        # Set up label information, remove the ticks for clarity and set labels to outside\n",
        "        axs[i, j].set_ylabel(i+1,\n",
        "                             rotation=\"horizontal\",\n",
        "                             horizontalalignment=\"right\",\n",
        "                             verticalalignment=\"center\")\n",
        "        axs[i, j].set_xlabel(j+1)\n",
        "        axs[i, j].set_xticks([])\n",
        "        axs[i, j].set_yticks([])\n",
        "        axs[i, j].label_outer()\n",
        "\n",
        "# Set a super title\n",
        "fig.suptitle(f\"{class_names[label]} -> Patchified\", fontsize=16)\n",
        "plt.show()"
      ]
    },
    {
      "cell_type": "markdown",
      "id": "32a983e8-6d76-4ef0-b0f2-c97a42bdbb08",
      "metadata": {
        "id": "32a983e8-6d76-4ef0-b0f2-c97a42bdbb08"
      },
      "source": [
        "Image patchified!\n",
        "\n",
        "Woah, that looks cool.\n",
        "\n",
        "Now how do we turn each of these patches into an embedding and convert them into a sequence?\n",
        "\n",
        "Hint: we can use PyTorch layers. Can you guess which?"
      ]
    },
    {
      "cell_type": "markdown",
      "id": "f774b58d-7095-4272-aba3-fd9a2db4f28f",
      "metadata": {
        "id": "f774b58d-7095-4272-aba3-fd9a2db4f28f"
      },
      "source": [
        "### 4.3 Creating image patches with `torch.nn.Conv2d()`\n",
        "\n",
        "We've seen what an image looks like when it gets turned into patches, now let's start moving towards replicating the patch embedding layers with PyTorch.\n",
        "\n",
        "To visualize our single image we wrote code to loop through the different height and width dimensions of a single image and plot individual patches.\n",
        "\n",
        "This operation is very similar to the convolutional operation we saw in [03. PyTorch Computer Vision section 7.1: Stepping through `nn.Conv2d()`](https://www.learnpytorch.io/03_pytorch_computer_vision/#71-stepping-through-nnconv2d).\n",
        "\n",
        "In fact, the authors of the ViT paper mention in section 3.1 that the patch embedding is achievable with a convolutional neural network (CNN):  \n",
        "\n",
        "> **Hybrid Architecture.** As an alternative to raw image patches, the input sequence can be formed from feature maps of a CNN (LeCun et al., 1989). In this hybrid model, the patch embedding projection $\\mathbf{E}$ (Eq. 1) is applied to patches extracted from a **CNN feature map**. As a special case, the patches can have spatial size $1 \\times 1$, which means that the **input sequence is obtained by simply flattening the spatial dimensions of the feature map and projecting to the Transformer dimension**. The classification input embedding and position embeddings are added as described above.\n",
        "\n",
        "The \"**feature map**\" they're referring to are the weights/activations produced by a convolutional layer passing over a given image.\n",
        "\n",
        "<img src=\"https://github.com/mrdbourke/pytorch-deep-learning/raw/main/images/08-vit-paper-patch-embedding-animation.gif\" width=900 alt=\"example of creating a patch embedding by passing a convolutional layer over a single image\"/>\n",
        "\n",
        "*By setting the `kernel_size` and `stride` parameters of a [`torch.nn.Conv2d()`](https://pytorch.org/docs/stable/generated/torch.nn.Conv2d.html) layer equal to the `patch_size`, we can effectively get a layer that splits our image into patches and creates a learnable embedding (referred to as a \"Linear Projection\" in the ViT paper) of each patch.*\n",
        "\n",
        "Remember our ideal input and output shapes for the patch embedding layer?\n",
        "\n",
        "* **Input:** The image starts as 2D with size ${H \\times W \\times C}$.\n",
        "* **Output:** The image gets converted to a 1D sequence of flattened 2D patches with size ${N \\times\\left(P^{2} \\cdot C\\right)}$.\n",
        "\n",
        "Or for an image size of 224 and patch size of 16:\n",
        "\n",
        "* **Input (2D image):** (224, 224, 3) -> (height, width, color channels)\n",
        "* **Output (flattened 2D patches):** (196, 768) -> (number of patches, embedding dimension)\n",
        "\n",
        "We can recreate these with:\n",
        "* [`torch.nn.Conv2d()`](https://pytorch.org/docs/stable/generated/torch.nn.Conv2d.html) for turning our image into patches of CNN feature maps.\n",
        "* [`torch.nn.Flatten()`](https://pytorch.org/docs/stable/generated/torch.nn.Flatten.html) for flattening the spatial dimensions of the feature map.\n",
        "\n",
        "Let's start with the `torch.nn.Conv2d()` layer.\n",
        "\n",
        "We can replicate the creation of patches by setting the `kernel_size` and `stride` equal to `patch_size`.\n",
        "\n",
        "This means each convolutional kernel will be of size `(patch_size x patch_size)` or if `patch_size=16`, `(16 x 16)` (the equivalent of one whole patch).\n",
        "\n",
        "And each step or `stride` of the convolutional kernel will be `patch_size` pixels long or `16` pixels long (equivalent of stepping to the next patch).\n",
        "\n",
        "We'll set `in_channels=3` for the number of color channels in our image and we'll set `out_channels=768`, the same as the $D$ value in Table 1 for ViT-Base (this is the embedding dimension, each image will be embedded into a learnable vector of size 768)."
      ]
    },
    {
      "cell_type": "code",
      "execution_count": null,
      "id": "3d4fd046-6b51-4ac0-8d39-e67fb333a18a",
      "metadata": {
        "id": "3d4fd046-6b51-4ac0-8d39-e67fb333a18a"
      },
      "outputs": [],
      "source": [
        "from torch import nn\n",
        "\n",
        "# Set the patch size\n",
        "patch_size=16\n",
        "\n",
        "# Create the Conv2d layer with hyperparameters from the ViT paper\n",
        "conv2d = nn.Conv2d(in_channels=3, # number of color channels\n",
        "                   out_channels=768, # from Table 1: Hidden size D, this is the embedding size\n",
        "                   kernel_size=patch_size, # could also use (patch_size, patch_size)\n",
        "                   stride=patch_size,\n",
        "                   padding=0)"
      ]
    },
    {
      "cell_type": "markdown",
      "id": "03dec513-eea5-4d13-b7ab-41c9e997ef48",
      "metadata": {
        "id": "03dec513-eea5-4d13-b7ab-41c9e997ef48"
      },
      "source": [
        "Now we've got a convolutional layer, let's see what happens when we pass a single image through it."
      ]
    },
    {
      "cell_type": "code",
      "execution_count": null,
      "id": "1d3424d2-2cfa-431c-9fd0-e2afdf15fc9c",
      "metadata": {
        "id": "1d3424d2-2cfa-431c-9fd0-e2afdf15fc9c",
        "outputId": "6192f3f6-db7c-488b-c2ef-eb694493db3d",
        "colab": {
          "base_uri": "https://localhost:8080/",
          "height": 428
        }
      },
      "outputs": [
        {
          "output_type": "display_data",
          "data": {
            "text/plain": [
              "<Figure size 640x480 with 1 Axes>"
            ],
            "image/png": "[encoded data removed]"
          },
          "metadata": {}
        }
      ],
      "source": [
        "# View single image\n",
        "plt.imshow(image.permute(1, 2, 0)) # adjust for matplotlib\n",
        "plt.title(class_names[label])\n",
        "plt.axis(False);"
      ]
    },
    {
      "cell_type": "code",
      "execution_count": null,
      "id": "a72a5614-f1cb-4c01-9696-24f07bf2a219",
      "metadata": {
        "id": "a72a5614-f1cb-4c01-9696-24f07bf2a219",
        "outputId": "0d42a481-af08-4597-e080-4f003cafc237",
        "colab": {
          "base_uri": "https://localhost:8080/"
        }
      },
      "outputs": [
        {
          "output_type": "stream",
          "name": "stdout",
          "text": [
            "torch.Size([1, 768, 14, 14])\n"
          ]
        }
      ],
      "source": [
        "# Pass the image through the convolutional layer\n",
        "image_out_of_conv = conv2d(image.unsqueeze(0)) # add a single batch dimension (height, width, color_channels) -> (batch, height, width, color_channels)\n",
        "print(image_out_of_conv.shape)"
      ]
    },
    {
      "cell_type": "markdown",
      "id": "87afeb8f-86cf-4cad-bf88-84dfaccdbe2b",
      "metadata": {
        "id": "87afeb8f-86cf-4cad-bf88-84dfaccdbe2b"
      },
      "source": [
        "Passing our image through the convolutional layer turns it into a series of 768 (this is the embedding size or $D$) feature/activation maps.\n",
        "\n",
        "So its output shape can be read as:\n",
        "    \n",
        "```python\n",
        "torch.Size([1, 768, 14, 14]) -> [batch_size, embedding_dim, feature_map_height, feature_map_width]\n",
        "```\n",
        "\n",
        "Let's visualize five random feature maps and see what they look like."
      ]
    },
    {
      "cell_type": "code",
      "execution_count": null,
      "id": "af5b58ca-0d73-4c62-b4af-4e8867b764e2",
      "metadata": {
        "id": "af5b58ca-0d73-4c62-b4af-4e8867b764e2",
        "outputId": "b91a5b7d-3ff0-4879-a5d3-4c78734e03a9",
        "colab": {
          "base_uri": "https://localhost:8080/",
          "height": 215
        }
      },
      "outputs": [
        {
          "output_type": "stream",
          "name": "stdout",
          "text": [
            "Showing random convolutional feature maps from indexes: [27, 653, 556, 727, 174]\n"
          ]
        },
        {
          "output_type": "display_data",
          "data": {
            "text/plain": [
              "<Figure size 1200x1200 with 5 Axes>"
            ],
            "image/png": "[encoded data removed]"
          },
          "metadata": {}
        }
      ],
      "source": [
        "# Plot random 5 convolutional feature maps\n",
        "import random\n",
        "random_indexes = random.sample(range(0, 758), k=5) # pick 5 numbers between 0 and the embedding size\n",
        "print(f\"Showing random convolutional feature maps from indexes: {random_indexes}\")\n",
        "\n",
        "# Create plot\n",
        "fig, axs = plt.subplots(nrows=1, ncols=5, figsize=(12, 12))\n",
        "\n",
        "# Plot random image feature maps\n",
        "for i, idx in enumerate(random_indexes):\n",
        "    image_conv_feature_map = image_out_of_conv[:, idx, :, :] # index on the output tensor of the convolutional layer\n",
        "    axs[i].imshow(image_conv_feature_map.squeeze().detach().numpy())\n",
        "    axs[i].set(xticklabels=[], yticklabels=[], xticks=[], yticks=[]);"
      ]
    },
    {
      "cell_type": "markdown",
      "id": "b847f2e1-1700-4040-a9aa-df9ab1139cce",
      "metadata": {
        "id": "b847f2e1-1700-4040-a9aa-df9ab1139cce"
      },
      "source": [
        "Notice how the feature maps all kind of represent the original image, after visualizing a few more you can start to see the different major outlines and some major features.\n",
        "\n",
        "The important thing to note is that these features may change over time as the neural network learns.\n",
        "\n",
        "And because of these, these feature maps can be considered a **learnable embedding** of our image.\n",
        "\n",
        "Let's check one out in numerical form."
      ]
    },
    {
      "cell_type": "code",
      "execution_count": null,
      "id": "94f6f5b9-a1c7-4aa1-9780-7cd06457b2b3",
      "metadata": {
        "id": "94f6f5b9-a1c7-4aa1-9780-7cd06457b2b3",
        "outputId": "084dde20-0f6b-458d-c6e9-1c464d3aefc2",
        "colab": {
          "base_uri": "https://localhost:8080/"
        }
      },
      "outputs": [
        {
          "output_type": "execute_result",
          "data": {
            "text/plain": [
              "(tensor([[[-0.1909, -0.2114, -0.1814, -0.1491, -0.1291, -0.1085, -0.0972,\n",
              "           -0.1255, -0.1480, -0.1787, -0.2102, -0.2306, -0.2452, -0.2344],\n",
              "          [-0.2684, -0.1822, -0.1319, -0.1577, -0.1618, -0.1563, -0.1152,\n",
              "           -0.1472, -0.1182, -0.1660, -0.1433, -0.2175, -0.2080, -0.2367],\n",
              "          [-0.1535, -0.1091, -0.1218, -0.0999, -0.1233, -0.1106, -0.1055,\n",
              "           -0.1461, -0.1494, -0.2095, -0.1901, -0.2655, -0.2583, -0.2396],\n",
              "          [-0.0997, -0.1800, -0.2147, -0.1585, -0.1439, -0.1614, -0.2150,\n",
              "           -0.3067, -0.2971, -0.2796, -0.1965, -0.2250, -0.3081, -0.2220],\n",
              "          [-0.1420, -0.1224, -0.1877, -0.2302, -0.2069, -0.4073, -0.4864,\n",
              "           -0.5109, -0.4804, -0.3724, -0.2831, -0.3397, -0.2716, -0.2371],\n",
              "          [-0.1963, -0.2148, -0.2644, -0.3309, -0.4834, -0.5024, -0.5708,\n",
              "           -0.5717, -0.5444, -0.5129, -0.3379, -0.2566, -0.2563, -0.3598],\n",
              "          [-0.4206, -0.4637, -0.4745, -0.4864, -0.5493, -0.5910, -0.5799,\n",
              "           -0.4594, -0.4919, -0.4869, -0.3456, -0.1998, -0.2254, -0.4382],\n",
              "          [-0.4932, -0.4722, -0.5303, -0.5693, -0.5646, -0.5851, -0.5633,\n",
              "           -0.2567, -0.4100, -0.3663, -0.2399, -0.2067, -0.2289, -0.2782],\n",
              "          [-0.5239, -0.5205, -0.5519, -0.5343, -0.5100, -0.5848, -0.6254,\n",
              "           -0.5112, -0.4471, -0.4830, -0.4197, -0.2269, -0.1863, -0.1941],\n",
              "          [-0.5285, -0.5571, -0.5317, -0.5393, -0.5358, -0.5679, -0.5789,\n",
              "           -0.5749, -0.3179, -0.3143, -0.3747, -0.2180, -0.1901, -0.2178],\n",
              "          [-0.5503, -0.5962, -0.5608, -0.5722, -0.5556, -0.5623, -0.5192,\n",
              "           -0.5178, -0.3211, -0.1112, -0.1715, -0.2285, -0.3225, -0.4058],\n",
              "          [-0.5317, -0.5369, -0.4994, -0.4869, -0.5273, -0.5343, -0.4561,\n",
              "           -0.4136, -0.3457, -0.2580, -0.1715, -0.2180, -0.3743, -0.3620],\n",
              "          [-0.5422, -0.5610, -0.5099, -0.4784, -0.5114, -0.4491, -0.3279,\n",
              "           -0.3495, -0.2840, -0.3673, -0.2155, -0.1744, -0.1608, -0.2091],\n",
              "          [-0.5165, -0.4978, -0.5275, -0.4978, -0.4815, -0.3717, -0.1955,\n",
              "           -0.2090, -0.2611, -0.2799, -0.2498, -0.1530, -0.1539, -0.2484]]],\n",
              "        grad_fn=<SliceBackward0>),\n",
              " True)"
            ]
          },
          "metadata": {},
          "execution_count": 100
        }
      ],
      "source": [
        "# Get a single feature map in tensor form\n",
        "single_feature_map = image_out_of_conv[:, 0, :, :]\n",
        "single_feature_map, single_feature_map.requires_grad"
      ]
    },
    {
      "cell_type": "markdown",
      "id": "fc7c08ca-a4ef-4350-b471-088b2f12b80e",
      "metadata": {
        "id": "fc7c08ca-a4ef-4350-b471-088b2f12b80e"
      },
      "source": [
        "The `grad_fn` output of the `single_feature_map` and the `requires_grad=True` attribute means PyTorch is tracking the gradients of this feature map and it will be updated by gradient descent during training."
      ]
    },
    {
      "cell_type": "markdown",
      "id": "572ae1c5-9488-4882-bdc1-409eef95424e",
      "metadata": {
        "id": "572ae1c5-9488-4882-bdc1-409eef95424e"
      },
      "source": [
        "### 4.4 Flattening the patch embedding with `torch.nn.Flatten()`\n",
        "\n",
        "We've turned our image into patch embeddings but they're still in 2D format.\n",
        "\n",
        "How do we get them into the desired output shape of the patch embedding layer of the ViT model?\n",
        "\n",
        "* **Desired output (1D sequence of flattened 2D patches):** (196, 768) -> (number of patches, embedding dimension) -> ${N \\times\\left(P^{2} \\cdot C\\right)}$\n",
        "\n",
        "Let's check the current shape."
      ]
    },
    {
      "cell_type": "code",
      "execution_count": null,
      "id": "c8219029-6162-4046-8702-0c2cb42f2378",
      "metadata": {
        "id": "c8219029-6162-4046-8702-0c2cb42f2378",
        "outputId": "d9717fdf-4be4-48e1-d4c6-ed1d98db37ff",
        "colab": {
          "base_uri": "https://localhost:8080/"
        }
      },
      "outputs": [
        {
          "output_type": "stream",
          "name": "stdout",
          "text": [
            "Current tensor shape: torch.Size([1, 768, 14, 14]) -> [batch, embedding_dim, feature_map_height, feature_map_width]\n"
          ]
        }
      ],
      "source": [
        "# Current tensor shape\n",
        "print(f\"Current tensor shape: {image_out_of_conv.shape} -> [batch, embedding_dim, feature_map_height, feature_map_width]\")"
      ]
    },
    {
      "cell_type": "markdown",
      "id": "0160c70b-0fe8-42f9-b6e9-5cac23e06836",
      "metadata": {
        "id": "0160c70b-0fe8-42f9-b6e9-5cac23e06836"
      },
      "source": [
        "Well we've got the 768 part ( $(P^{2} \\cdot C)$ ) but we still need the number of patches ($N$).\n",
        "\n",
        "Reading back through section 3.1 of the ViT paper it says (bold mine):\n",
        "\n",
        "> As a special case, the patches can have spatial size $1 \\times 1$, which means that the **input sequence is obtained by simply *flattening* the spatial dimensions of the feature map and projecting to the Transformer dimension**.\n",
        "\n",
        "Flattening the spatial dimensions of the feature map hey?\n",
        "\n",
        "What layer do we have in PyTorch that can flatten?\n",
        "\n",
        "How about [`torch.nn.Flatten()`](https://pytorch.org/docs/stable/generated/torch.nn.Flatten.html )?\n",
        "\n",
        "But we don't want to flatten the whole tensor, we only want to flatten the \"spatial dimensions of the feature map\".\n",
        "\n",
        "Which in our case is the `feature_map_height` and `feature_map_width` dimensions of `image_out_of_conv`.\n",
        "\n",
        "So how about we create a `torch.nn.Flatten()` layer to only flatten those dimensions, we can use the `start_dim` and `end_dim` parameters to set that up?"
      ]
    },
    {
      "cell_type": "code",
      "execution_count": null,
      "id": "ed82899d-7bbc-49f9-a423-8fa6344b8e99",
      "metadata": {
        "id": "ed82899d-7bbc-49f9-a423-8fa6344b8e99"
      },
      "outputs": [],
      "source": [
        "# Create flatten layer\n",
        "flatten = nn.Flatten(start_dim=2, # flatten feature_map_height (dimension 2)\n",
        "                     end_dim=3) # flatten feature_map_width (dimension 3)"
      ]
    },
    {
      "cell_type": "markdown",
      "id": "adcf7cfc-2635-4081-9ade-3542f77c47e2",
      "metadata": {
        "id": "adcf7cfc-2635-4081-9ade-3542f77c47e2"
      },
      "source": [
        "Nice! Now let's put it all together!\n",
        "\n",
        "We'll:\n",
        "1. Take a single image.\n",
        "2. Put in through the convolutional layer (`conv2d`) to turn the image into 2D feature maps (patch embeddings).\n",
        "3. Flatten the 2D feature map into a single sequence."
      ]
    },
    {
      "cell_type": "code",
      "execution_count": null,
      "id": "e3fa363b-1923-4e27-a0b5-980d885fcda2",
      "metadata": {
        "id": "e3fa363b-1923-4e27-a0b5-980d885fcda2",
        "outputId": "71c933db-08bb-454b-c337-165fbfb62406",
        "colab": {
          "base_uri": "https://localhost:8080/",
          "height": 482
        }
      },
      "outputs": [
        {
          "output_type": "stream",
          "name": "stdout",
          "text": [
            "Original image shape: torch.Size([3, 224, 224])\n",
            "Image feature map shape: torch.Size([1, 768, 14, 14])\n",
            "Flattened image feature map shape: torch.Size([1, 768, 196])\n"
          ]
        },
        {
          "output_type": "display_data",
          "data": {
            "text/plain": [
              "<Figure size 640x480 with 1 Axes>"
            ],
            "image/png": "[encoded data removed]"
          },
          "metadata": {}
        }
      ],
      "source": [
        "# 1. View single image\n",
        "plt.imshow(image.permute(1, 2, 0)) # adjust for matplotlib\n",
        "plt.title(class_names[label])\n",
        "plt.axis(False);\n",
        "print(f\"Original image shape: {image.shape}\")\n",
        "\n",
        "# 2. Turn image into feature maps\n",
        "image_out_of_conv = conv2d(image.unsqueeze(0)) # add batch dimension to avoid shape errors\n",
        "print(f\"Image feature map shape: {image_out_of_conv.shape}\")\n",
        "\n",
        "# 3. Flatten the feature maps\n",
        "image_out_of_conv_flattened = flatten(image_out_of_conv)\n",
        "print(f\"Flattened image feature map shape: {image_out_of_conv_flattened.shape}\")"
      ]
    },
    {
      "cell_type": "markdown",
      "id": "fe802095-e944-4607-b3a7-891ba452372b",
      "metadata": {
        "id": "fe802095-e944-4607-b3a7-891ba452372b"
      },
      "source": [
        "Woohoo! It looks like our `image_out_of_conv_flattened` shape is very close to our desired output shape:\n",
        "    \n",
        "* **Desired output (flattened 2D patches):** (196, 768) -> ${N \\times\\left(P^{2} \\cdot C\\right)}$\n",
        "* **Current shape:** (1, 768, 196)\n",
        "\n",
        "The only difference is our current shape has a batch size and the dimensions are in a different order to the desired output.\n",
        "\n",
        "How could we fix this?\n",
        "\n",
        "Well, how about we rearrange the dimensions?\n",
        "\n",
        "We can do so with `torch.Tensor.permute()` just like we do when rearranging image tensors to plot them with matplotlib.\n",
        "\n",
        "Let's try."
      ]
    },
    {
      "cell_type": "code",
      "execution_count": null,
      "id": "47f571a1-2303-4981-85f5-33936b39cf14",
      "metadata": {
        "id": "47f571a1-2303-4981-85f5-33936b39cf14",
        "outputId": "b9ea5de1-f61c-4217-9521-297206c6843d",
        "colab": {
          "base_uri": "https://localhost:8080/"
        }
      },
      "outputs": [
        {
          "output_type": "stream",
          "name": "stdout",
          "text": [
            "Patch embedding sequence shape: torch.Size([1, 196, 768]) -> [batch_size, num_patches, embedding_size]\n"
          ]
        }
      ],
      "source": [
        "# Get flattened image patch embeddings in right shape\n",
        "image_out_of_conv_flattened_reshaped = image_out_of_conv_flattened.permute(0, 2, 1) # [batch_size, P^2•C, N] -> [batch_size, N, P^2•C]\n",
        "print(f\"Patch embedding sequence shape: {image_out_of_conv_flattened_reshaped.shape} -> [batch_size, num_patches, embedding_size]\")"
      ]
    },
    {
      "cell_type": "markdown",
      "id": "224d751a-11a0-4645-a225-cd36e507ebf8",
      "metadata": {
        "id": "224d751a-11a0-4645-a225-cd36e507ebf8"
      },
      "source": [
        "Yes!!!\n",
        "\n",
        "We've now matched the desired input and output shapes for the patch embedding layer of the ViT architecture using a couple of PyTorch layers.\n",
        "\n",
        "How about we visualize one of the flattened feature maps?"
      ]
    },
    {
      "cell_type": "code",
      "execution_count": null,
      "id": "e4204163-8689-4b9e-8828-4e1e20d9316e",
      "metadata": {
        "id": "e4204163-8689-4b9e-8828-4e1e20d9316e",
        "outputId": "f89266db-1545-468c-81ec-3c525cfaf296",
        "colab": {
          "base_uri": "https://localhost:8080/",
          "height": 56
        }
      },
      "outputs": [
        {
          "output_type": "display_data",
          "data": {
            "text/plain": [
              "<Figure size 2200x2200 with 1 Axes>"
            ],
            "image/png": "[encoded data removed]"
          },
          "metadata": {}
        }
      ],
      "source": [
        "# Get a single flattened feature map\n",
        "single_flattened_feature_map = image_out_of_conv_flattened_reshaped[:, :, 0] # index: (batch_size, number_of_patches, embedding_dimension)\n",
        "\n",
        "# Plot the flattened feature map visually\n",
        "plt.figure(figsize=(22, 22))\n",
        "plt.imshow(single_flattened_feature_map.detach().numpy())\n",
        "plt.title(f\"Flattened feature map shape: {single_flattened_feature_map.shape}\")\n",
        "plt.axis(False);"
      ]
    },
    {
      "cell_type": "markdown",
      "id": "2fe6c0a6-687c-473c-a30f-6b01b1df533f",
      "metadata": {
        "id": "2fe6c0a6-687c-473c-a30f-6b01b1df533f"
      },
      "source": [
        "Hmm, the flattened feature map doesn't look like much visually, but that's not what we're concerned about, this is what will be the output of the patching embedding layer and the input to the rest of the ViT architecture.\n",
        "\n",
        "> **Note:** The [original Transformer architecture](https://arxiv.org/abs/1706.03762) was designed to work with text. The Vision Transformer architecture (ViT) had the goal of using the original Transformer for images. This is why the input to the ViT architecture is processed in the way it is. We're essentially taking a 2D image and formatting it so it appears as a 1D sequence of text.\n",
        "\n",
        "How about we view the flattened feature map in tensor form?"
      ]
    },
    {
      "cell_type": "code",
      "execution_count": null,
      "id": "0cdeb08e-948d-4810-ae8d-c607b3b9feec",
      "metadata": {
        "id": "0cdeb08e-948d-4810-ae8d-c607b3b9feec",
        "outputId": "04bb5dc8-e9fa-4a50-a33b-bc42ed703047",
        "colab": {
          "base_uri": "https://localhost:8080/"
        }
      },
      "outputs": [
        {
          "output_type": "execute_result",
          "data": {
            "text/plain": [
              "(tensor([[-0.1909, -0.2114, -0.1814, -0.1491, -0.1291, -0.1085, -0.0972, -0.1255,\n",
              "          -0.1480, -0.1787, -0.2102, -0.2306, -0.2452, -0.2344, -0.2684, -0.1822,\n",
              "          -0.1319, -0.1577, -0.1618, -0.1563, -0.1152, -0.1472, -0.1182, -0.1660,\n",
              "          -0.1433, -0.2175, -0.2080, -0.2367, -0.1535, -0.1091, -0.1218, -0.0999,\n",
              "          -0.1233, -0.1106, -0.1055, -0.1461, -0.1494, -0.2095, -0.1901, -0.2655,\n",
              "          -0.2583, -0.2396, -0.0997, -0.1800, -0.2147, -0.1585, -0.1439, -0.1614,\n",
              "          -0.2150, -0.3067, -0.2971, -0.2796, -0.1965, -0.2250, -0.3081, -0.2220,\n",
              "          -0.1420, -0.1224, -0.1877, -0.2302, -0.2069, -0.4073, -0.4864, -0.5109,\n",
              "          -0.4804, -0.3724, -0.2831, -0.3397, -0.2716, -0.2371, -0.1963, -0.2148,\n",
              "          -0.2644, -0.3309, -0.4834, -0.5024, -0.5708, -0.5717, -0.5444, -0.5129,\n",
              "          -0.3379, -0.2566, -0.2563, -0.3598, -0.4206, -0.4637, -0.4745, -0.4864,\n",
              "          -0.5493, -0.5910, -0.5799, -0.4594, -0.4919, -0.4869, -0.3456, -0.1998,\n",
              "          -0.2254, -0.4382, -0.4932, -0.4722, -0.5303, -0.5693, -0.5646, -0.5851,\n",
              "          -0.5633, -0.2567, -0.4100, -0.3663, -0.2399, -0.2067, -0.2289, -0.2782,\n",
              "          -0.5239, -0.5205, -0.5519, -0.5343, -0.5100, -0.5848, -0.6254, -0.5112,\n",
              "          -0.4471, -0.4830, -0.4197, -0.2269, -0.1863, -0.1941, -0.5285, -0.5571,\n",
              "          -0.5317, -0.5393, -0.5358, -0.5679, -0.5789, -0.5749, -0.3179, -0.3143,\n",
              "          -0.3747, -0.2180, -0.1901, -0.2178, -0.5503, -0.5962, -0.5608, -0.5722,\n",
              "          -0.5556, -0.5623, -0.5192, -0.5178, -0.3211, -0.1112, -0.1715, -0.2285,\n",
              "          -0.3225, -0.4058, -0.5317, -0.5369, -0.4994, -0.4869, -0.5273, -0.5343,\n",
              "          -0.4561, -0.4136, -0.3457, -0.2580, -0.1715, -0.2180, -0.3743, -0.3620,\n",
              "          -0.5422, -0.5610, -0.5099, -0.4784, -0.5114, -0.4491, -0.3279, -0.3495,\n",
              "          -0.2840, -0.3673, -0.2155, -0.1744, -0.1608, -0.2091, -0.5165, -0.4978,\n",
              "          -0.5275, -0.4978, -0.4815, -0.3717, -0.1955, -0.2090, -0.2611, -0.2799,\n",
              "          -0.2498, -0.1530, -0.1539, -0.2484]], grad_fn=<SelectBackward0>),\n",
              " True,\n",
              " torch.Size([1, 196]))"
            ]
          },
          "metadata": {},
          "execution_count": 106
        }
      ],
      "source": [
        "# See the flattened feature map as a tensor\n",
        "single_flattened_feature_map, single_flattened_feature_map.requires_grad, single_flattened_feature_map.shape"
      ]
    },
    {
      "cell_type": "markdown",
      "id": "6cc9dae5-5bf2-45b4-8266-cf733868441d",
      "metadata": {
        "id": "6cc9dae5-5bf2-45b4-8266-cf733868441d"
      },
      "source": [
        "Beautiful!\n",
        "\n",
        "We've turned our single 2D image into a 1D learnable embedding vector (or \"Linear Projection of Flattened Patches\" in Figure 1 of the ViT paper)."
      ]
    },
    {
      "cell_type": "markdown",
      "id": "b165987a-8370-471a-a663-711e0c6e60db",
      "metadata": {
        "id": "b165987a-8370-471a-a663-711e0c6e60db"
      },
      "source": [
        "### 4.5 Turning the ViT patch embedding layer into a PyTorch module\n",
        "\n",
        "Time to put everything we've done for creating the patch embedding into a single PyTorch layer.\n",
        "\n",
        "We can do so by subclassing `nn.Module` and creating a small PyTorch \"model\" to do all of the steps above.\n",
        "\n",
        "Specifically we'll:\n",
        "1. Create a class called `PatchEmbedding` which subclasses `nn.Module` (so it can be used a PyTorch layer).\n",
        "2. Initialize the class with the parameters `in_channels=3`, `patch_size=16` (for ViT-Base) and `embedding_dim=768` (this is $D$ for ViT-Base from Table 1).\n",
        "3. Create a layer to turn an image into patches using `nn.Conv2d()` (just like in 4.3 above).\n",
        "4. Create a layer to flatten the patch feature maps into a single dimension (just like in 4.4 above).\n",
        "5. Define a `forward()` method to take an input and pass it through the layers created in 3 and 4.\n",
        "6. Make sure the output shape reflects the required output shape of the ViT architecture (${N \\times\\left(P^{2} \\cdot C\\right)}$).\n",
        "\n",
        "Let's do it!"
      ]
    },
    {
      "cell_type": "code",
      "execution_count": null,
      "id": "3ef75c7e",
      "metadata": {
        "id": "3ef75c7e"
      },
      "outputs": [],
      "source": [
        "# 1. Create a class which subclasses nn.Module\n",
        "class PatchEmbedding(nn.Module):\n",
        "    \"\"\"Turns a 2D input image into a 1D sequence learnable embedding vector.\n",
        "\n",
        "    Args:\n",
        "        in_channels (int): Number of color channels for the input images. Defaults to 3.\n",
        "        patch_size (int): Size of patches to convert input image into. Defaults to 16.\n",
        "        embedding_dim (int): Size of embedding to turn image into. Defaults to 768.\n",
        "    \"\"\"\n",
        "    # 2. Initialize the class with appropriate variables\n",
        "    def __init__(self,\n",
        "                 in_channels:int=3,\n",
        "                 patch_size:int=16,\n",
        "                 embedding_dim:int=768):\n",
        "        super().__init__()\n",
        "\n",
        "        # 3. Create a layer to turn an image into patches\n",
        "        self.patcher = nn.Conv2d(in_channels=in_channels,\n",
        "                                 out_channels=embedding_dim,\n",
        "                                 kernel_size=patch_size,\n",
        "                                 stride=patch_size,\n",
        "                                 padding=0)\n",
        "\n",
        "        # 4. Create a layer to flatten the patch feature maps into a single dimension\n",
        "        self.flatten = nn.Flatten(start_dim=2, # only flatten the feature map dimensions into a single vector\n",
        "                                  end_dim=3)\n",
        "\n",
        "    # 5. Define the forward method\n",
        "    def forward(self, x):\n",
        "        # Create assertion to check that inputs are the correct shape\n",
        "        image_resolution = x.shape[-1]\n",
        "        assert image_resolution % patch_size == 0, f\"Input image size must be divisible by patch size, image shape: {image_resolution}, patch size: {patch_size}\"\n",
        "\n",
        "        # Perform the forward pass\n",
        "        x_patched = self.patcher(x)\n",
        "        x_flattened = self.flatten(x_patched)\n",
        "        # 6. Make sure the output shape has the right order\n",
        "        return x_flattened.permute(0, 2, 1) # adjust so the embedding is on the final dimension [batch_size, P^2•C, N] -> [batch_size, N, P^2•C]"
      ]
    },
    {
      "cell_type": "markdown",
      "id": "5270aa24-85b7-4b5a-a799-8e5eeca47f8f",
      "metadata": {
        "id": "5270aa24-85b7-4b5a-a799-8e5eeca47f8f"
      },
      "source": [
        "`PatchEmbedding` layer created!\n",
        "\n",
        "Let's try it out on a single image."
      ]
    },
    {
      "cell_type": "code",
      "execution_count": null,
      "id": "a5599575-44cc-46c9-95a4-e65eb1379a59",
      "metadata": {
        "id": "a5599575-44cc-46c9-95a4-e65eb1379a59",
        "outputId": "a9048b24-2ef7-4347-9609-a88a9110795f",
        "colab": {
          "base_uri": "https://localhost:8080/"
        }
      },
      "outputs": [
        {
          "output_type": "stream",
          "name": "stdout",
          "text": [
            "Input image shape: torch.Size([1, 3, 224, 224])\n",
            "Output patch embedding shape: torch.Size([1, 196, 768])\n"
          ]
        }
      ],
      "source": [
        "set_seeds()\n",
        "\n",
        "# Create an instance of patch embedding layer\n",
        "patchify = PatchEmbedding(in_channels=3,\n",
        "                          patch_size=16,\n",
        "                          embedding_dim=768)\n",
        "\n",
        "# Pass a single image through\n",
        "print(f\"Input image shape: {image.unsqueeze(0).shape}\")\n",
        "patch_embedded_image = patchify(image.unsqueeze(0)) # add an extra batch dimension on the 0th index, otherwise will error\n",
        "print(f\"Output patch embedding shape: {patch_embedded_image.shape}\")"
      ]
    },
    {
      "cell_type": "markdown",
      "id": "a4d59a81-0cef-4251-832b-5f69da199996",
      "metadata": {
        "id": "a4d59a81-0cef-4251-832b-5f69da199996"
      },
      "source": [
        "Beautiful!\n",
        "\n",
        "The output shape matches the ideal input and output shapes we'd like to see from the patch embedding layer:\n",
        "\n",
        "* **Input:** The image starts as 2D with size ${H \\times W \\times C}$.\n",
        "* **Output:** The image gets converted to a 1D sequence of flattened 2D patches with size ${N \\times\\left(P^{2} \\cdot C\\right)}$.\n",
        "\n",
        "Where:\n",
        "* $(H, W)$ is the resolution of the original image.\n",
        "* $C$ is the number of channels.\n",
        "* $(P, P)$ is the resolution of each image patch (**patch size**).\n",
        "* $N=H W / P^{2}$ is the resulting number of patches, which also serves as the effective input sequence length for the Transformer.\n",
        "    \n",
        "We've now replicated the patch embedding for equation 1 but not the class token/position embedding.\n",
        "\n",
        "We'll get to these later on.\n",
        "\n",
        "<img src=\"https://raw.githubusercontent.com/mrdbourke/pytorch-deep-learning/main/images/08-vit-paper-replicating-the-patch-embedding-layer.png\" width=900 alt=\"replicating the vision transformer architecture patch embedding layer\"/>\n",
        "\n",
        "*Our `PatchEmbedding` class (right) replicates the patch embedding of the ViT architecture from Figure 1 and Equation 1 from the ViT paper (left). However, the learnable class embedding and position embeddings haven't been created yet. These will come soon.*\n",
        "\n",
        "Let's now get a summary of our `PatchEmbedding` layer."
      ]
    },
    {
      "cell_type": "code",
      "execution_count": null,
      "id": "e440be53-d72c-42b8-87c8-1c31c4262c16",
      "metadata": {
        "id": "e440be53-d72c-42b8-87c8-1c31c4262c16"
      },
      "outputs": [],
      "source": [
        "# Create random input sizes\n",
        "random_input_image = (1, 3, 224, 224)\n",
        "random_input_image_error = (1, 3, 250, 250) # will error because image size is incompatible with patch_size\n",
        "\n",
        "# # Get a summary of the input and outputs of PatchEmbedding (uncomment for full output)\n",
        "# summary(PatchEmbedding(),\n",
        "#         input_size=random_input_image, # try swapping this for \"random_input_image_error\"\n",
        "#         col_names=[\"input_size\", \"output_size\", \"num_params\", \"trainable\"],\n",
        "#         col_width=20,\n",
        "#         row_settings=[\"var_names\"])"
      ]
    },
    {
      "cell_type": "markdown",
      "id": "fa26d9f9-1cc4-4e20-b7e4-e214deef36db",
      "metadata": {
        "id": "fa26d9f9-1cc4-4e20-b7e4-e214deef36db"
      },
      "source": [
        "<img src=\"https://github.com/mrdbourke/pytorch-deep-learning/raw/main/images/08-vit-paper-summary-output-patchembedding.png\" alt=\"summary output of patchembedding layer for vision transformer with input and output shapes\" width=900/>"
      ]
    },
    {
      "cell_type": "markdown",
      "id": "8576f2f1-a2ad-4874-8f76-08156371f444",
      "metadata": {
        "id": "8576f2f1-a2ad-4874-8f76-08156371f444"
      },
      "source": [
        "### 4.6 Creating the class token embedding\n",
        "\n",
        "Okay we've made the image patch embedding, time to get to work on the class token embedding.\n",
        "\n",
        "Or $\\mathbf{x}_\\text {class }$ from equation 1.\n",
        "\n",
        "<img src=\"https://raw.githubusercontent.com/mrdbourke/pytorch-deep-learning/main/images/08-vit-paper-equation-1-the-class-token.png\" width=900 alt=\"class token embedding highlight from the vision transformer paper figure 1 and section 3.1\"/>\n",
        "\n",
        "*Left: Figure 1 from the ViT paper with the \"classification token\" or `[class]` embedding token we're going to recreate highlighted. Right: Equation 1 and section 3.1 of the ViT paper that relate to the learnable class embedding token.*\n",
        "\n",
        "Reading the second paragraph of section 3.1 from the ViT paper, we see the following description:\n",
        "\n",
        "> Similar to BERT's `[ class ]` token, we prepend a learnable embedding to the sequence of embedded patches $\\left(\\mathbf{z}_{0}^{0}=\\mathbf{x}_{\\text {class }}\\right)$, whose state at the output of the Transformer encoder $\\left(\\mathbf{z}_{L}^{0}\\right)$ serves as the image representation $\\mathbf{y}$ (Eq. 4).\n",
        "\n",
        "> **Note:** [BERT](https://arxiv.org/abs/1810.04805) (Bidirectional Encoder Representations from Transformers) is one of the original machine learning research papers to use the Transformer architecture to achieve outstanding results on natural language processing (NLP) tasks and is where the idea of having a `[ class ]` token at the start of a sequence originated, class being a description for the \"classification\" class the sequence belonged to.\n",
        "\n",
        "So we need to \"preprend a learnable embedding to the sequence of embedded patches\".\n",
        "\n",
        "Let's start by viewing our sequence of embedded patches tensor (created in section 4.5) and its shape."
      ]
    },
    {
      "cell_type": "code",
      "execution_count": null,
      "id": "50381789-d73d-4648-9144-4d48da87318f",
      "metadata": {
        "id": "50381789-d73d-4648-9144-4d48da87318f",
        "outputId": "70469049-e7cb-447a-8eef-a41afb09e659",
        "colab": {
          "base_uri": "https://localhost:8080/"
        }
      },
      "outputs": [
        {
          "output_type": "stream",
          "name": "stdout",
          "text": [
            "tensor([[[-0.1914,  0.0396, -0.1028,  ...,  0.1472, -0.0583,  0.0768],\n",
            "         [-0.1805,  0.0415, -0.0863,  ...,  0.1403, -0.0663,  0.0754],\n",
            "         [-0.1429,  0.0082, -0.0479,  ...,  0.0984, -0.0742,  0.0615],\n",
            "         ...,\n",
            "         [-0.1162,  0.0211, -0.1166,  ...,  0.1202, -0.0373,  0.1046],\n",
            "         [-0.1366,  0.0348, -0.0569,  ...,  0.1007, -0.0442,  0.0301],\n",
            "         [-0.2385,  0.0757, -0.0998,  ...,  0.1826, -0.0636,  0.0502]]],\n",
            "       grad_fn=<PermuteBackward0>)\n",
            "Patch embedding shape: torch.Size([1, 196, 768]) -> [batch_size, number_of_patches, embedding_dimension]\n"
          ]
        }
      ],
      "source": [
        "# View the patch embedding and patch embedding shape\n",
        "print(patch_embedded_image)\n",
        "print(f\"Patch embedding shape: {patch_embedded_image.shape} -> [batch_size, number_of_patches, embedding_dimension]\")"
      ]
    },
    {
      "cell_type": "markdown",
      "id": "d5e417fc-70c9-43d4-a294-e7728a24bf42",
      "metadata": {
        "id": "d5e417fc-70c9-43d4-a294-e7728a24bf42"
      },
      "source": [
        "To \"prepend a learnable embedding to the sequence of embedded patches\" we need to create a learnable embedding in the shape of the `embedding_dimension` ($D$) and then add it to the `number_of_patches` dimension.\n",
        "\n",
        "Or in pseudocode:\n",
        "\n",
        "```python\n",
        "patch_embedding = [image_patch_1, image_patch_2, image_patch_3...]\n",
        "class_token = learnable_embedding\n",
        "patch_embedding_with_class_token = torch.cat((class_token, patch_embedding), dim=1)\n",
        "```\n",
        "\n",
        "Notice the concatenation (`torch.cat()`) happens on `dim=1` (the `number_of_patches` dimension).\n",
        "\n",
        "Let's create a learnable embedding for the class token.\n",
        "\n",
        "To do so, we'll get the batch size and embedding dimension shape and then we'll create a `torch.ones()` tensor in the shape `[batch_size, 1, embedding_dimension]`.\n",
        "\n",
        "And we'll make the tensor learnable by passing it to `nn.Parameter()` with `requires_grad=True`."
      ]
    },
    {
      "cell_type": "code",
      "execution_count": null,
      "id": "cc0bb859-e62e-41a8-9a47-339e4272a152",
      "metadata": {
        "id": "cc0bb859-e62e-41a8-9a47-339e4272a152",
        "outputId": "08808f93-b906-4ba9-fa52-034f2941a5c4",
        "colab": {
          "base_uri": "https://localhost:8080/"
        }
      },
      "outputs": [
        {
          "output_type": "stream",
          "name": "stdout",
          "text": [
            "tensor([[[1., 1., 1., 1., 1., 1., 1., 1., 1., 1.]]], grad_fn=<SliceBackward0>)\n",
            "Class token shape: torch.Size([1, 1, 768]) -> [batch_size, number_of_tokens, embedding_dimension]\n"
          ]
        }
      ],
      "source": [
        "# Get the batch size and embedding dimension\n",
        "batch_size = patch_embedded_image.shape[0]\n",
        "embedding_dimension = patch_embedded_image.shape[-1]\n",
        "\n",
        "# Create the class token embedding as a learnable parameter that shares the same size as the embedding dimension (D)\n",
        "class_token = nn.Parameter(torch.ones(batch_size, 1, embedding_dimension), # [batch_size, number_of_tokens, embedding_dimension]\n",
        "                           requires_grad=True) # make sure the embedding is learnable\n",
        "\n",
        "# Show the first 10 examples of the class_token\n",
        "print(class_token[:, :, :10])\n",
        "\n",
        "# Print the class_token shape\n",
        "print(f\"Class token shape: {class_token.shape} -> [batch_size, number_of_tokens, embedding_dimension]\")"
      ]
    },
    {
      "cell_type": "markdown",
      "id": "f1ce6046-f018-4099-96d1-31dad6fc423b",
      "metadata": {
        "id": "f1ce6046-f018-4099-96d1-31dad6fc423b"
      },
      "source": [
        "> **Note:** Here we're only creating the class token embedding as [`torch.ones()`](https://pytorch.org/docs/stable/generated/torch.ones.html) for demonstration purposes, in reality, you'd likely create the class token embedding with [`torch.randn()`](https://pytorch.org/docs/stable/generated/torch.randn.html) (since machine learning is all about harnessing the power of controlled randomness, you generally start with a random number and improve it over time).\n",
        "\n",
        "See how the `number_of_tokens` dimension of `class_token` is `1` since we only want to prepend one class token value to the start of the patch embedding sequence.\n",
        "\n",
        "Now we've got the class token embedding, let's prepend it to our sequence of image patches, `patch_embedded_image`.\n",
        "\n",
        "We can do so using [`torch.cat()`](https://pytorch.org/docs/stable/generated/torch.cat.html) and set `dim=1` (so `class_token`'s `number_of_tokens` dimension is prepended to `patch_embedded_image`'s `number_of_patches` dimension)."
      ]
    },
    {
      "cell_type": "code",
      "execution_count": null,
      "id": "a7287b01-76cb-4371-ab07-981f7bbf2be5",
      "metadata": {
        "id": "a7287b01-76cb-4371-ab07-981f7bbf2be5",
        "outputId": "edf92f25-7a37-444e-9d2e-1525780f4a9d",
        "colab": {
          "base_uri": "https://localhost:8080/"
        }
      },
      "outputs": [
        {
          "output_type": "stream",
          "name": "stdout",
          "text": [
            "tensor([[[ 1.0000,  1.0000,  1.0000,  ...,  1.0000,  1.0000,  1.0000],\n",
            "         [-0.1914,  0.0396, -0.1028,  ...,  0.1472, -0.0583,  0.0768],\n",
            "         [-0.1805,  0.0415, -0.0863,  ...,  0.1403, -0.0663,  0.0754],\n",
            "         ...,\n",
            "         [-0.1162,  0.0211, -0.1166,  ...,  0.1202, -0.0373,  0.1046],\n",
            "         [-0.1366,  0.0348, -0.0569,  ...,  0.1007, -0.0442,  0.0301],\n",
            "         [-0.2385,  0.0757, -0.0998,  ...,  0.1826, -0.0636,  0.0502]]],\n",
            "       grad_fn=<CatBackward0>)\n",
            "Sequence of patch embeddings with class token prepended shape: torch.Size([1, 197, 768]) -> [batch_size, number_of_patches, embedding_dimension]\n"
          ]
        }
      ],
      "source": [
        "# Add the class token embedding to the front of the patch embedding\n",
        "patch_embedded_image_with_class_embedding = torch.cat((class_token, patch_embedded_image),\n",
        "                                                      dim=1) # concat on first dimension\n",
        "\n",
        "# Print the sequence of patch embeddings with the prepended class token embedding\n",
        "print(patch_embedded_image_with_class_embedding)\n",
        "print(f\"Sequence of patch embeddings with class token prepended shape: {patch_embedded_image_with_class_embedding.shape} -> [batch_size, number_of_patches, embedding_dimension]\")"
      ]
    },
    {
      "cell_type": "markdown",
      "id": "79fd9252-c15e-40a6-965a-a872e0e09cab",
      "metadata": {
        "id": "79fd9252-c15e-40a6-965a-a872e0e09cab"
      },
      "source": [
        "Nice! Learnable class token prepended!\n",
        "\n",
        "<img src=\"https://raw.githubusercontent.com/mrdbourke/pytorch-deep-learning/main/images/08-vit-paper-equation-1-prepending-the-learnable-class-token.png\" width=900 alt=\"going from a sequence of patch embeddings, creating a learnable class token and then prepending it to the patch embeddings\"/>\n",
        "\n",
        "*Reviewing what we've done to create the learnable class token, we start with a sequence of image patch embeddings created by `PatchEmbedding()` on single image, we then created a learnable class token with one value for each of the embedding dimensions and then prepended it to the original sequence of patch embeddings. **Note:** Using `torch.ones()` to create the learnable class token is mostly for demonstration purposes only, in practice, you'd likely create it with `torch.randn()`.*"
      ]
    },
    {
      "cell_type": "markdown",
      "id": "48502c61-16b0-4659-b95f-0e830ae93077",
      "metadata": {
        "id": "48502c61-16b0-4659-b95f-0e830ae93077"
      },
      "source": [
        "### 4.7 Creating the position embedding\n",
        "\n",
        "Well, we've got the class token embedding and the patch embedding, now how might we create the position embedding?\n",
        "\n",
        "Or $\\mathbf{E}_{\\text {pos }}$ from equation 1 where $E$ stands for \"embedding\".\n",
        "\n",
        "<img src=\"https://raw.githubusercontent.com/mrdbourke/pytorch-deep-learning/main/images/08-vit-paper-equation-1-the-position-embeddings.png\" width=900 alt=\"extracting the position embeddings from the vision transformer architecture and comparing them to other sections of the vision transformer paper\"/>\n",
        "\n",
        "*Left: Figure 1 from the ViT paper with the position embedding we're going to recreate highlighted. Right: Equation 1 and section 3.1 of the ViT paper that relate to the position embedding.*\n",
        "\n",
        "Let's find out more by reading section 3.1 of the ViT paper (bold mine):\n",
        "\n",
        "> Position embeddings are added to the patch embeddings to retain positional information. We use **standard learnable 1D position embeddings**, since we have not observed significant performance gains from using more advanced 2D-aware position embeddings (Appendix D.4). The resulting sequence of embedding vectors serves as input to the encoder.\n",
        "\n",
        "By \"retain positional information\" the authors mean they want the architecture to know what \"order\" the patches come in. As in, patch two comes after patch one and patch three comes after patch two and on and on.\n",
        "\n",
        "This positional information can be important when considering what's in an image (without positional information and a flattened sequence could be seen as having no order and thus no patch relates to any other patch).\n",
        "\n",
        "To start creating the position embeddings, let's view our current embeddings."
      ]
    },
    {
      "cell_type": "code",
      "execution_count": null,
      "id": "33e5e5bf-e744-4249-ac9b-08986be5ef81",
      "metadata": {
        "id": "33e5e5bf-e744-4249-ac9b-08986be5ef81",
        "outputId": "ffbb7b2d-9b7b-4422-9d40-fd5b684a8ff9",
        "colab": {
          "base_uri": "https://localhost:8080/"
        }
      },
      "outputs": [
        {
          "output_type": "execute_result",
          "data": {
            "text/plain": [
              "(tensor([[[ 1.0000,  1.0000,  1.0000,  ...,  1.0000,  1.0000,  1.0000],\n",
              "          [-0.1914,  0.0396, -0.1028,  ...,  0.1472, -0.0583,  0.0768],\n",
              "          [-0.1805,  0.0415, -0.0863,  ...,  0.1403, -0.0663,  0.0754],\n",
              "          ...,\n",
              "          [-0.1162,  0.0211, -0.1166,  ...,  0.1202, -0.0373,  0.1046],\n",
              "          [-0.1366,  0.0348, -0.0569,  ...,  0.1007, -0.0442,  0.0301],\n",
              "          [-0.2385,  0.0757, -0.0998,  ...,  0.1826, -0.0636,  0.0502]]],\n",
              "        grad_fn=<CatBackward0>),\n",
              " torch.Size([1, 197, 768]))"
            ]
          },
          "metadata": {},
          "execution_count": 113
        }
      ],
      "source": [
        "# View the sequence of patch embeddings with the prepended class embedding\n",
        "patch_embedded_image_with_class_embedding, patch_embedded_image_with_class_embedding.shape"
      ]
    },
    {
      "cell_type": "markdown",
      "id": "ecd1d068-7cac-46b7-aa43-ea8f01ffed4a",
      "metadata": {
        "id": "ecd1d068-7cac-46b7-aa43-ea8f01ffed4a"
      },
      "source": [
        "Equation 1 states that the position embeddings ($\\mathbf{E}_{\\text {pos }}$) should have the shape $(N + 1) \\times D$:\n",
        "\n",
        "$$\\mathbf{E}_{\\text {pos }} \\in \\mathbb{R}^{(N+1) \\times D}$$\n",
        "\n",
        "Where:\n",
        "* $N=H W / P^{2}$ is the resulting number of patches, which also serves as the effective input sequence length for the Transformer (number of patches).\n",
        "* $D$ is the size of the **patch embeddings**, different values for $D$ can be found in Table 1 (embedding dimension).\n",
        "\n",
        "Luckily we've got both of these values already.\n",
        "\n",
        "So let's make a learnable 1D embedding with `torch.ones()` to create $\\mathbf{E}_{\\text {pos }}$."
      ]
    },
    {
      "cell_type": "code",
      "execution_count": null,
      "id": "5bb7f6d1-0824-47eb-a059-6854da5c7433",
      "metadata": {
        "id": "5bb7f6d1-0824-47eb-a059-6854da5c7433",
        "outputId": "27246c22-df7b-4d76-c95a-829e02c91823",
        "colab": {
          "base_uri": "https://localhost:8080/"
        }
      },
      "outputs": [
        {
          "output_type": "stream",
          "name": "stdout",
          "text": [
            "tensor([[[1., 1., 1., 1., 1., 1., 1., 1., 1., 1.],\n",
            "         [1., 1., 1., 1., 1., 1., 1., 1., 1., 1.],\n",
            "         [1., 1., 1., 1., 1., 1., 1., 1., 1., 1.],\n",
            "         [1., 1., 1., 1., 1., 1., 1., 1., 1., 1.],\n",
            "         [1., 1., 1., 1., 1., 1., 1., 1., 1., 1.],\n",
            "         [1., 1., 1., 1., 1., 1., 1., 1., 1., 1.],\n",
            "         [1., 1., 1., 1., 1., 1., 1., 1., 1., 1.],\n",
            "         [1., 1., 1., 1., 1., 1., 1., 1., 1., 1.],\n",
            "         [1., 1., 1., 1., 1., 1., 1., 1., 1., 1.],\n",
            "         [1., 1., 1., 1., 1., 1., 1., 1., 1., 1.]]], grad_fn=<SliceBackward0>)\n",
            "Position embedding shape: torch.Size([1, 197, 768]) -> [batch_size, number_of_patches, embedding_dimension]\n"
          ]
        }
      ],
      "source": [
        "# Calculate N (number of patches)\n",
        "number_of_patches = int((height * width) / patch_size**2)\n",
        "\n",
        "# Get embedding dimension\n",
        "embedding_dimension = patch_embedded_image_with_class_embedding.shape[2]\n",
        "\n",
        "# Create the learnable 1D position embedding\n",
        "position_embedding = nn.Parameter(torch.ones(1,\n",
        "                                             number_of_patches+1,\n",
        "                                             embedding_dimension),\n",
        "                                  requires_grad=True) # make sure it's learnable\n",
        "\n",
        "# Show the first 10 sequences and 10 position embedding values and check the shape of the position embedding\n",
        "print(position_embedding[:, :10, :10])\n",
        "print(f\"Position embedding shape: {position_embedding.shape} -> [batch_size, number_of_patches, embedding_dimension]\")"
      ]
    },
    {
      "cell_type": "markdown",
      "id": "332facb6-b478-4910-b620-c06d1462d8b8",
      "metadata": {
        "id": "332facb6-b478-4910-b620-c06d1462d8b8"
      },
      "source": [
        "> **Note:** Only creating the position embedding as `torch.ones()` for demonstration purposes, in reality, you'd likely create the position embedding with `torch.randn()` (start with a random number and improve via gradient descent).\n",
        "\n",
        "Position embeddings created!\n",
        "\n",
        "Let's add them to our sequence of patch embeddings with a prepended class token."
      ]
    },
    {
      "cell_type": "code",
      "execution_count": null,
      "id": "03370370-e2c2-4e46-bc20-302b97fba9d7",
      "metadata": {
        "id": "03370370-e2c2-4e46-bc20-302b97fba9d7",
        "outputId": "f7b5c6ef-2d6d-429a-ad9d-72baa6ab9b17",
        "colab": {
          "base_uri": "https://localhost:8080/"
        }
      },
      "outputs": [
        {
          "output_type": "stream",
          "name": "stdout",
          "text": [
            "tensor([[[2.0000, 2.0000, 2.0000,  ..., 2.0000, 2.0000, 2.0000],\n",
            "         [0.8086, 1.0396, 0.8972,  ..., 1.1472, 0.9417, 1.0768],\n",
            "         [0.8195, 1.0415, 0.9137,  ..., 1.1403, 0.9337, 1.0754],\n",
            "         ...,\n",
            "         [0.8838, 1.0211, 0.8834,  ..., 1.1202, 0.9627, 1.1046],\n",
            "         [0.8634, 1.0348, 0.9431,  ..., 1.1007, 0.9558, 1.0301],\n",
            "         [0.7615, 1.0757, 0.9002,  ..., 1.1826, 0.9364, 1.0502]]],\n",
            "       grad_fn=<AddBackward0>)\n",
            "Patch embeddings, class token prepended and positional embeddings added shape: torch.Size([1, 197, 768]) -> [batch_size, number_of_patches, embedding_dimension]\n"
          ]
        }
      ],
      "source": [
        "# Add the position embedding to the patch and class token embedding\n",
        "patch_and_position_embedding = patch_embedded_image_with_class_embedding + position_embedding\n",
        "print(patch_and_position_embedding)\n",
        "print(f\"Patch embeddings, class token prepended and positional embeddings added shape: {patch_and_position_embedding.shape} -> [batch_size, number_of_patches, embedding_dimension]\")"
      ]
    },
    {
      "cell_type": "markdown",
      "id": "80a39e97-4504-4931-9cec-2569389f3faf",
      "metadata": {
        "id": "80a39e97-4504-4931-9cec-2569389f3faf"
      },
      "source": [
        "Notice how the values of each of the elements in the embedding tensor increases by 1 (this is because of the position embeddings being created with `torch.ones()`).\n",
        "\n",
        "> **Note:** We could put both the class token embedding and position embedding into their own layer if we wanted to. But we'll see later on in section 8 how they can be incorporated into the overall ViT architecture's `forward()` method.\n",
        "\n",
        "<img src=\"https://raw.githubusercontent.com/mrdbourke/pytorch-deep-learning/main/images/08-vit-paper-equation-1-patch-embeddings-with-learnable-class-token-and-position-embeddings.png\" width=900 alt=\"patch embeddings with learnable class token and position embeddings\"/>\n",
        "\n",
        "*The workflow we've used for adding the position embeddings to the sequence of patch embeddings and class token. **Note:** `torch.ones()` only used to create embeddings for illustration purposes, in practice, you'd likely use `torch.randn()` to start with a random number.*"
      ]
    },
    {
      "cell_type": "markdown",
      "id": "6654c7ed-eb94-408b-b435-9b352c84328b",
      "metadata": {
        "id": "6654c7ed-eb94-408b-b435-9b352c84328b"
      },
      "source": [
        "### 4.8 Putting it all together: from image to embedding\n",
        "\n",
        "Alright, we've come a long way in terms of turning our input images into an embedding and replicating equation 1 from section 3.1 of the ViT paper:\n",
        "\n",
        "$$\n",
        "\\begin{aligned}\n",
        "\\mathbf{z}_{0} &=\\left[\\mathbf{x}_{\\text {class }} ; \\mathbf{x}_{p}^{1} \\mathbf{E} ; \\mathbf{x}_{p}^{2} \\mathbf{E} ; \\cdots ; \\mathbf{x}_{p}^{N} \\mathbf{E}\\right]+\\mathbf{E}_{\\text {pos }}, & & \\mathbf{E} \\in \\mathbb{R}^{\\left(P^{2} \\cdot C\\right) \\times D}, \\mathbf{E}_{\\text {pos }} \\in \\mathbb{R}^{(N+1) \\times D}\n",
        "\\end{aligned}\n",
        "$$\n",
        "\n",
        "Let's now put everything together in a single code cell and go from input image ($\\mathbf{x}$) to output embedding ($\\mathbf{z}_0$).\n",
        "\n",
        "We can do so by:\n",
        "1. Setting the patch size (we'll use `16` as it's widely used throughout the paper and for ViT-Base).\n",
        "2. Getting a single image, printing its shape and storing its height and width.\n",
        "3. Adding a batch dimension to the single image so it's compatible with our `PatchEmbedding` layer.\n",
        "4. Creating a `PatchEmbedding` layer (the one we made in section 4.5) with a `patch_size=16` and `embedding_dim=768` (from Table 1 for ViT-Base).\n",
        "5. Passing the single image through the `PatchEmbedding` layer in 4 to create a sequence of patch embeddings.\n",
        "6. Creating a class token embedding like in section 4.6.\n",
        "7. Prepending the class token embedding to the patch embeddings created in step 5.\n",
        "8. Creating a position embedding like in section 4.7.\n",
        "9. Adding the position embedding to the class token and patch embeddings created in step 7.\n",
        "\n",
        "We'll also make sure to set the random seeds with `set_seeds()` and print out the shapes of different tensors along the way."
      ]
    },
    {
      "cell_type": "code",
      "execution_count": null,
      "id": "8de90548-e6b0-4123-90ca-a23b0fab52a9",
      "metadata": {
        "id": "8de90548-e6b0-4123-90ca-a23b0fab52a9",
        "outputId": "fb5ab153-6d65-47d4-9988-47d8d65a920a",
        "colab": {
          "base_uri": "https://localhost:8080/"
        }
      },
      "outputs": [
        {
          "output_type": "stream",
          "name": "stdout",
          "text": [
            "Image tensor shape: torch.Size([3, 224, 224])\n",
            "Input image with batch dimension shape: torch.Size([1, 3, 224, 224])\n",
            "Patching embedding shape: torch.Size([1, 196, 768])\n",
            "Class token embedding shape: torch.Size([1, 1, 768])\n",
            "Patch embedding with class token shape: torch.Size([1, 197, 768])\n",
            "Patch and position embedding shape: torch.Size([1, 197, 768])\n"
          ]
        }
      ],
      "source": [
        "set_seeds()\n",
        "\n",
        "# 1. Set patch size\n",
        "patch_size = 16\n",
        "\n",
        "# 2. Print shape of original image tensor and get the image dimensions\n",
        "print(f\"Image tensor shape: {image.shape}\")\n",
        "height, width = image.shape[1], image.shape[2]\n",
        "\n",
        "# 3. Get image tensor and add batch dimension\n",
        "x = image.unsqueeze(0)\n",
        "print(f\"Input image with batch dimension shape: {x.shape}\")\n",
        "\n",
        "# 4. Create patch embedding layer\n",
        "patch_embedding_layer = PatchEmbedding(in_channels=3,\n",
        "                                       patch_size=patch_size,\n",
        "                                       embedding_dim=768)\n",
        "\n",
        "# 5. Pass image through patch embedding layer\n",
        "patch_embedding = patch_embedding_layer(x)\n",
        "print(f\"Patching embedding shape: {patch_embedding.shape}\")\n",
        "\n",
        "# 6. Create class token embedding\n",
        "batch_size = patch_embedding.shape[0]\n",
        "embedding_dimension = patch_embedding.shape[-1]\n",
        "class_token = nn.Parameter(torch.ones(batch_size, 1, embedding_dimension),\n",
        "                           requires_grad=True) # make sure it's learnable\n",
        "print(f\"Class token embedding shape: {class_token.shape}\")\n",
        "\n",
        "# 7. Prepend class token embedding to patch embedding\n",
        "patch_embedding_class_token = torch.cat((class_token, patch_embedding), dim=1)\n",
        "print(f\"Patch embedding with class token shape: {patch_embedding_class_token.shape}\")\n",
        "\n",
        "# 8. Create position embedding\n",
        "number_of_patches = int((height * width) / patch_size**2)\n",
        "position_embedding = nn.Parameter(torch.ones(1, number_of_patches+1, embedding_dimension),\n",
        "                                  requires_grad=True) # make sure it's learnable\n",
        "\n",
        "# 9. Add position embedding to patch embedding with class token\n",
        "patch_and_position_embedding = patch_embedding_class_token + position_embedding\n",
        "print(f\"Patch and position embedding shape: {patch_and_position_embedding.shape}\")"
      ]
    },
    {
      "cell_type": "markdown",
      "id": "129b4a2b-0a24-461f-a437-ad49925576c4",
      "metadata": {
        "id": "129b4a2b-0a24-461f-a437-ad49925576c4"
      },
      "source": [
        "Woohoo!\n",
        "\n",
        "From a single image to patch and position embeddings in a single cell of code.\n",
        "\n",
        "<img src=\"https://raw.githubusercontent.com/mrdbourke/pytorch-deep-learning/main/images/08-vit-paper-equation-1-putting-it-all-together.png\" width=900 alt=\"mapping equation 1 from the vision transformer paper to pytorch code\"/>\n",
        "\n",
        "*Mapping equation 1 from the ViT paper to our PyTorch code. This is the essence of paper replicating, taking a research paper and turning it into usable code.*\n",
        "\n",
        "Now we've got a way to encode our images and pass them to the Transformer Encoder in Figure 1 of the ViT paper.\n",
        "\n",
        "<img src=\"https://github.com/mrdbourke/pytorch-deep-learning/raw/main/images/08-vit-paper-architecture-animation-full-architecture.gif\" alt=\"Vision transformer architecture animation, going from a single image and passing it through a patch embedidng layer and then passing it through the transformer encoder.\" width=900/>\n",
        "\n",
        "*Animating the entire ViT workflow: from patch embeddings to transformer encoder to MLP head.*\n",
        "\n",
        "From a code perspective, creating the patch embedding is probably the largest section of replicating the ViT paper.\n",
        "\n",
        "Many of the other parts of the ViT paper such as the Multi-Head Attention and Norm layers can be created using existing PyTorch layers.\n",
        "\n",
        "Onwards!"
      ]
    },
    {
      "cell_type": "markdown",
      "id": "02f725de-64d1-41d2-a9d6-374cf6d4f589",
      "metadata": {
        "id": "02f725de-64d1-41d2-a9d6-374cf6d4f589"
      },
      "source": [
        "## 5. Equation 2: Multi-Head Attention (MSA)\n",
        "\n",
        "We've got our input data patchified and embedded, now let's move onto the next part of the ViT architecture.\n",
        "\n",
        "To start, we'll break down the Transformer Encoder section into two parts (start small and increase when necessary).\n",
        "\n",
        "The first being equation 2 and the second being equation 3.\n",
        "\n",
        "Recall equation 2 states:\n",
        "\n",
        "$$\n",
        "\\begin{aligned}\n",
        "\\mathbf{z}_{\\ell}^{\\prime} &=\\operatorname{MSA}\\left(\\operatorname{LN}\\left(\\mathbf{z}_{\\ell-1}\\right)\\right)+\\mathbf{z}_{\\ell-1}, & & \\ell=1 \\ldots L\n",
        "\\end{aligned}\n",
        "$$\n",
        "\n",
        "This indicates a Multi-Head Attention (MSA) layer wrapped in a LayerNorm (LN) layer with a residual connection (the input to the layer gets added to the output of the layer).\n",
        "\n",
        "We'll refer to equation 2 as the \"MSA block\".\n",
        "\n",
        "<img src=\"https://raw.githubusercontent.com/mrdbourke/pytorch-deep-learning/main/images/08-vit-paper-equation-2-msa-block-mapped-to-equation.png\" alt=\"mapping equation 2 from the ViT paper to the ViT architecture diagram in figure 1\" width=900/>\n",
        "\n",
        "***Left:** Figure 1 from the ViT paper with Multi-Head Attention and Norm layers as well as the residual connection (+) highlighted within the Transformer Encoder block. **Right:** Mapping the Multi-Head Self Attention (MSA) layer, Norm layer and residual connection to their respective parts of equation 2 in the ViT paper.*\n",
        "\n",
        "Many layers you find in research papers are already implemented in modern deep learning frameworks such as PyTorch.\n",
        "\n",
        "In saying this, to replicate these layers and residual connection with PyTorch code we can use:\n",
        "* **Multi-Head Self Attention (MSA)** - [`torch.nn.MultiheadAttention()`](https://pytorch.org/docs/stable/generated/torch.nn.MultiheadAttention.html).\n",
        "* **Norm (LN or LayerNorm)** - [`torch.nn.LayerNorm()`](https://pytorch.org/docs/stable/generated/torch.nn.LayerNorm.html).\n",
        "* **Residual connection** - add the input to output (we'll see this later on when we create the full Transformer Encoder block in section 7.1)."
      ]
    },
    {
      "cell_type": "markdown",
      "id": "97430d7a-a69b-423c-be2b-ac16e7f9f83f",
      "metadata": {
        "id": "97430d7a-a69b-423c-be2b-ac16e7f9f83f"
      },
      "source": [
        "### 5.1 The LayerNorm (LN) layer\n",
        "\n",
        "[Layer Normalization](https://paperswithcode.com/method/layer-normalization) (`torch.nn.LayerNorm()` or Norm or LayerNorm or LN) normalizes an input over the last dimension.\n",
        "\n",
        "You can find the formal definition of `torch.nn.LayerNorm()` in the [PyTorch documentation](https://pytorch.org/docs/stable/generated/torch.nn.LayerNorm.html).\n",
        "\n",
        "PyTorch's `torch.nn.LayerNorm()`'s main parameter is `normalized_shape` which we can set to be equal to the dimension size we'd like to normalize over (in our case it'll be $D$ or `768` for ViT-Base).\n",
        "\n",
        "What does it do?\n",
        "\n",
        "Layer Normalization helps improve training time and model generalization (ability to adapt to unseen data).\n",
        "\n",
        "I like to think of any kind of normalization as \"getting the data into a similar format\" or \"getting data samples into a similar distribution\".\n",
        "\n",
        "Imagine trying to walk up (or down) a set of stairs all with differing heights and lengths.\n",
        "\n",
        "It'd take some adjustment on each step right?\n",
        "\n",
        "And what you learn for each step wouldn't necessarily help with the next one since they all differ, increasing the time it takes you to navigate the stairs.\n",
        "\n",
        "Normalization (including Layer Normalization) is the equivalent of making all the stairs the same height and length except the stairs are your data samples.\n",
        "\n",
        "So just like you can walk up (or down) stairs with similar heights and lengths much easier than those with unequal heights and widths, neural networks can optimize over data samples with similar distributions (similar mean and standard-deviations) easier than those with varying distributions."
      ]
    },
    {
      "cell_type": "markdown",
      "id": "cf09f6d0-2480-4577-a694-1171898e1777",
      "metadata": {
        "id": "cf09f6d0-2480-4577-a694-1171898e1777"
      },
      "source": [
        "### 5.2 The Multi-Head Self Attention (MSA) layer\n",
        "\n",
        "The power of the self-attention and multi-head attention (self-attention applied multiple times) were revealed in the form of the original Transformer architecture introduced in the [*Attention is all you need*](https://arxiv.org/abs/1706.03762) research paper.\n",
        "\n",
        "Originally designed for text inputs, the original self-attention mechanism takes a sequence of words and then calculates which word should pay more \"attention\" to another word.\n",
        "\n",
        "In other words, in the sentence \"the dog jumped over the fence\", perhaps the word \"dog\" relates strongly to \"jumped\" and \"fence\".\n",
        "\n",
        "This is simplified but the premise remains for images.\n",
        "\n",
        "Since our input is a sequence of image patches rather than words, self-attention and in turn multi-head attention will calculate which patch of an image is most related to another patch, eventually forming a learned representation of an image.\n",
        "\n",
        "But what's most important is that the layer does this on its own given the data (we don't tell it what patterns to learn).\n",
        "\n",
        "And if the learned representation the layers form using MSA are good, we'll see the results in our model's performance.\n",
        "\n",
        "There are many resources online to learn more about the Transformer architecture and attention mechanism online such as Jay Alammar's wonderful [Illustrated Transformer post](https://jalammar.github.io/illustrated-transformer/) and [Illustrated Attention post](https://jalammar.github.io/visualizing-neural-machine-translation-mechanics-of-seq2seq-models-with-attention/).\n",
        "\n",
        "We're going to focus more on coding an existing PyTorch MSA implementation than creating our own.\n",
        "\n",
        "However, you can find the formal definition of the ViT paper's MSA implementation is defined in Appendix A:\n",
        "\n",
        "<img src=\"https://raw.githubusercontent.com/mrdbourke/pytorch-deep-learning/main/images/08-vit-paper-equation-2-appendix-A.png\" alt=\"vision transformer paper figure 1 highlighted with equation 2 and appendix A\" width=900/>\n",
        "\n",
        "***Left:** Vision Transformer architecture overview from Figure 1 of the ViT paper. **Right:** Definitions of equation 2, section 3.1 and Appendix A of the ViT paper highlighted to reflect their respective parts in Figure 1.*\n",
        "\n",
        "The image above highlights the triple embedding input to the MSA layer.\n",
        "\n",
        "This is known as **query, key, value** input or **qkv** for short which is fundamental to the self-attention mechanism.\n",
        "\n",
        "In our case, the triple embedding input will be three versions of the output of the Norm layer, one for query, key and value.\n",
        "\n",
        "Or three versions of our layer-normalized image patch and position embeddings created in section 4.8.\n",
        "\n",
        "We can implement the MSA layer in PyTorch with `torch.nn.MultiheadAttention()` with the parameters:\n",
        "* `embed_dim` - the embedding dimension from Table 1 (Hidden size $D$).\n",
        "* `num_heads` - how many attention heads to use (this is where the term \"multihead\" comes from), this value is also in Table 1 (Heads).\n",
        "* `dropout` - whether or not to apply dropout to the attention layer (according to Appendix B.1, dropout isn't used after the qkv-projections).\n",
        "* `batch_first` - does our batch dimension come first? (yes it does)"
      ]
    },
    {
      "cell_type": "markdown",
      "id": "b1a012fa-9bf6-4cf2-bbd0-30ed692f9d74",
      "metadata": {
        "id": "b1a012fa-9bf6-4cf2-bbd0-30ed692f9d74"
      },
      "source": [
        "### 5.3 Replicating Equation 2 with PyTorch layers\n",
        "\n",
        "Let's put everything we've discussed about the LayerNorm (LN) and Multi-Head Attention (MSA) layers in equation 2 into practice.\n",
        "\n",
        "To do so, we'll:  \n",
        "\n",
        "1. Create a class called `MultiheadSelfAttentionBlock` that inherits from `torch.nn.Module`.\n",
        "2. Initialize the class with hyperparameters from Table 1 of the ViT paper for the ViT-Base model.\n",
        "3. Create a layer normalization (LN) layer with `torch.nn.LayerNorm()` with the `normalized_shape` parameter the same as our embedding dimension ($D$ from Table 1).\n",
        "4. Create a multi-head attention (MSA) layer with the appropriate `embed_dim`, `num_heads`, `dropout` and `batch_first` parameters.\n",
        "5. Create a `forward()` method for our class passing the in the inputs through the LN layer and MSA layer."
      ]
    },
    {
      "cell_type": "code",
      "execution_count": null,
      "id": "b76ae98c",
      "metadata": {
        "id": "b76ae98c"
      },
      "outputs": [],
      "source": [
        "# 1. Create a class that inherits from nn.Module\n",
        "class MultiheadSelfAttentionBlock(nn.Module):\n",
        "    \"\"\"Creates a multi-head self-attention block (\"MSA block\" for short).\n",
        "    \"\"\"\n",
        "    # 2. Initialize the class with hyperparameters from Table 1\n",
        "    def __init__(self,\n",
        "                 embedding_dim:int=768, # Hidden size D from Table 1 for ViT-Base\n",
        "                 num_heads:int=12, # Heads from Table 1 for ViT-Base\n",
        "                 attn_dropout:float=0): # doesn't look like the paper uses any dropout in MSABlocks\n",
        "        super().__init__()\n",
        "\n",
        "        # 3. Create the Norm layer (LN)\n",
        "        self.layer_norm = nn.LayerNorm(normalized_shape=embedding_dim)\n",
        "\n",
        "        # 4. Create the Multi-Head Attention (MSA) layer\n",
        "        self.multihead_attn = nn.MultiheadAttention(embed_dim=embedding_dim,\n",
        "                                                    num_heads=num_heads,\n",
        "                                                    dropout=attn_dropout,\n",
        "                                                    batch_first=True) # does our batch dimension come first?\n",
        "\n",
        "    # 5. Create a forward() method to pass the data through the layers\n",
        "    def forward(self, x):\n",
        "        x = self.layer_norm(x)\n",
        "        attn_output, _ = self.multihead_attn(query=x, # query embeddings\n",
        "                                             key=x, # key embeddings\n",
        "                                             value=x, # value embeddings\n",
        "                                             need_weights=False) # do we need the weights or just the layer outputs?\n",
        "        return attn_output"
      ]
    },
    {
      "cell_type": "markdown",
      "id": "fc1f0c30-a4ea-41e8-98b2-1a6d8de802d1",
      "metadata": {
        "id": "fc1f0c30-a4ea-41e8-98b2-1a6d8de802d1"
      },
      "source": [
        "> **Note:** Unlike Figure 1, our `MultiheadSelfAttentionBlock` doesn't include a skip or residual connection (\"$+\\mathbf{z}_{\\ell-1}$\" in equation 2), we'll include this when we create the entire Transformer Encoder later on in section 7.1.\n",
        "\n",
        "MSABlock created!\n",
        "\n",
        "Let's try it out by create an instance of our `MultiheadSelfAttentionBlock` and passing through the `patch_and_position_embedding` variable we created in section 4.8."
      ]
    },
    {
      "cell_type": "code",
      "execution_count": null,
      "id": "ceb1dfc0-40ad-4cee-bc54-e9a5cec56895",
      "metadata": {
        "id": "ceb1dfc0-40ad-4cee-bc54-e9a5cec56895",
        "outputId": "b390d899-bfdf-462f-e8e7-c50e7b114b1d",
        "colab": {
          "base_uri": "https://localhost:8080/"
        }
      },
      "outputs": [
        {
          "output_type": "stream",
          "name": "stdout",
          "text": [
            "Input shape of MSA block: torch.Size([1, 197, 768])\n",
            "Output shape MSA block: torch.Size([1, 197, 768])\n"
          ]
        }
      ],
      "source": [
        "# Create an instance of MSABlock\n",
        "multihead_self_attention_block = MultiheadSelfAttentionBlock(embedding_dim=768, # from Table 1\n",
        "                                                             num_heads=12) # from Table 1\n",
        "\n",
        "# Pass patch and position image embedding through MSABlock\n",
        "patched_image_through_msa_block = multihead_self_attention_block(patch_and_position_embedding)\n",
        "print(f\"Input shape of MSA block: {patch_and_position_embedding.shape}\")\n",
        "print(f\"Output shape MSA block: {patched_image_through_msa_block.shape}\")"
      ]
    },
    {
      "cell_type": "markdown",
      "id": "5c9f8384-6120-495a-b253-baff5de58097",
      "metadata": {
        "id": "5c9f8384-6120-495a-b253-baff5de58097"
      },
      "source": [
        "Notice how the input and output shape of our data stays the same when it goes through the MSA block.\n",
        "\n",
        "This doesn't mean the data doesn't change as it goes through.\n",
        "\n",
        "You could try printing the input and output tensor to see how it changes (though this change will be across `1 * 197 * 768` values and could be hard to visualize).\n",
        "\n",
        "<img src=\"https://raw.githubusercontent.com/mrdbourke/pytorch-deep-learning/main/images/08-vit-paper-equation-2-in-code.png\" width=900 alt=\"vision transformer paper with equation 2 of figure 1 highlighted and equation 2 turned into code\"/>\n",
        "\n",
        "***Left:** Vision Transformer architecture from Figure 1 with Multi-Head Attention and LayerNorm layers highlighted, these layers make up equation 2 from section 3.1 of the paper. **Right:** Replicating equation 2 (without the skip connection on the end) using PyTorch layers.*\n",
        "\n",
        "We've now officially replicated equation 2 (except for the residual connection on the end but we'll get to this in section 7.1)!\n",
        "\n",
        "Onto the next!"
      ]
    },
    {
      "cell_type": "markdown",
      "id": "236848a7-a1e0-403d-8c78-d1c61d1e45fd",
      "metadata": {
        "id": "236848a7-a1e0-403d-8c78-d1c61d1e45fd",
        "tags": []
      },
      "source": [
        "## 6. Equation 3: Multilayer Perceptron (MLP)\n",
        "\n",
        "We're on a roll here!\n",
        "\n",
        "Let's keep it going and replicate equation 3:\n",
        "\n",
        "$$\n",
        "\\begin{aligned}\n",
        "\\mathbf{z}_{\\ell} &=\\operatorname{MLP}\\left(\\operatorname{LN}\\left(\\mathbf{z}_{\\ell}^{\\prime}\\right)\\right)+\\mathbf{z}_{\\ell}^{\\prime}, & & \\ell=1 \\ldots L\n",
        "\\end{aligned}\n",
        "$$\n",
        "\n",
        "Here MLP stands for \"multilayer perceptron\" and LN stands for \"layer normalization\" (as discussed above).\n",
        "\n",
        "And the addition on the end is the skip/residual connection.\n",
        "\n",
        "We'll refer to equation 3 as the \"MLP block\" of the Transformer encoder (notice how we're continuing the trend of breaking down the architecture into smaller chunks).\n",
        "\n",
        "<img src=\"https://github.com/mrdbourke/pytorch-deep-learning/raw/main/images/08-vit-paper-equation-3-annotated.png\" alt=\"mapping equation 3 from the ViT paper to the ViT architecture diagram in figure 1\" width=900/>\n",
        "\n",
        "***Left:** Figure 1 from the ViT paper with MLP and Norm layers as well as the residual connection (+) highlighted within the Transformer Encoder block. **Right:** Mapping the multilayer perceptron (MLP) layer, Norm layer (LN) and residual connection to their respective parts of equation 3 in the ViT paper.*"
      ]
    },
    {
      "cell_type": "markdown",
      "id": "589be777-e2af-48d2-9ba7-4cd922aa1528",
      "metadata": {
        "id": "589be777-e2af-48d2-9ba7-4cd922aa1528",
        "tags": []
      },
      "source": [
        "### 6.1 The MLP layer(s)\n",
        "\n",
        "The term [MLP](https://en.wikipedia.org/wiki/Multilayer_perceptron) is quite broad as it can refer to almost any combination of *multiple* layers (hence the \"multi\" in multilayer perceptron).\n",
        "\n",
        "But it generally follows the pattern of:\n",
        "\n",
        "`linear layer -> non-linear layer -> linear layer -> non-linear layer`\n",
        "\n",
        "In the the case of the ViT paper, the MLP structure is defined in section 3.1:\n",
        "\n",
        "> The MLP contains two layers with a GELU non-linearity.\n",
        "\n",
        "Where \"two layers\" refers to linear layers ([`torch.nn.Linear()`](https://pytorch.org/docs/stable/generated/torch.nn.Linear.html) in PyTorch) and \"GELU non-linearity\" is the GELU  (Gaussian Error Linear Units) non-linear activation function ([`torch.nn.GELU()`](https://pytorch.org/docs/stable/generated/torch.nn.GELU.html) in PyTorch).\n",
        "\n",
        "> **Note:** A linear layer (`torch.nn.Linear()`) can sometimes also be referred to as a \"dense layer\" or \"feedforward layer\". Some papers even use all three terms to describe the same thing (as in the ViT paper).\n",
        "\n",
        "Another sneaky detail about the MLP block doesn't appear until Appendix B.1 (Training):\n",
        "\n",
        "> Table 3 summarizes our training setups for our different models. ...Dropout, when used, is applied **after every dense layer except for the the qkv-projections and directly after adding positional- to patch embeddings.**\n",
        "\n",
        "This means that every linear layer (or dense layer) in the MLP block has a dropout layer ([`torch.nn.Dropout()`](https://pytorch.org/docs/stable/generated/torch.nn.Dropout.html) in PyTorch).\n",
        "\n",
        "The value of which can be found in Table 3 of the ViT paper (for ViT-Base, `dropout=0.1`).\n",
        "\n",
        "Knowing this, the structure of our MLP block will be:\n",
        "\n",
        "`layer norm -> linear layer -> non-linear layer -> dropout -> linear layer -> dropout`\n",
        "\n",
        "With hyperparameter values for the linear layers available from Table 1 (MLP size is the number of hidden units between the linear layers and hidden size $D$ is the output size of the MLP block)."
      ]
    },
    {
      "cell_type": "markdown",
      "id": "baebde6a-d03b-4fd1-bb43-dc78454e41e1",
      "metadata": {
        "id": "baebde6a-d03b-4fd1-bb43-dc78454e41e1",
        "tags": []
      },
      "source": [
        "### 6.2 Replicating Equation 3 with PyTorch layers\n",
        "\n",
        "Let's put everything we've discussed about the LayerNorm (LN) and MLP (MSA) layers in equation 3 into practice.\n",
        "\n",
        "To do so, we'll:  \n",
        "\n",
        "1. Create a class called `MLPBlock` that inherits from `torch.nn.Module`.\n",
        "2. Initialize the class with hyperparameters from Table 1 and Table 3 of the ViT paper for the ViT-Base model.\n",
        "3. Create a layer normalization (LN) layer with `torch.nn.LayerNorm()` with the `normalized_shape` parameter the same as our embedding dimension ($D$ from Table 1).\n",
        "4. Create a sequential series of MLP layers(s) using `torch.nn.Linear()`, `torch.nn.Dropout()` and `torch.nn.GELU()` with appropriate hyperparameter values from Table 1 and Table 3.\n",
        "5. Create a `forward()` method for our class passing the in the inputs through the LN layer and MLP layer(s)."
      ]
    },
    {
      "cell_type": "code",
      "execution_count": null,
      "id": "68d9dbfe",
      "metadata": {
        "id": "68d9dbfe"
      },
      "outputs": [],
      "source": [
        "# 1. Create a class that inherits from nn.Module\n",
        "class MLPBlock(nn.Module):\n",
        "    \"\"\"Creates a layer normalized multilayer perceptron block (\"MLP block\" for short).\"\"\"\n",
        "    # 2. Initialize the class with hyperparameters from Table 1 and Table 3\n",
        "    def __init__(self,\n",
        "                 embedding_dim:int=768, # Hidden Size D from Table 1 for ViT-Base\n",
        "                 mlp_size:int=3072, # MLP size from Table 1 for ViT-Base\n",
        "                 dropout:float=0.1): # Dropout from Table 3 for ViT-Base\n",
        "        super().__init__()\n",
        "\n",
        "        # 3. Create the Norm layer (LN)\n",
        "        self.layer_norm = nn.LayerNorm(normalized_shape=embedding_dim)\n",
        "\n",
        "        # 4. Create the Multilayer perceptron (MLP) layer(s)\n",
        "        self.mlp = nn.Sequential(\n",
        "            nn.Linear(in_features=embedding_dim,\n",
        "                      out_features=mlp_size),\n",
        "            nn.GELU(), # \"The MLP contains two layers with a GELU non-linearity (section 3.1).\"\n",
        "            nn.Dropout(p=dropout),\n",
        "            nn.Linear(in_features=mlp_size, # needs to take same in_features as out_features of layer above\n",
        "                      out_features=embedding_dim), # take back to embedding_dim\n",
        "            nn.Dropout(p=dropout) # \"Dropout, when used, is applied after every dense layer..\"\n",
        "        )\n",
        "\n",
        "    # 5. Create a forward() method to pass the data through the layers\n",
        "    def forward(self, x):\n",
        "        x = self.layer_norm(x)\n",
        "        x = self.mlp(x)\n",
        "        return x"
      ]
    },
    {
      "cell_type": "markdown",
      "id": "cfd5dca2-27c7-41dc-a705-d5d82c8d3a39",
      "metadata": {
        "id": "cfd5dca2-27c7-41dc-a705-d5d82c8d3a39"
      },
      "source": [
        "> **Note:** Unlike Figure 1, our `MLPBlock()` doesn't include a skip or residual connection (\"$+\\mathbf{z}_{\\ell}^{\\prime}$\" in equation 3), we'll include this when we create the entire Transformer encoder later on.\n",
        "\n",
        "MLPBlock class created!\n",
        "\n",
        "Let's try it out by create an instance of our `MLPBlock` and passing through the `patched_image_through_msa_block` variable we created in section 5.3."
      ]
    },
    {
      "cell_type": "code",
      "execution_count": null,
      "id": "442fb987",
      "metadata": {
        "id": "442fb987",
        "outputId": "5f0ab763-9c94-49c2-ff26-5ca91ad0f3d8",
        "colab": {
          "base_uri": "https://localhost:8080/"
        }
      },
      "outputs": [
        {
          "output_type": "stream",
          "name": "stdout",
          "text": [
            "Input shape of MLP block: torch.Size([1, 197, 768])\n",
            "Output shape MLP block: torch.Size([1, 197, 768])\n"
          ]
        }
      ],
      "source": [
        "# Create an instance of MLPBlock\n",
        "mlp_block = MLPBlock(embedding_dim=768, # from Table 1\n",
        "                     mlp_size=3072, # from Table 1\n",
        "                     dropout=0.1) # from Table 3\n",
        "\n",
        "# Pass output of MSABlock through MLPBlock\n",
        "patched_image_through_mlp_block = mlp_block(patched_image_through_msa_block)\n",
        "print(f\"Input shape of MLP block: {patched_image_through_msa_block.shape}\")\n",
        "print(f\"Output shape MLP block: {patched_image_through_mlp_block.shape}\")"
      ]
    },
    {
      "cell_type": "markdown",
      "id": "9c4a5b25-c482-4ee1-931a-171559c5f19c",
      "metadata": {
        "id": "9c4a5b25-c482-4ee1-931a-171559c5f19c"
      },
      "source": [
        "Notice how the input and output shape of our data again stays the same when it goes in and out of the MLP block.\n",
        "\n",
        "However, the shape does change when the data gets passed through the `nn.Linear()` layers within the MLP block (expanded to MLP size from Table 1 and then compressed back to Hidden size $D$ from Table 1).\n",
        "\n",
        "<img src=\"https://raw.githubusercontent.com/mrdbourke/pytorch-deep-learning/main/images/08-vit-paper-equation-3-mapped-to-code.png\" width=900 alt=\"vision transformer paper with equation 3 of figure 1 highlighted and equation 3 turned into code\"/>\n",
        "\n",
        "*Left: Vision Transformer architecture from Figure 1 with MLP and Norm layers highlighted, these layers make up equation 3 from section 3.1 of the paper. Right: Replicating equation 3 (without the skip connection on the end) using PyTorch layers.*\n",
        "\n",
        "Ho ho!\n",
        "\n",
        "Equation 3 replicated (except for the residual connection on the end but we'll get to this in section 7.1)!\n",
        "\n",
        "Now we've got equation's 2 and 3 in PyTorch code, let's now put them together to create the Transformer Encoder."
      ]
    },
    {
      "cell_type": "markdown",
      "id": "6259bdc6-525a-4bd6-89e8-c2dcdab09d0d",
      "metadata": {
        "id": "6259bdc6-525a-4bd6-89e8-c2dcdab09d0d"
      },
      "source": [
        "## 7. Create the Transformer Encoder\n",
        "\n",
        "Time to stack together our `MultiheadSelfAttentionBlock` (equation 2) and `MLPBlock` (equation 3) and create the Transformer Encoder of the ViT architecture.\n",
        "\n",
        "In deep learning, an [\"encoder\" or \"auto encoder\"](https://paperswithcode.com/method/autoencoder) generally refers to a stack of layers that \"encodes\" an input (turns it into some form of numerical representation).\n",
        "\n",
        "In our case, the Transformer Encoder will encode our patched image embedding into a learned representation using a series of alternating layers of MSA blocks and MLP blocks, as per section 3.1 of the ViT Paper:\n",
        "\n",
        "> The Transformer encoder (Vaswani et al., 2017) consists of alternating layers of multiheaded selfattention (MSA, see Appendix A) and MLP blocks (Eq. 2, 3). **Layernorm (LN) is applied before every block**, and **residual connections after every block** (Wang et al., 2019; Baevski & Auli, 2019).\n",
        "\n",
        "We've created MSA and MLP blocks but what about the residual connections?\n",
        "\n",
        "[Residual connections](https://paperswithcode.com/method/residual-connection) (also called skip connections), were first introduced in the paper [*Deep Residual Learning for Image Recognition*](https://arxiv.org/abs/1512.03385v1) and are achieved by adding a layer(s) input to its subsequent output.\n",
        "\n",
        "Where the subsequence output might be one or more layers later.\n",
        "\n",
        "In the case of the ViT architecture, the residual connection means the input of the MSA block is added back to the output of the MSA block before it passes to the MLP block.\n",
        "\n",
        "And the same thing happens with the MLP block before it goes onto the next Transformer Encoder block.\n",
        "\n",
        "Or in pseudocode:\n",
        "\n",
        "`x_input -> MSA_block -> [MSA_block_output + x_input] -> MLP_block -> [MLP_block_output + MSA_block_output + x_input] -> ...`\n",
        "\n",
        "What does this do?\n",
        "\n",
        "One of the main ideas behind residual connections is that they prevent weight values and gradient updates from getting too small and thus allow deeper networks and in turn allow deeper representations to be learned.\n",
        "\n",
        "> **Note:** The iconic computer vision architecture \"ResNet\" is named so because of the introduction of *res*idual connections. You can find many pretrained versions of ResNet architectures in [`torchvision.models`](https://pytorch.org/vision/stable/models.html)."
      ]
    },
    {
      "cell_type": "markdown",
      "id": "0d8c4f01-e6b5-4b70-b991-a2ec03a6e6b5",
      "metadata": {
        "id": "0d8c4f01-e6b5-4b70-b991-a2ec03a6e6b5"
      },
      "source": [
        "### 7.1 Creating a Transformer Encoder by combining our custom made layers\n",
        "\n",
        "Enough talk, let's see this in action and make a ViT Transformer Encoder with PyTorch by combining our previously created layers.\n",
        "\n",
        "To do so, we'll:  \n",
        "\n",
        "1. Create a class called `TransformerEncoderBlock` that inherits from `torch.nn.Module`.\n",
        "2. Initialize the class with hyperparameters from Table 1 and Table 3 of the ViT paper for the ViT-Base model.\n",
        "3. Instantiate a MSA block for equation 2 using our `MultiheadSelfAttentionBlock` from section 5.2 with the appropriate parameters.\n",
        "4. Instantiate a MLP block for equation 3 using our `MLPBlock` from section 6.2 with the appropriate parameters.\n",
        "5. Create a `forward()` method for our `TransformerEncoderBlock` class.\n",
        "6. Create a residual connection for the MSA block (for equation 2).\n",
        "7. Create a residual connection for the MLP block (for equation 3)."
      ]
    },
    {
      "cell_type": "code",
      "execution_count": null,
      "id": "2c43855c",
      "metadata": {
        "id": "2c43855c"
      },
      "outputs": [],
      "source": [
        "# 1. Create a class that inherits from nn.Module\n",
        "class TransformerEncoderBlock(nn.Module):\n",
        "    \"\"\"Creates a Transformer Encoder block.\"\"\"\n",
        "    # 2. Initialize the class with hyperparameters from Table 1 and Table 3\n",
        "    def __init__(self,\n",
        "                 embedding_dim:int=768, # Hidden size D from Table 1 for ViT-Base\n",
        "                 num_heads:int=12, # Heads from Table 1 for ViT-Base\n",
        "                 mlp_size:int=3072, # MLP size from Table 1 for ViT-Base\n",
        "                 mlp_dropout:float=0.1, # Amount of dropout for dense layers from Table 3 for ViT-Base\n",
        "                 attn_dropout:float=0): # Amount of dropout for attention layers\n",
        "        super().__init__()\n",
        "\n",
        "        # 3. Create MSA block (equation 2)\n",
        "        self.msa_block = MultiheadSelfAttentionBlock(embedding_dim=embedding_dim,\n",
        "                                                     num_heads=num_heads,\n",
        "                                                     attn_dropout=attn_dropout)\n",
        "\n",
        "        # 4. Create MLP block (equation 3)\n",
        "        self.mlp_block =  MLPBlock(embedding_dim=embedding_dim,\n",
        "                                   mlp_size=mlp_size,\n",
        "                                   dropout=mlp_dropout)\n",
        "\n",
        "    # 5. Create a forward() method\n",
        "    def forward(self, x):\n",
        "\n",
        "        # 6. Create residual connection for MSA block (add the input to the output)\n",
        "        x =  self.msa_block(x) + x\n",
        "\n",
        "        # 7. Create residual connection for MLP block (add the input to the output)\n",
        "        x = self.mlp_block(x) + x\n",
        "\n",
        "        return x"
      ]
    },
    {
      "cell_type": "markdown",
      "id": "b9199182-d14e-4c54-a391-7a53b6c78a44",
      "metadata": {
        "id": "b9199182-d14e-4c54-a391-7a53b6c78a44"
      },
      "source": [
        "Beautiful!\n",
        "\n",
        "Transformer Encoder block created!\n",
        "\n",
        "<img src=\"https://github.com/mrdbourke/pytorch-deep-learning/raw/main/images/08-vit-paper-transformer-encoder-highlighted.png\" width=900 alt=\"vision transformer architecture with transformer encoder blocks highlighted\"/>\n",
        "\n",
        "***Left:** Figure 1 from the ViT paper with the Transformer Encoder of the ViT architecture highlighted. **Right:** Transformer Encoder mapped to equation 2 and 3 of the ViT paper, the Transformer Encoder is comprised of alternating blocks of equation 2 (Multi-Head Attention) and equation 3 (Multilayer perceptron).*\n",
        "\n",
        "See how we're starting to piece together the overall architecture like legos, coding one brick (or equation) at a time.\n",
        "\n",
        "<img src=\"https://github.com/mrdbourke/pytorch-deep-learning/raw/main/images/08-vit-paper-transformer-encoder-mapped-to-code.png\" width=900 alt=\"vision transformer architecture transformer encoder block mapped to code\"/>\n",
        "\n",
        "*Mapping the ViT Transformer Encoder to code.*\n",
        "\n",
        "You might've noticed that Table 1 from the ViT paper has a Layers column. This refers to the number of Transformer Encoder blocks in the specific ViT architecture.\n",
        "\n",
        "In our case, for ViT-Base, we'll be stacking together 12 of these Transformer Encoder blocks to form the backbone of our architecture (we'll get to this in section 8).\n",
        "\n",
        "Let's get a `torchinfo.summary()` of passing an input of shape `(1, 197, 768) -> (batch_size, num_patches, embedding_dimension)` to our Transformer Encoder block."
      ]
    },
    {
      "cell_type": "code",
      "execution_count": null,
      "id": "a63be4de-ffff-4fa1-97b8-103012797d36",
      "metadata": {
        "id": "a63be4de-ffff-4fa1-97b8-103012797d36"
      },
      "outputs": [],
      "source": [
        "# Create an instance of TransformerEncoderBlock\n",
        "transformer_encoder_block = TransformerEncoderBlock()\n",
        "\n",
        "# # Print an input and output summary of our Transformer Encoder (uncomment for full output)\n",
        "# summary(model=transformer_encoder_block,\n",
        "#         input_size=(1, 197, 768), # (batch_size, num_patches, embedding_dimension)\n",
        "#         col_names=[\"input_size\", \"output_size\", \"num_params\", \"trainable\"],\n",
        "#         col_width=20,\n",
        "#         row_settings=[\"var_names\"])"
      ]
    },
    {
      "cell_type": "markdown",
      "id": "fdf8796b-e3f5-4a23-912b-d1d7264287c3",
      "metadata": {
        "id": "fdf8796b-e3f5-4a23-912b-d1d7264287c3"
      },
      "source": [
        "<img src=\"https://github.com/mrdbourke/pytorch-deep-learning/raw/main/images/08-vit-paper-summary-output-transformer-encoder.png\" alt=\"summary output of a Transformer Encoder layer in PyTorch\" width=900/>\n",
        "\n",
        "Woah! Check out all those parameters!\n",
        "\n",
        "You can see our input changing shape as it moves through all of the various layers in the MSA block and MLP block of the Transformer Encoder block before finally returning to its original shape at the very end.\n",
        "\n",
        "> **Note:** Just because our input to the Transformer Encoder block has the same shape at the output of the block doesn't mean the values weren't manipulated, the whole goal of the Transformer Encoder block (and stacking them together) is to learn a deep representation of the input using the various layers in between."
      ]
    },
    {
      "cell_type": "markdown",
      "id": "8219d44e-0e17-4404-ac0e-45886bfda71e",
      "metadata": {
        "id": "8219d44e-0e17-4404-ac0e-45886bfda71e",
        "tags": []
      },
      "source": [
        "### 7.2 Creating a Transformer Encoder with PyTorch's Transformer layers\n",
        "\n",
        "So far we've built the components of and the Transformer Encoder layer itself ourselves.\n",
        "\n",
        "But because of their rise in popularity and effectiveness, PyTorch now has in-built [Transformer layers as part of `torch.nn`](https://pytorch.org/docs/stable/nn.html#transformer-layers).\n",
        "\n",
        "For example, we can recreate the `TransformerEncoderBlock` we just created using [`torch.nn.TransformerEncoderLayer()`](https://pytorch.org/docs/stable/generated/torch.nn.TransformerEncoderLayer.html#torch.nn.TransformerEncoderLayer) and setting the same hyperparameters as above."
      ]
    },
    {
      "cell_type": "code",
      "execution_count": null,
      "id": "97687357-a884-4653-8302-cb94a1f2c7d3",
      "metadata": {
        "id": "97687357-a884-4653-8302-cb94a1f2c7d3",
        "outputId": "153598f1-67eb-4fa6-868d-4a6644012afb",
        "colab": {
          "base_uri": "https://localhost:8080/"
        }
      },
      "outputs": [
        {
          "output_type": "execute_result",
          "data": {
            "text/plain": [
              "TransformerEncoderLayer(\n",
              "  (self_attn): MultiheadAttention(\n",
              "    (out_proj): NonDynamicallyQuantizableLinear(in_features=768, out_features=768, bias=True)\n",
              "  )\n",
              "  (linear1): Linear(in_features=768, out_features=3072, bias=True)\n",
              "  (dropout): Dropout(p=0.1, inplace=False)\n",
              "  (linear2): Linear(in_features=3072, out_features=768, bias=True)\n",
              "  (norm1): LayerNorm((768,), eps=1e-05, elementwise_affine=True)\n",
              "  (norm2): LayerNorm((768,), eps=1e-05, elementwise_affine=True)\n",
              "  (dropout1): Dropout(p=0.1, inplace=False)\n",
              "  (dropout2): Dropout(p=0.1, inplace=False)\n",
              ")"
            ]
          },
          "metadata": {},
          "execution_count": 123
        }
      ],
      "source": [
        "# Create the same as above with torch.nn.TransformerEncoderLayer()\n",
        "torch_transformer_encoder_layer = nn.TransformerEncoderLayer(d_model=768, # Hidden size D from Table 1 for ViT-Base\n",
        "                                                             nhead=12, # Heads from Table 1 for ViT-Base\n",
        "                                                             dim_feedforward=3072, # MLP size from Table 1 for ViT-Base\n",
        "                                                             dropout=0.1, # Amount of dropout for dense layers from Table 3 for ViT-Base\n",
        "                                                             activation=\"gelu\", # GELU non-linear activation\n",
        "                                                             batch_first=True, # Do our batches come first?\n",
        "                                                             norm_first=True) # Normalize first or after MSA/MLP layers?\n",
        "\n",
        "torch_transformer_encoder_layer"
      ]
    },
    {
      "cell_type": "markdown",
      "id": "4f0a6f44-ac1d-44ac-acf5-b5b47db59402",
      "metadata": {
        "id": "4f0a6f44-ac1d-44ac-acf5-b5b47db59402"
      },
      "source": [
        "To inspect it further, let's get a summary with `torchinfo.summary()`."
      ]
    },
    {
      "cell_type": "code",
      "execution_count": null,
      "id": "aa4fdb79-d2e8-4b6b-8aec-e9c712089c67",
      "metadata": {
        "id": "aa4fdb79-d2e8-4b6b-8aec-e9c712089c67"
      },
      "outputs": [],
      "source": [
        "# # Get the output of PyTorch's version of the Transformer Encoder (uncomment for full output)\n",
        "# summary(model=torch_transformer_encoder_layer,\n",
        "#         input_size=(1, 197, 768), # (batch_size, num_patches, embedding_dimension)\n",
        "#         col_names=[\"input_size\", \"output_size\", \"num_params\", \"trainable\"],\n",
        "#         col_width=20,\n",
        "#         row_settings=[\"var_names\"])"
      ]
    },
    {
      "cell_type": "markdown",
      "id": "aab22163-243b-44e5-a84e-01216b63d9d6",
      "metadata": {
        "id": "aab22163-243b-44e5-a84e-01216b63d9d6"
      },
      "source": [
        "<img src=\"https://github.com/mrdbourke/pytorch-deep-learning/raw/main/images/08-vit-paper-summary-output-pytorch-transformer-encoder.png\" alt=\"output summary of PyTorch's implementation of the Transformer Encoder layer\" width=900/>\n",
        "\n",
        "The output of the summary is slightly different to ours due to how `torch.nn.TransformerEncoderLayer()` constructs its layer.\n",
        "\n",
        "But the layers it uses, number of parameters and input and output shapes are the same.\n",
        "\n",
        "You might be thinking, \"if we could create the Transformer Encoder so quickly with PyTorch layers, why did we bother reproducing equation 2 and 3?\"\n",
        "\n",
        "The answer is: practice.\n",
        "\n",
        "Now we've replicated a series of equations and layers from a paper, if you need to change the layers and try something different you can.\n",
        "\n",
        "But there are benefits of using the PyTorch pre-built layers, such as:\n",
        "* **Less prone to errors** - Generally, if a layer makes it into the PyTorch standard library, it's been tested and tried to work.\n",
        "* **Potentially better performance** - As of July 2022 and PyTorch 1.12, the PyTorch implemented version of `torch.nn.TransformerEncoderLayer()` can see [a speedup of more than 2x on many common workloads](https://pytorch.org/blog/a-better-transformer-for-fast-transformer-encoder-inference/).\n",
        "\n",
        "Finally, since the ViT architecture uses several Transformer Layers stacked on top of each for the full architecture (Table 1 shows 12 Layers in the case of ViT-Base), you can do this with [`torch.nn.TransformerEncoder(encoder_layer, num_layers)`](https://pytorch.org/docs/stable/generated/torch.nn.TransformerEncoder.html#torch.nn.TransformerEncoder) where:\n",
        "* `encoder_layer` - The target Transformer Encoder layer created with `torch.nn.TransformerEncoderLayer()`.\n",
        "* `num_layers` - The number of Transformer Encoder layers to stack together."
      ]
    },
    {
      "cell_type": "markdown",
      "id": "94f9041c-a0af-4fbe-8969-a2bde8637821",
      "metadata": {
        "id": "94f9041c-a0af-4fbe-8969-a2bde8637821"
      },
      "source": [
        "## 8. Putting it all together to create ViT\n",
        "\n",
        "Alright, alright, alright, we've come a long way!\n",
        "\n",
        "But now it's time to do the exciting thing of putting together all of the pieces of the puzzle.\n",
        "\n",
        "We're going to combine all of the blocks we've created to replicate the full ViT architecture.\n",
        "\n",
        "From the patch and positional embedding to the Transformer Encoder(s) to the MLP Head.\n",
        "\n",
        "But wait, we haven't created equation 4 yet...\n",
        "\n",
        "$$\n",
        "\\begin{aligned}\n",
        "\\mathbf{y} &=\\operatorname{LN}\\left(\\mathbf{z}_{L}^{0}\\right) & &\n",
        "\\end{aligned}\n",
        "$$\n",
        "\n",
        "Don't worry, we can put equation 4 into our overall ViT architecture class.\n",
        "\n",
        "All we need is a `torch.nn.LayerNorm()` layer and a `torch.nn.Linear()` layer to convert the 0th index ($\\mathbf{z}_{L}^{0}$) of the Transformer Encoder logit outputs to the target number of classes we have.\n",
        "\n",
        "To create the full architecture, we'll also need to stack a number of our `TransformerEncoderBlock`s on top of each other, we can do this by passing a list of them to `torch.nn.Sequential()` (this will make a sequential range of `TransformerEncoderBlock`s).\n",
        "\n",
        "We'll focus on the ViT-Base hyperparameters from Table 1 but our code should be adaptable to other ViT variants.\n",
        "\n",
        "Creating ViT will be our biggest code block yet but we can do it!\n",
        "\n",
        "Finally, to bring our own implementation of ViT to life, let's:\n",
        "\n",
        "1. Create a class called `ViT` that inherits from `torch.nn.Module`.\n",
        "2. Initialize the class with hyperparameters from Table 1 and Table 3 of the ViT paper for the ViT-Base model.\n",
        "3. Make sure the image size is divisible by the patch size (the image should be split into even patches).\n",
        "4. Calculate the number of patches using the formula $N=H W / P^{2}$, where $H$ is the image height, $W$ is the image width and $P$ is the patch size.\n",
        "5. Create a learnable class embedding token (equation 1) as done above in section 4.6.\n",
        "6. Create a learnable position embedding vector (equation 1) as done above in section 4.7.\n",
        "7. Setup the embedding dropout layer as discussed in Appendix B.1 of the ViT paper.\n",
        "8. Create the patch embedding layer using the `PatchEmbedding` class as above in section 4.5.\n",
        "9. Create a series of Transformer Encoder blocks by passing a list of `TransformerEncoderBlock`s created in section 7.1 to `torch.nn.Sequential()` (equations 2 & 3).\n",
        "10. Create the MLP head (also called classifier head or equation 4) by passing a `torch.nn.LayerNorm()` (LN) layer and a `torch.nn.Linear(out_features=num_classes)` layer (where `num_classes` is the target number of classes) linear layer to `torch.nn.Sequential()`.\n",
        "11. Create a `forward()` method that accepts an input.\n",
        "12. Get the batch size of the input (the first dimension of the shape).\n",
        "13. Create the patching embedding using the layer created in step 8 (equation 1).\n",
        "14. Create the class token embedding using the layer created in step 5 and expand it across the number of batches found in step 11 using [`torch.Tensor.expand()`](https://pytorch.org/docs/stable/generated/torch.Tensor.expand.html) (equation 1).\n",
        "15. Concatenate the class token embedding created in step 13 to the first dimension of the patch embedding created in step 12 using [`torch.cat()`](https://pytorch.org/docs/stable/generated/torch.cat.html) (equation 1).\n",
        "16. Add the position embedding created in step 6 to the patch and class token embedding created in step 14 (equation 1).\n",
        "17. Pass the patch and position embedding through the dropout layer created in step 7.\n",
        "18. Pass the patch and position embedding from step 16 through the stack of Transformer Encoder layers created in step 9 (equations 2 & 3).\n",
        "19. Pass index 0 of the output of the stack of Transformer Encoder layers from step 17 through the classifier head created in step 10 (equation 4).\n",
        "20. Dance and shout woohoo!!! We just built a Vision Transformer!\n",
        "\n",
        "You ready?\n",
        "\n",
        "Let's go."
      ]
    },
    {
      "cell_type": "code",
      "execution_count": null,
      "id": "2df890d5",
      "metadata": {
        "id": "2df890d5"
      },
      "outputs": [],
      "source": [
        "# 1. Create a ViT class that inherits from nn.Module\n",
        "class ViT(nn.Module):\n",
        "    \"\"\"Creates a Vision Transformer architecture with ViT-Base hyperparameters by default.\"\"\"\n",
        "    # 2. Initialize the class with hyperparameters from Table 1 and Table 3\n",
        "    def __init__(self,\n",
        "                 img_size:int=224, # Training resolution from Table 3 in ViT paper\n",
        "                 in_channels:int=3, # Number of channels in input image\n",
        "                 patch_size:int=16, # Patch size\n",
        "                 num_transformer_layers:int=12, # Layers from Table 1 for ViT-Base\n",
        "                 embedding_dim:int=768, # Hidden size D from Table 1 for ViT-Base\n",
        "                 mlp_size:int=3072, # MLP size from Table 1 for ViT-Base\n",
        "                #  num_heads:int=12, # Heads from Table 1 for ViT-Base\n",
        "                 num_heads:int=8, # Heads from Table 1 for ViT-Base\n",
        "                 attn_dropout:float=0, # Dropout for attention projection\n",
        "                 mlp_dropout:float=0.1, # Dropout for dense/MLP layers\n",
        "                 embedding_dropout:float=0.1, # Dropout for patch and position embeddings\n",
        "                 num_classes:int=1000): # Default for ImageNet but can customize this\n",
        "        super().__init__() # don't forget the super().__init__()!\n",
        "\n",
        "        # 3. Make the image size is divisible by the patch size\n",
        "        assert img_size % patch_size == 0, f\"Image size must be divisible by patch size, image size: {img_size}, patch size: {patch_size}.\"\n",
        "\n",
        "        # 4. Calculate number of patches (height * width/patch^2)\n",
        "        self.num_patches = (img_size * img_size) // patch_size**2\n",
        "\n",
        "        # 5. Create learnable class embedding (needs to go at front of sequence of patch embeddings)\n",
        "        self.class_embedding = nn.Parameter(data=torch.randn(1, 1, embedding_dim),\n",
        "                                            requires_grad=True)\n",
        "\n",
        "        # 6. Create learnable position embedding\n",
        "        self.position_embedding = nn.Parameter(data=torch.randn(1, self.num_patches+1, embedding_dim),\n",
        "                                               requires_grad=True)\n",
        "\n",
        "        # 7. Create embedding dropout value\n",
        "        self.embedding_dropout = nn.Dropout(p=embedding_dropout)\n",
        "\n",
        "        # 8. Create patch embedding layer\n",
        "        self.patch_embedding = PatchEmbedding(in_channels=in_channels,\n",
        "                                              patch_size=patch_size,\n",
        "                                              embedding_dim=embedding_dim)\n",
        "\n",
        "        # 9. Create Transformer Encoder blocks (we can stack Transformer Encoder blocks using nn.Sequential())\n",
        "        # Note: The \"*\" means \"all\"\n",
        "        self.transformer_encoder = nn.Sequential(*[TransformerEncoderBlock(embedding_dim=embedding_dim,\n",
        "                                                                            num_heads=num_heads,\n",
        "                                                                            mlp_size=mlp_size,\n",
        "                                                                            mlp_dropout=mlp_dropout) for _ in range(num_transformer_layers)])\n",
        "\n",
        "        # 10. Create classifier head\n",
        "        self.classifier = nn.Sequential(\n",
        "            nn.LayerNorm(normalized_shape=embedding_dim),\n",
        "            nn.Linear(in_features=embedding_dim,\n",
        "                      out_features=num_classes)\n",
        "        )\n",
        "\n",
        "    # 11. Create a forward() method\n",
        "    def forward(self, x):\n",
        "\n",
        "        # 12. Get batch size\n",
        "        batch_size = x.shape[0]\n",
        "\n",
        "        # 13. Create class token embedding and expand it to match the batch size (equation 1)\n",
        "        class_token = self.class_embedding.expand(batch_size, -1, -1) # \"-1\" means to infer the dimension (try this line on its own)\n",
        "\n",
        "        # 14. Create patch embedding (equation 1)\n",
        "        x = self.patch_embedding(x)\n",
        "\n",
        "        # 15. Concat class embedding and patch embedding (equation 1)\n",
        "        x = torch.cat((class_token, x), dim=1)\n",
        "\n",
        "        # 16. Add position embedding to patch embedding (equation 1)\n",
        "        x = self.position_embedding + x\n",
        "\n",
        "        # 17. Run embedding dropout (Appendix B.1)\n",
        "        x = self.embedding_dropout(x)\n",
        "\n",
        "        # 18. Pass patch, position and class embedding through transformer encoder layers (equations 2 & 3)\n",
        "        x = self.transformer_encoder(x)\n",
        "\n",
        "        # 19. Put 0 index logit through classifier (equation 4)\n",
        "        x = self.classifier(x[:, 0]) # run on each sample in a batch at 0 index\n",
        "\n",
        "        return x"
      ]
    },
    {
      "cell_type": "markdown",
      "id": "b26bd2d5-a7cd-4d14-a2fc-ff8edd8b29b7",
      "metadata": {
        "id": "b26bd2d5-a7cd-4d14-a2fc-ff8edd8b29b7"
      },
      "source": [
        "20. 🕺💃🥳 Woohoo!!! We just built a vision transformer!\n",
        "\n",
        "What an effort!\n",
        "\n",
        "Slowly but surely we created layers and blocks, inputs and outputs and put them all together to build our own ViT!\n",
        "\n",
        "Let's create a quick demo to showcase what's happening with the class token embedding being expanded over the batch dimensions."
      ]
    },
    {
      "cell_type": "code",
      "execution_count": null,
      "id": "7dc9f8ec",
      "metadata": {
        "id": "7dc9f8ec",
        "outputId": "dc582303-b73e-4394-ef71-a65e5a6c48b8",
        "colab": {
          "base_uri": "https://localhost:8080/"
        }
      },
      "outputs": [
        {
          "output_type": "stream",
          "name": "stdout",
          "text": [
            "Shape of class token embedding single: torch.Size([1, 1, 768])\n",
            "Shape of class token embedding expanded: torch.Size([32, 1, 768])\n"
          ]
        }
      ],
      "source": [
        "# Example of creating the class embedding and expanding over a batch dimension\n",
        "batch_size = 32\n",
        "class_token_embedding_single = nn.Parameter(data=torch.randn(1, 1, 768)) # create a single learnable class token\n",
        "class_token_embedding_expanded = class_token_embedding_single.expand(batch_size, -1, -1) # expand the single learnable class token across the batch dimension, \"-1\" means to \"infer the dimension\"\n",
        "\n",
        "# Print out the change in shapes\n",
        "print(f\"Shape of class token embedding single: {class_token_embedding_single.shape}\")\n",
        "print(f\"Shape of class token embedding expanded: {class_token_embedding_expanded.shape}\")"
      ]
    },
    {
      "cell_type": "markdown",
      "id": "3f07ff70-e09c-4d7c-a119-b2185f46e35a",
      "metadata": {
        "id": "3f07ff70-e09c-4d7c-a119-b2185f46e35a"
      },
      "source": [
        "Notice how the first dimension gets expanded to the batch size and the other dimensions stay the same (because they're inferred by the \"`-1`\" dimensions in `.expand(batch_size, -1, -1)`).\n",
        "\n",
        "Alright time to test out `ViT()` class.\n",
        "\n",
        "Let's create a random tensor in the same shape as a single image, pass to an instance of `ViT` and see what happens."
      ]
    },
    {
      "cell_type": "code",
      "execution_count": null,
      "id": "f86190a3-ed1f-4ab3-881c-4eecea996912",
      "metadata": {
        "id": "f86190a3-ed1f-4ab3-881c-4eecea996912",
        "outputId": "207b48d8-f94f-4568-efaa-05e0739d261e",
        "colab": {
          "base_uri": "https://localhost:8080/"
        }
      },
      "outputs": [
        {
          "output_type": "execute_result",
          "data": {
            "text/plain": [
              "tensor([[ 0.4388,  0.5884,  0.9594, -0.3757, -0.1571, -0.1790, -0.5509, -0.1408,\n",
              "         -0.7538,  1.1733]], grad_fn=<AddmmBackward0>)"
            ]
          },
          "metadata": {},
          "execution_count": 127
        }
      ],
      "source": [
        "set_seeds()\n",
        "\n",
        "# Create a random tensor with same shape as a single image\n",
        "random_image_tensor = torch.randn(1, 3, 224, 224) # (batch_size, color_channels, height, width)\n",
        "\n",
        "# Create an instance of ViT with the number of classes we're working with (pizza, steak, sushi)\n",
        "vit = ViT(num_classes=len(class_names))\n",
        "\n",
        "# Pass the random image tensor to our ViT instance\n",
        "vit(random_image_tensor)"
      ]
    },
    {
      "cell_type": "markdown",
      "id": "e210b803-f6a4-47e9-af63-dfa92f0eadbe",
      "metadata": {
        "id": "e210b803-f6a4-47e9-af63-dfa92f0eadbe"
      },
      "source": [
        "Outstanding!\n",
        "\n",
        "It looks like our random image tensor made it all the way through our ViT architecture and it's outputting three logit values (one for each class).\n",
        "\n",
        "And because our `ViT` class has plenty of parameters we could customize the `img_size`, `patch_size` or `num_classes` if we wanted to."
      ]
    },
    {
      "cell_type": "markdown",
      "id": "2c0a0c9c-6d98-47fd-a152-8a06be99b5fa",
      "metadata": {
        "id": "2c0a0c9c-6d98-47fd-a152-8a06be99b5fa"
      },
      "source": [
        "### 8.1 Getting a visual summary of our ViT model\n",
        "\n",
        "We handcrafted our own version of the ViT architecture and seen that a random image tensor can flow all the way through it.\n",
        "\n",
        "How about we use `torchinfo.summary()` to get a visual overview of the input and output shapes of all the layers in our model?\n",
        "\n",
        "> **Note:** The ViT paper states the use of a batch size of 4096 for training, however, this requires a far bit of CPU/GPU compute memory to handle (the larger the batch size the more memory required). So to make sure we don't get memory errors, we'll stick with a batch size of 32. You could always increase this later if you have access to hardware with more memory."
      ]
    },
    {
      "cell_type": "code",
      "execution_count": null,
      "id": "494bde26-ed1e-45dc-b615-78ac268ca20e",
      "metadata": {
        "id": "494bde26-ed1e-45dc-b615-78ac268ca20e"
      },
      "outputs": [],
      "source": [
        "from torchinfo import summary\n",
        "\n",
        "# # Print a summary of our custom ViT model using torchinfo (uncomment for actual output)\n",
        "# summary(model=vit,\n",
        "#         input_size=(32, 3, 224, 224), # (batch_size, color_channels, height, width)\n",
        "#         # col_names=[\"input_size\"], # uncomment for smaller output\n",
        "#         col_names=[\"input_size\", \"output_size\", \"num_params\", \"trainable\"],\n",
        "#         col_width=20,\n",
        "#         row_settings=[\"var_names\"]\n",
        "# )"
      ]
    },
    {
      "cell_type": "markdown",
      "id": "d0279251-5cc1-42a5-bebc-8391ef911343",
      "metadata": {
        "id": "d0279251-5cc1-42a5-bebc-8391ef911343"
      },
      "source": [
        "<img src=\"https://raw.githubusercontent.com/mrdbourke/pytorch-deep-learning/main/images/08-vit-paper-summary-output-custom-vit-model.png\" alt=\"input and output summary of our custom made ViT model\" width=900/>\n",
        "\n",
        "Now those are some nice looking layers!\n",
        "\n",
        "Checkout the total number of parameters too, 85,800,963, our biggest model yet!\n",
        "\n",
        "The number is very close to PyTorch's pretrained ViT-Base with patch size 16 at [`torch.vision.models.vit_b_16()`](https://pytorch.org/vision/main/models/generated/torchvision.models.vit_b_16.html#torchvision.models.vit_b_16) with 86,567,656 total parameters (though this number of parameters is for the 1000 classes in ImageNet).\n",
        "\n",
        "> **Exercise:** Try changing the `num_classes` parameter of our `ViT()` model to 1000 and then creating another summary with `torchinfo.summary()` and see if the number of parameters lines up between our code and `torchvision.models.vit_b_16()`."
      ]
    },
    {
      "cell_type": "markdown",
      "id": "e8088ca7-48b4-4a96-8f58-f84980073e0b",
      "metadata": {
        "id": "e8088ca7-48b4-4a96-8f58-f84980073e0b"
      },
      "source": [
        "## 9. Setting up training code for our ViT model\n",
        "\n",
        "Ok time for the easy part.\n",
        "\n",
        "Training!\n",
        "\n",
        "Why easy?\n",
        "\n",
        "Because we've got most of what we need ready to go, from our model (`vit`) to our DataLoaders (`train_dataloader`, `test_dataloader`) to the training functions we created in [05. PyTorch Going Modular section 4](https://www.learnpytorch.io/05_pytorch_going_modular/#4-creating-train_step-and-test_step-functions-and-train-to-combine-them).\n",
        "\n",
        "To train our model we can import the `train()` function from [`going_modular.going_modular.engine`](https://github.com/mrdbourke/pytorch-deep-learning/blob/main/going_modular/going_modular/train.py).\n",
        "\n",
        "All we need is a loss function and an optimizer."
      ]
    },
    {
      "cell_type": "markdown",
      "id": "2554a736-ca45-4f83-abc3-41750c20ec58",
      "metadata": {
        "id": "2554a736-ca45-4f83-abc3-41750c20ec58"
      },
      "source": [
        "### 9.1 Creating an optimizer\n",
        "\n",
        "Searching the ViT paper for \"optimizer\", section 4.1 on Training & Fine-tuning states:\n",
        "\n",
        "> **Training & Fine-tuning.** We train all models, including ResNets, using Adam (Kingma & Ba, 2015 ) with $\\beta_{1}=0.9, \\beta_{2}=0.999$, a batch size of 4096 and apply a high weight decay of $0.1$, which we found to be useful for transfer of all models (Appendix D.1 shows that, in contrast to common practices, Adam works slightly better than SGD for ResNets in our setting).\n",
        "\n",
        "So we can see they chose to use the \"Adam\" optimizer ([`torch.optim.Adam()`](https://pytorch.org/docs/stable/generated/torch.optim.Adam.html#torch.optim.Adam)) rather than SGD (stochastic gradient descent, [`torch.optim.SGD()`](https://pytorch.org/docs/stable/generated/torch.optim.SGD.html#torch.optim.SGD)).\n",
        "\n",
        "The authors set Adam's $\\beta$ (beta) values to $\\beta_{1}=0.9, \\beta_{2}=0.999$, these are the default values for the `betas` parameter in `torch.optim.Adam(betas=(0.9, 0.999))`.\n",
        "\n",
        "They also state the use of [weight decay](https://paperswithcode.com/method/weight-decay) (slowly reducing the values of the weights during optimization to prevent overfitting), we can set this with the `weight_decay` parameter in `torch.optim.Adam(weight_decay=0.3)` (according to the setting of ViT-* trained on ImageNet-1k).\n",
        "\n",
        "We'll set the learning rate of the optimizer to 0.003 as per Table 3 (according to the setting of ViT-* trained on ImageNet-1k).\n",
        "\n",
        "And as discussed previously, we're going to use a lower batch size than 4096 due to hardware limitations (if you have a large GPU, feel free to increase this)."
      ]
    },
    {
      "cell_type": "markdown",
      "id": "1d434f2f-2723-4ce4-8eac-32a8b9228305",
      "metadata": {
        "id": "1d434f2f-2723-4ce4-8eac-32a8b9228305"
      },
      "source": [
        "### 9.2 Creating a loss function\n",
        "\n",
        "Strangely, searching the ViT paper for \"loss\" or \"loss function\" or \"criterion\" returns no results.\n",
        "\n",
        "However, since the target problem we're working with is multi-class classification (the same for the ViT paper), we'll use [`torch.nn.CrossEntropyLoss()`](https://pytorch.org/docs/stable/generated/torch.nn.CrossEntropyLoss.html)."
      ]
    },
    {
      "cell_type": "markdown",
      "id": "73d4f1e2-2922-4b01-9288-e8d206e20dad",
      "metadata": {
        "id": "73d4f1e2-2922-4b01-9288-e8d206e20dad"
      },
      "source": [
        "### 9.3 Training our ViT model\n",
        "\n",
        "Okay, now we know what optimizer and loss function we're going to use, let's setup the training code for training our ViT.\n",
        "\n",
        "We'll start by importing the `engine.py` script from `going_modular.going_modular` then we'll setup the optimizer and loss function and finally we'll use the `train()` function from `engine.py` to train our ViT model for 10 epochs (we're using a smaller number of epochs than the ViT paper to make sure everything works)."
      ]
    },
    {
      "cell_type": "code",
      "execution_count": null,
      "id": "9107b068-f253-4026-ad21-83be41404043",
      "metadata": {
        "colab": {
          "referenced_widgets": [
            "d3b374b7e6eb43be81ef1b7f9ce15fdf",
            "941222949a504db9a5a3b4e6b53ec237",
            "d29e536035d1411a984812437de594c3",
            "1499938d55864430934074a1a061a706",
            "2dde3c9ab51d4f5a9d19adad130c137d",
            "62374e1a2d7c4822a9572fe0ccc27f5f",
            "687dac1efb1943b78acb03588551479c",
            "8f72fe524a794b0386db4324a83ff739",
            "03999b7f136f4dd1afebbae5a55ff86f",
            "5304934f2054484fb4780cb42047655d",
            "5d17b2137f7d4181af9a6219d2144b04"
          ],
          "base_uri": "https://localhost:8080/",
          "height": 397
        },
        "id": "9107b068-f253-4026-ad21-83be41404043",
        "outputId": "22aad0cd-405e-465c-bae9-e9b12d4aebb9"
      },
      "outputs": [
        {
          "output_type": "display_data",
          "data": {
            "text/plain": [
              "  0%|          | 0/10 [00:00<?, ?it/s]"
            ],
            "application/vnd.jupyter.widget-view+json": {
              "version_major": 2,
              "version_minor": 0,
              "model_id": "d3b374b7e6eb43be81ef1b7f9ce15fdf"
            }
          },
          "metadata": {}
        },
        {
          "output_type": "error",
          "ename": "KeyboardInterrupt",
          "evalue": "",
          "traceback": [
            "\u001b[0;31m---------------------------------------------------------------------------\u001b[0m",
            "\u001b[0;31mKeyboardInterrupt\u001b[0m                         Traceback (most recent call last)",
            "\u001b[0;32m<ipython-input-129-b9ccb40a266a>\u001b[0m in \u001b[0;36m<cell line: 16>\u001b[0;34m()\u001b[0m\n\u001b[1;32m     14\u001b[0m \u001b[0;34m\u001b[0m\u001b[0m\n\u001b[1;32m     15\u001b[0m \u001b[0;31m# Train the model and save the training results to a dictionary\u001b[0m\u001b[0;34m\u001b[0m\u001b[0;34m\u001b[0m\u001b[0m\n\u001b[0;32m---> 16\u001b[0;31m results = engine.train(model=vit,\n\u001b[0m\u001b[1;32m     17\u001b[0m                        \u001b[0mtrain_dataloader\u001b[0m\u001b[0;34m=\u001b[0m\u001b[0mtrain_dataloader\u001b[0m\u001b[0;34m,\u001b[0m\u001b[0;34m\u001b[0m\u001b[0;34m\u001b[0m\u001b[0m\n\u001b[1;32m     18\u001b[0m                        \u001b[0mtest_dataloader\u001b[0m\u001b[0;34m=\u001b[0m\u001b[0mtest_dataloader\u001b[0m\u001b[0;34m,\u001b[0m\u001b[0;34m\u001b[0m\u001b[0;34m\u001b[0m\u001b[0m\n",
            "\u001b[0;32m/content/going_modular/going_modular/engine.py\u001b[0m in \u001b[0;36mtrain\u001b[0;34m(model, train_dataloader, test_dataloader, optimizer, loss_fn, epochs, device)\u001b[0m\n\u001b[1;32m    167\u001b[0m     \u001b[0;31m# Loop through training and testing steps for a number of epochs\u001b[0m\u001b[0;34m\u001b[0m\u001b[0;34m\u001b[0m\u001b[0m\n\u001b[1;32m    168\u001b[0m     \u001b[0;32mfor\u001b[0m \u001b[0mepoch\u001b[0m \u001b[0;32min\u001b[0m \u001b[0mtqdm\u001b[0m\u001b[0;34m(\u001b[0m\u001b[0mrange\u001b[0m\u001b[0;34m(\u001b[0m\u001b[0mepochs\u001b[0m\u001b[0;34m)\u001b[0m\u001b[0;34m)\u001b[0m\u001b[0;34m:\u001b[0m\u001b[0;34m\u001b[0m\u001b[0;34m\u001b[0m\u001b[0m\n\u001b[0;32m--> 169\u001b[0;31m         train_loss, train_acc = train_step(model=model,\n\u001b[0m\u001b[1;32m    170\u001b[0m                                           \u001b[0mdataloader\u001b[0m\u001b[0;34m=\u001b[0m\u001b[0mtrain_dataloader\u001b[0m\u001b[0;34m,\u001b[0m\u001b[0;34m\u001b[0m\u001b[0;34m\u001b[0m\u001b[0m\n\u001b[1;32m    171\u001b[0m                                           \u001b[0mloss_fn\u001b[0m\u001b[0;34m=\u001b[0m\u001b[0mloss_fn\u001b[0m\u001b[0;34m,\u001b[0m\u001b[0;34m\u001b[0m\u001b[0;34m\u001b[0m\u001b[0m\n",
            "\u001b[0;32m/content/going_modular/going_modular/engine.py\u001b[0m in \u001b[0;36mtrain_step\u001b[0;34m(model, dataloader, loss_fn, optimizer, device)\u001b[0m\n\u001b[1;32m     43\u001b[0m \u001b[0;34m\u001b[0m\u001b[0m\n\u001b[1;32m     44\u001b[0m         \u001b[0;31m# 1. Forward pass\u001b[0m\u001b[0;34m\u001b[0m\u001b[0;34m\u001b[0m\u001b[0m\n\u001b[0;32m---> 45\u001b[0;31m         \u001b[0my_pred\u001b[0m \u001b[0;34m=\u001b[0m \u001b[0mmodel\u001b[0m\u001b[0;34m(\u001b[0m\u001b[0mX\u001b[0m\u001b[0;34m)\u001b[0m\u001b[0;34m\u001b[0m\u001b[0;34m\u001b[0m\u001b[0m\n\u001b[0m\u001b[1;32m     46\u001b[0m \u001b[0;34m\u001b[0m\u001b[0m\n\u001b[1;32m     47\u001b[0m         \u001b[0;31m# 2. Calculate  and accumulate loss\u001b[0m\u001b[0;34m\u001b[0m\u001b[0;34m\u001b[0m\u001b[0m\n",
            "\u001b[0;32m/usr/local/lib/python3.10/dist-packages/torch/nn/modules/module.py\u001b[0m in \u001b[0;36m_wrapped_call_impl\u001b[0;34m(self, *args, **kwargs)\u001b[0m\n\u001b[1;32m   1551\u001b[0m             \u001b[0;32mreturn\u001b[0m \u001b[0mself\u001b[0m\u001b[0;34m.\u001b[0m\u001b[0m_compiled_call_impl\u001b[0m\u001b[0;34m(\u001b[0m\u001b[0;34m*\u001b[0m\u001b[0margs\u001b[0m\u001b[0;34m,\u001b[0m \u001b[0;34m**\u001b[0m\u001b[0mkwargs\u001b[0m\u001b[0;34m)\u001b[0m  \u001b[0;31m# type: ignore[misc]\u001b[0m\u001b[0;34m\u001b[0m\u001b[0;34m\u001b[0m\u001b[0m\n\u001b[1;32m   1552\u001b[0m         \u001b[0;32melse\u001b[0m\u001b[0;34m:\u001b[0m\u001b[0;34m\u001b[0m\u001b[0;34m\u001b[0m\u001b[0m\n\u001b[0;32m-> 1553\u001b[0;31m             \u001b[0;32mreturn\u001b[0m \u001b[0mself\u001b[0m\u001b[0;34m.\u001b[0m\u001b[0m_call_impl\u001b[0m\u001b[0;34m(\u001b[0m\u001b[0;34m*\u001b[0m\u001b[0margs\u001b[0m\u001b[0;34m,\u001b[0m \u001b[0;34m**\u001b[0m\u001b[0mkwargs\u001b[0m\u001b[0;34m)\u001b[0m\u001b[0;34m\u001b[0m\u001b[0;34m\u001b[0m\u001b[0m\n\u001b[0m\u001b[1;32m   1554\u001b[0m \u001b[0;34m\u001b[0m\u001b[0m\n\u001b[1;32m   1555\u001b[0m     \u001b[0;32mdef\u001b[0m \u001b[0m_call_impl\u001b[0m\u001b[0;34m(\u001b[0m\u001b[0mself\u001b[0m\u001b[0;34m,\u001b[0m \u001b[0;34m*\u001b[0m\u001b[0margs\u001b[0m\u001b[0;34m,\u001b[0m \u001b[0;34m**\u001b[0m\u001b[0mkwargs\u001b[0m\u001b[0;34m)\u001b[0m\u001b[0;34m:\u001b[0m\u001b[0;34m\u001b[0m\u001b[0;34m\u001b[0m\u001b[0m\n",
            "\u001b[0;32m/usr/local/lib/python3.10/dist-packages/torch/nn/modules/module.py\u001b[0m in \u001b[0;36m_call_impl\u001b[0;34m(self, *args, **kwargs)\u001b[0m\n\u001b[1;32m   1560\u001b[0m                 \u001b[0;32mor\u001b[0m \u001b[0m_global_backward_pre_hooks\u001b[0m \u001b[0;32mor\u001b[0m \u001b[0m_global_backward_hooks\u001b[0m\u001b[0;34m\u001b[0m\u001b[0;34m\u001b[0m\u001b[0m\n\u001b[1;32m   1561\u001b[0m                 or _global_forward_hooks or _global_forward_pre_hooks):\n\u001b[0;32m-> 1562\u001b[0;31m             \u001b[0;32mreturn\u001b[0m \u001b[0mforward_call\u001b[0m\u001b[0;34m(\u001b[0m\u001b[0;34m*\u001b[0m\u001b[0margs\u001b[0m\u001b[0;34m,\u001b[0m \u001b[0;34m**\u001b[0m\u001b[0mkwargs\u001b[0m\u001b[0;34m)\u001b[0m\u001b[0;34m\u001b[0m\u001b[0;34m\u001b[0m\u001b[0m\n\u001b[0m\u001b[1;32m   1563\u001b[0m \u001b[0;34m\u001b[0m\u001b[0m\n\u001b[1;32m   1564\u001b[0m         \u001b[0;32mtry\u001b[0m\u001b[0;34m:\u001b[0m\u001b[0;34m\u001b[0m\u001b[0;34m\u001b[0m\u001b[0m\n",
            "\u001b[0;32m<ipython-input-125-2fe02b857612>\u001b[0m in \u001b[0;36mforward\u001b[0;34m(self, x)\u001b[0m\n\u001b[1;32m     76\u001b[0m \u001b[0;34m\u001b[0m\u001b[0m\n\u001b[1;32m     77\u001b[0m         \u001b[0;31m# 18. Pass patch, position and class embedding through transformer encoder layers (equations 2 & 3)\u001b[0m\u001b[0;34m\u001b[0m\u001b[0;34m\u001b[0m\u001b[0m\n\u001b[0;32m---> 78\u001b[0;31m         \u001b[0mx\u001b[0m \u001b[0;34m=\u001b[0m \u001b[0mself\u001b[0m\u001b[0;34m.\u001b[0m\u001b[0mtransformer_encoder\u001b[0m\u001b[0;34m(\u001b[0m\u001b[0mx\u001b[0m\u001b[0;34m)\u001b[0m\u001b[0;34m\u001b[0m\u001b[0;34m\u001b[0m\u001b[0m\n\u001b[0m\u001b[1;32m     79\u001b[0m \u001b[0;34m\u001b[0m\u001b[0m\n\u001b[1;32m     80\u001b[0m         \u001b[0;31m# 19. Put 0 index logit through classifier (equation 4)\u001b[0m\u001b[0;34m\u001b[0m\u001b[0;34m\u001b[0m\u001b[0m\n",
            "\u001b[0;32m/usr/local/lib/python3.10/dist-packages/torch/nn/modules/module.py\u001b[0m in \u001b[0;36m_wrapped_call_impl\u001b[0;34m(self, *args, **kwargs)\u001b[0m\n\u001b[1;32m   1551\u001b[0m             \u001b[0;32mreturn\u001b[0m \u001b[0mself\u001b[0m\u001b[0;34m.\u001b[0m\u001b[0m_compiled_call_impl\u001b[0m\u001b[0;34m(\u001b[0m\u001b[0;34m*\u001b[0m\u001b[0margs\u001b[0m\u001b[0;34m,\u001b[0m \u001b[0;34m**\u001b[0m\u001b[0mkwargs\u001b[0m\u001b[0;34m)\u001b[0m  \u001b[0;31m# type: ignore[misc]\u001b[0m\u001b[0;34m\u001b[0m\u001b[0;34m\u001b[0m\u001b[0m\n\u001b[1;32m   1552\u001b[0m         \u001b[0;32melse\u001b[0m\u001b[0;34m:\u001b[0m\u001b[0;34m\u001b[0m\u001b[0;34m\u001b[0m\u001b[0m\n\u001b[0;32m-> 1553\u001b[0;31m             \u001b[0;32mreturn\u001b[0m \u001b[0mself\u001b[0m\u001b[0;34m.\u001b[0m\u001b[0m_call_impl\u001b[0m\u001b[0;34m(\u001b[0m\u001b[0;34m*\u001b[0m\u001b[0margs\u001b[0m\u001b[0;34m,\u001b[0m \u001b[0;34m**\u001b[0m\u001b[0mkwargs\u001b[0m\u001b[0;34m)\u001b[0m\u001b[0;34m\u001b[0m\u001b[0;34m\u001b[0m\u001b[0m\n\u001b[0m\u001b[1;32m   1554\u001b[0m \u001b[0;34m\u001b[0m\u001b[0m\n\u001b[1;32m   1555\u001b[0m     \u001b[0;32mdef\u001b[0m \u001b[0m_call_impl\u001b[0m\u001b[0;34m(\u001b[0m\u001b[0mself\u001b[0m\u001b[0;34m,\u001b[0m \u001b[0;34m*\u001b[0m\u001b[0margs\u001b[0m\u001b[0;34m,\u001b[0m \u001b[0;34m**\u001b[0m\u001b[0mkwargs\u001b[0m\u001b[0;34m)\u001b[0m\u001b[0;34m:\u001b[0m\u001b[0;34m\u001b[0m\u001b[0;34m\u001b[0m\u001b[0m\n",
            "\u001b[0;32m/usr/local/lib/python3.10/dist-packages/torch/nn/modules/module.py\u001b[0m in \u001b[0;36m_call_impl\u001b[0;34m(self, *args, **kwargs)\u001b[0m\n\u001b[1;32m   1560\u001b[0m                 \u001b[0;32mor\u001b[0m \u001b[0m_global_backward_pre_hooks\u001b[0m \u001b[0;32mor\u001b[0m \u001b[0m_global_backward_hooks\u001b[0m\u001b[0;34m\u001b[0m\u001b[0;34m\u001b[0m\u001b[0m\n\u001b[1;32m   1561\u001b[0m                 or _global_forward_hooks or _global_forward_pre_hooks):\n\u001b[0;32m-> 1562\u001b[0;31m             \u001b[0;32mreturn\u001b[0m \u001b[0mforward_call\u001b[0m\u001b[0;34m(\u001b[0m\u001b[0;34m*\u001b[0m\u001b[0margs\u001b[0m\u001b[0;34m,\u001b[0m \u001b[0;34m**\u001b[0m\u001b[0mkwargs\u001b[0m\u001b[0;34m)\u001b[0m\u001b[0;34m\u001b[0m\u001b[0;34m\u001b[0m\u001b[0m\n\u001b[0m\u001b[1;32m   1563\u001b[0m \u001b[0;34m\u001b[0m\u001b[0m\n\u001b[1;32m   1564\u001b[0m         \u001b[0;32mtry\u001b[0m\u001b[0;34m:\u001b[0m\u001b[0;34m\u001b[0m\u001b[0;34m\u001b[0m\u001b[0m\n",
            "\u001b[0;32m/usr/local/lib/python3.10/dist-packages/torch/nn/modules/container.py\u001b[0m in \u001b[0;36mforward\u001b[0;34m(self, input)\u001b[0m\n\u001b[1;32m    217\u001b[0m     \u001b[0;32mdef\u001b[0m \u001b[0mforward\u001b[0m\u001b[0;34m(\u001b[0m\u001b[0mself\u001b[0m\u001b[0;34m,\u001b[0m \u001b[0minput\u001b[0m\u001b[0;34m)\u001b[0m\u001b[0;34m:\u001b[0m\u001b[0;34m\u001b[0m\u001b[0;34m\u001b[0m\u001b[0m\n\u001b[1;32m    218\u001b[0m         \u001b[0;32mfor\u001b[0m \u001b[0mmodule\u001b[0m \u001b[0;32min\u001b[0m \u001b[0mself\u001b[0m\u001b[0;34m:\u001b[0m\u001b[0;34m\u001b[0m\u001b[0;34m\u001b[0m\u001b[0m\n\u001b[0;32m--> 219\u001b[0;31m             \u001b[0minput\u001b[0m \u001b[0;34m=\u001b[0m \u001b[0mmodule\u001b[0m\u001b[0;34m(\u001b[0m\u001b[0minput\u001b[0m\u001b[0;34m)\u001b[0m\u001b[0;34m\u001b[0m\u001b[0;34m\u001b[0m\u001b[0m\n\u001b[0m\u001b[1;32m    220\u001b[0m         \u001b[0;32mreturn\u001b[0m \u001b[0minput\u001b[0m\u001b[0;34m\u001b[0m\u001b[0;34m\u001b[0m\u001b[0m\n\u001b[1;32m    221\u001b[0m \u001b[0;34m\u001b[0m\u001b[0m\n",
            "\u001b[0;32m/usr/local/lib/python3.10/dist-packages/torch/nn/modules/module.py\u001b[0m in \u001b[0;36m_wrapped_call_impl\u001b[0;34m(self, *args, **kwargs)\u001b[0m\n\u001b[1;32m   1551\u001b[0m             \u001b[0;32mreturn\u001b[0m \u001b[0mself\u001b[0m\u001b[0;34m.\u001b[0m\u001b[0m_compiled_call_impl\u001b[0m\u001b[0;34m(\u001b[0m\u001b[0;34m*\u001b[0m\u001b[0margs\u001b[0m\u001b[0;34m,\u001b[0m \u001b[0;34m**\u001b[0m\u001b[0mkwargs\u001b[0m\u001b[0;34m)\u001b[0m  \u001b[0;31m# type: ignore[misc]\u001b[0m\u001b[0;34m\u001b[0m\u001b[0;34m\u001b[0m\u001b[0m\n\u001b[1;32m   1552\u001b[0m         \u001b[0;32melse\u001b[0m\u001b[0;34m:\u001b[0m\u001b[0;34m\u001b[0m\u001b[0;34m\u001b[0m\u001b[0m\n\u001b[0;32m-> 1553\u001b[0;31m             \u001b[0;32mreturn\u001b[0m \u001b[0mself\u001b[0m\u001b[0;34m.\u001b[0m\u001b[0m_call_impl\u001b[0m\u001b[0;34m(\u001b[0m\u001b[0;34m*\u001b[0m\u001b[0margs\u001b[0m\u001b[0;34m,\u001b[0m \u001b[0;34m**\u001b[0m\u001b[0mkwargs\u001b[0m\u001b[0;34m)\u001b[0m\u001b[0;34m\u001b[0m\u001b[0;34m\u001b[0m\u001b[0m\n\u001b[0m\u001b[1;32m   1554\u001b[0m \u001b[0;34m\u001b[0m\u001b[0m\n\u001b[1;32m   1555\u001b[0m     \u001b[0;32mdef\u001b[0m \u001b[0m_call_impl\u001b[0m\u001b[0;34m(\u001b[0m\u001b[0mself\u001b[0m\u001b[0;34m,\u001b[0m \u001b[0;34m*\u001b[0m\u001b[0margs\u001b[0m\u001b[0;34m,\u001b[0m \u001b[0;34m**\u001b[0m\u001b[0mkwargs\u001b[0m\u001b[0;34m)\u001b[0m\u001b[0;34m:\u001b[0m\u001b[0;34m\u001b[0m\u001b[0;34m\u001b[0m\u001b[0m\n",
            "\u001b[0;32m/usr/local/lib/python3.10/dist-packages/torch/nn/modules/module.py\u001b[0m in \u001b[0;36m_call_impl\u001b[0;34m(self, *args, **kwargs)\u001b[0m\n\u001b[1;32m   1560\u001b[0m                 \u001b[0;32mor\u001b[0m \u001b[0m_global_backward_pre_hooks\u001b[0m \u001b[0;32mor\u001b[0m \u001b[0m_global_backward_hooks\u001b[0m\u001b[0;34m\u001b[0m\u001b[0;34m\u001b[0m\u001b[0m\n\u001b[1;32m   1561\u001b[0m                 or _global_forward_hooks or _global_forward_pre_hooks):\n\u001b[0;32m-> 1562\u001b[0;31m             \u001b[0;32mreturn\u001b[0m \u001b[0mforward_call\u001b[0m\u001b[0;34m(\u001b[0m\u001b[0;34m*\u001b[0m\u001b[0margs\u001b[0m\u001b[0;34m,\u001b[0m \u001b[0;34m**\u001b[0m\u001b[0mkwargs\u001b[0m\u001b[0;34m)\u001b[0m\u001b[0;34m\u001b[0m\u001b[0;34m\u001b[0m\u001b[0m\n\u001b[0m\u001b[1;32m   1563\u001b[0m \u001b[0;34m\u001b[0m\u001b[0m\n\u001b[1;32m   1564\u001b[0m         \u001b[0;32mtry\u001b[0m\u001b[0;34m:\u001b[0m\u001b[0;34m\u001b[0m\u001b[0;34m\u001b[0m\u001b[0m\n",
            "\u001b[0;32m<ipython-input-121-301928790e19>\u001b[0m in \u001b[0;36mforward\u001b[0;34m(self, x)\u001b[0m\n\u001b[1;32m     28\u001b[0m \u001b[0;34m\u001b[0m\u001b[0m\n\u001b[1;32m     29\u001b[0m         \u001b[0;31m# 7. Create residual connection for MLP block (add the input to the output)\u001b[0m\u001b[0;34m\u001b[0m\u001b[0;34m\u001b[0m\u001b[0m\n\u001b[0;32m---> 30\u001b[0;31m         \u001b[0mx\u001b[0m \u001b[0;34m=\u001b[0m \u001b[0mself\u001b[0m\u001b[0;34m.\u001b[0m\u001b[0mmlp_block\u001b[0m\u001b[0;34m(\u001b[0m\u001b[0mx\u001b[0m\u001b[0;34m)\u001b[0m \u001b[0;34m+\u001b[0m \u001b[0mx\u001b[0m\u001b[0;34m\u001b[0m\u001b[0;34m\u001b[0m\u001b[0m\n\u001b[0m\u001b[1;32m     31\u001b[0m \u001b[0;34m\u001b[0m\u001b[0m\n\u001b[1;32m     32\u001b[0m         \u001b[0;32mreturn\u001b[0m \u001b[0mx\u001b[0m\u001b[0;34m\u001b[0m\u001b[0;34m\u001b[0m\u001b[0m\n",
            "\u001b[0;32m/usr/local/lib/python3.10/dist-packages/torch/nn/modules/module.py\u001b[0m in \u001b[0;36m_wrapped_call_impl\u001b[0;34m(self, *args, **kwargs)\u001b[0m\n\u001b[1;32m   1551\u001b[0m             \u001b[0;32mreturn\u001b[0m \u001b[0mself\u001b[0m\u001b[0;34m.\u001b[0m\u001b[0m_compiled_call_impl\u001b[0m\u001b[0;34m(\u001b[0m\u001b[0;34m*\u001b[0m\u001b[0margs\u001b[0m\u001b[0;34m,\u001b[0m \u001b[0;34m**\u001b[0m\u001b[0mkwargs\u001b[0m\u001b[0;34m)\u001b[0m  \u001b[0;31m# type: ignore[misc]\u001b[0m\u001b[0;34m\u001b[0m\u001b[0;34m\u001b[0m\u001b[0m\n\u001b[1;32m   1552\u001b[0m         \u001b[0;32melse\u001b[0m\u001b[0;34m:\u001b[0m\u001b[0;34m\u001b[0m\u001b[0;34m\u001b[0m\u001b[0m\n\u001b[0;32m-> 1553\u001b[0;31m             \u001b[0;32mreturn\u001b[0m \u001b[0mself\u001b[0m\u001b[0;34m.\u001b[0m\u001b[0m_call_impl\u001b[0m\u001b[0;34m(\u001b[0m\u001b[0;34m*\u001b[0m\u001b[0margs\u001b[0m\u001b[0;34m,\u001b[0m \u001b[0;34m**\u001b[0m\u001b[0mkwargs\u001b[0m\u001b[0;34m)\u001b[0m\u001b[0;34m\u001b[0m\u001b[0;34m\u001b[0m\u001b[0m\n\u001b[0m\u001b[1;32m   1554\u001b[0m \u001b[0;34m\u001b[0m\u001b[0m\n\u001b[1;32m   1555\u001b[0m     \u001b[0;32mdef\u001b[0m \u001b[0m_call_impl\u001b[0m\u001b[0;34m(\u001b[0m\u001b[0mself\u001b[0m\u001b[0;34m,\u001b[0m \u001b[0;34m*\u001b[0m\u001b[0margs\u001b[0m\u001b[0;34m,\u001b[0m \u001b[0;34m**\u001b[0m\u001b[0mkwargs\u001b[0m\u001b[0;34m)\u001b[0m\u001b[0;34m:\u001b[0m\u001b[0;34m\u001b[0m\u001b[0;34m\u001b[0m\u001b[0m\n",
            "\u001b[0;32m/usr/local/lib/python3.10/dist-packages/torch/nn/modules/module.py\u001b[0m in \u001b[0;36m_call_impl\u001b[0;34m(self, *args, **kwargs)\u001b[0m\n\u001b[1;32m   1560\u001b[0m                 \u001b[0;32mor\u001b[0m \u001b[0m_global_backward_pre_hooks\u001b[0m \u001b[0;32mor\u001b[0m \u001b[0m_global_backward_hooks\u001b[0m\u001b[0;34m\u001b[0m\u001b[0;34m\u001b[0m\u001b[0m\n\u001b[1;32m   1561\u001b[0m                 or _global_forward_hooks or _global_forward_pre_hooks):\n\u001b[0;32m-> 1562\u001b[0;31m             \u001b[0;32mreturn\u001b[0m \u001b[0mforward_call\u001b[0m\u001b[0;34m(\u001b[0m\u001b[0;34m*\u001b[0m\u001b[0margs\u001b[0m\u001b[0;34m,\u001b[0m \u001b[0;34m**\u001b[0m\u001b[0mkwargs\u001b[0m\u001b[0;34m)\u001b[0m\u001b[0;34m\u001b[0m\u001b[0;34m\u001b[0m\u001b[0m\n\u001b[0m\u001b[1;32m   1563\u001b[0m \u001b[0;34m\u001b[0m\u001b[0m\n\u001b[1;32m   1564\u001b[0m         \u001b[0;32mtry\u001b[0m\u001b[0;34m:\u001b[0m\u001b[0;34m\u001b[0m\u001b[0;34m\u001b[0m\u001b[0m\n",
            "\u001b[0;32m<ipython-input-119-cca3b0d63a7c>\u001b[0m in \u001b[0;36mforward\u001b[0;34m(self, x)\u001b[0m\n\u001b[1;32m     26\u001b[0m     \u001b[0;32mdef\u001b[0m \u001b[0mforward\u001b[0m\u001b[0;34m(\u001b[0m\u001b[0mself\u001b[0m\u001b[0;34m,\u001b[0m \u001b[0mx\u001b[0m\u001b[0;34m)\u001b[0m\u001b[0;34m:\u001b[0m\u001b[0;34m\u001b[0m\u001b[0;34m\u001b[0m\u001b[0m\n\u001b[1;32m     27\u001b[0m         \u001b[0mx\u001b[0m \u001b[0;34m=\u001b[0m \u001b[0mself\u001b[0m\u001b[0;34m.\u001b[0m\u001b[0mlayer_norm\u001b[0m\u001b[0;34m(\u001b[0m\u001b[0mx\u001b[0m\u001b[0;34m)\u001b[0m\u001b[0;34m\u001b[0m\u001b[0;34m\u001b[0m\u001b[0m\n\u001b[0;32m---> 28\u001b[0;31m         \u001b[0mx\u001b[0m \u001b[0;34m=\u001b[0m \u001b[0mself\u001b[0m\u001b[0;34m.\u001b[0m\u001b[0mmlp\u001b[0m\u001b[0;34m(\u001b[0m\u001b[0mx\u001b[0m\u001b[0;34m)\u001b[0m\u001b[0;34m\u001b[0m\u001b[0;34m\u001b[0m\u001b[0m\n\u001b[0m\u001b[1;32m     29\u001b[0m         \u001b[0;32mreturn\u001b[0m \u001b[0mx\u001b[0m\u001b[0;34m\u001b[0m\u001b[0;34m\u001b[0m\u001b[0m\n",
            "\u001b[0;32m/usr/local/lib/python3.10/dist-packages/torch/nn/modules/module.py\u001b[0m in \u001b[0;36m_wrapped_call_impl\u001b[0;34m(self, *args, **kwargs)\u001b[0m\n\u001b[1;32m   1551\u001b[0m             \u001b[0;32mreturn\u001b[0m \u001b[0mself\u001b[0m\u001b[0;34m.\u001b[0m\u001b[0m_compiled_call_impl\u001b[0m\u001b[0;34m(\u001b[0m\u001b[0;34m*\u001b[0m\u001b[0margs\u001b[0m\u001b[0;34m,\u001b[0m \u001b[0;34m**\u001b[0m\u001b[0mkwargs\u001b[0m\u001b[0;34m)\u001b[0m  \u001b[0;31m# type: ignore[misc]\u001b[0m\u001b[0;34m\u001b[0m\u001b[0;34m\u001b[0m\u001b[0m\n\u001b[1;32m   1552\u001b[0m         \u001b[0;32melse\u001b[0m\u001b[0;34m:\u001b[0m\u001b[0;34m\u001b[0m\u001b[0;34m\u001b[0m\u001b[0m\n\u001b[0;32m-> 1553\u001b[0;31m             \u001b[0;32mreturn\u001b[0m \u001b[0mself\u001b[0m\u001b[0;34m.\u001b[0m\u001b[0m_call_impl\u001b[0m\u001b[0;34m(\u001b[0m\u001b[0;34m*\u001b[0m\u001b[0margs\u001b[0m\u001b[0;34m,\u001b[0m \u001b[0;34m**\u001b[0m\u001b[0mkwargs\u001b[0m\u001b[0;34m)\u001b[0m\u001b[0;34m\u001b[0m\u001b[0;34m\u001b[0m\u001b[0m\n\u001b[0m\u001b[1;32m   1554\u001b[0m \u001b[0;34m\u001b[0m\u001b[0m\n\u001b[1;32m   1555\u001b[0m     \u001b[0;32mdef\u001b[0m \u001b[0m_call_impl\u001b[0m\u001b[0;34m(\u001b[0m\u001b[0mself\u001b[0m\u001b[0;34m,\u001b[0m \u001b[0;34m*\u001b[0m\u001b[0margs\u001b[0m\u001b[0;34m,\u001b[0m \u001b[0;34m**\u001b[0m\u001b[0mkwargs\u001b[0m\u001b[0;34m)\u001b[0m\u001b[0;34m:\u001b[0m\u001b[0;34m\u001b[0m\u001b[0;34m\u001b[0m\u001b[0m\n",
            "\u001b[0;32m/usr/local/lib/python3.10/dist-packages/torch/nn/modules/module.py\u001b[0m in \u001b[0;36m_call_impl\u001b[0;34m(self, *args, **kwargs)\u001b[0m\n\u001b[1;32m   1560\u001b[0m                 \u001b[0;32mor\u001b[0m \u001b[0m_global_backward_pre_hooks\u001b[0m \u001b[0;32mor\u001b[0m \u001b[0m_global_backward_hooks\u001b[0m\u001b[0;34m\u001b[0m\u001b[0;34m\u001b[0m\u001b[0m\n\u001b[1;32m   1561\u001b[0m                 or _global_forward_hooks or _global_forward_pre_hooks):\n\u001b[0;32m-> 1562\u001b[0;31m             \u001b[0;32mreturn\u001b[0m \u001b[0mforward_call\u001b[0m\u001b[0;34m(\u001b[0m\u001b[0;34m*\u001b[0m\u001b[0margs\u001b[0m\u001b[0;34m,\u001b[0m \u001b[0;34m**\u001b[0m\u001b[0mkwargs\u001b[0m\u001b[0;34m)\u001b[0m\u001b[0;34m\u001b[0m\u001b[0;34m\u001b[0m\u001b[0m\n\u001b[0m\u001b[1;32m   1563\u001b[0m \u001b[0;34m\u001b[0m\u001b[0m\n\u001b[1;32m   1564\u001b[0m         \u001b[0;32mtry\u001b[0m\u001b[0;34m:\u001b[0m\u001b[0;34m\u001b[0m\u001b[0;34m\u001b[0m\u001b[0m\n",
            "\u001b[0;32m/usr/local/lib/python3.10/dist-packages/torch/nn/modules/container.py\u001b[0m in \u001b[0;36mforward\u001b[0;34m(self, input)\u001b[0m\n\u001b[1;32m    217\u001b[0m     \u001b[0;32mdef\u001b[0m \u001b[0mforward\u001b[0m\u001b[0;34m(\u001b[0m\u001b[0mself\u001b[0m\u001b[0;34m,\u001b[0m \u001b[0minput\u001b[0m\u001b[0;34m)\u001b[0m\u001b[0;34m:\u001b[0m\u001b[0;34m\u001b[0m\u001b[0;34m\u001b[0m\u001b[0m\n\u001b[1;32m    218\u001b[0m         \u001b[0;32mfor\u001b[0m \u001b[0mmodule\u001b[0m \u001b[0;32min\u001b[0m \u001b[0mself\u001b[0m\u001b[0;34m:\u001b[0m\u001b[0;34m\u001b[0m\u001b[0;34m\u001b[0m\u001b[0m\n\u001b[0;32m--> 219\u001b[0;31m             \u001b[0minput\u001b[0m \u001b[0;34m=\u001b[0m \u001b[0mmodule\u001b[0m\u001b[0;34m(\u001b[0m\u001b[0minput\u001b[0m\u001b[0;34m)\u001b[0m\u001b[0;34m\u001b[0m\u001b[0;34m\u001b[0m\u001b[0m\n\u001b[0m\u001b[1;32m    220\u001b[0m         \u001b[0;32mreturn\u001b[0m \u001b[0minput\u001b[0m\u001b[0;34m\u001b[0m\u001b[0;34m\u001b[0m\u001b[0m\n\u001b[1;32m    221\u001b[0m \u001b[0;34m\u001b[0m\u001b[0m\n",
            "\u001b[0;32m/usr/local/lib/python3.10/dist-packages/torch/nn/modules/module.py\u001b[0m in \u001b[0;36m_wrapped_call_impl\u001b[0;34m(self, *args, **kwargs)\u001b[0m\n\u001b[1;32m   1551\u001b[0m             \u001b[0;32mreturn\u001b[0m \u001b[0mself\u001b[0m\u001b[0;34m.\u001b[0m\u001b[0m_compiled_call_impl\u001b[0m\u001b[0;34m(\u001b[0m\u001b[0;34m*\u001b[0m\u001b[0margs\u001b[0m\u001b[0;34m,\u001b[0m \u001b[0;34m**\u001b[0m\u001b[0mkwargs\u001b[0m\u001b[0;34m)\u001b[0m  \u001b[0;31m# type: ignore[misc]\u001b[0m\u001b[0;34m\u001b[0m\u001b[0;34m\u001b[0m\u001b[0m\n\u001b[1;32m   1552\u001b[0m         \u001b[0;32melse\u001b[0m\u001b[0;34m:\u001b[0m\u001b[0;34m\u001b[0m\u001b[0;34m\u001b[0m\u001b[0m\n\u001b[0;32m-> 1553\u001b[0;31m             \u001b[0;32mreturn\u001b[0m \u001b[0mself\u001b[0m\u001b[0;34m.\u001b[0m\u001b[0m_call_impl\u001b[0m\u001b[0;34m(\u001b[0m\u001b[0;34m*\u001b[0m\u001b[0margs\u001b[0m\u001b[0;34m,\u001b[0m \u001b[0;34m**\u001b[0m\u001b[0mkwargs\u001b[0m\u001b[0;34m)\u001b[0m\u001b[0;34m\u001b[0m\u001b[0;34m\u001b[0m\u001b[0m\n\u001b[0m\u001b[1;32m   1554\u001b[0m \u001b[0;34m\u001b[0m\u001b[0m\n\u001b[1;32m   1555\u001b[0m     \u001b[0;32mdef\u001b[0m \u001b[0m_call_impl\u001b[0m\u001b[0;34m(\u001b[0m\u001b[0mself\u001b[0m\u001b[0;34m,\u001b[0m \u001b[0;34m*\u001b[0m\u001b[0margs\u001b[0m\u001b[0;34m,\u001b[0m \u001b[0;34m**\u001b[0m\u001b[0mkwargs\u001b[0m\u001b[0;34m)\u001b[0m\u001b[0;34m:\u001b[0m\u001b[0;34m\u001b[0m\u001b[0;34m\u001b[0m\u001b[0m\n",
            "\u001b[0;32m/usr/local/lib/python3.10/dist-packages/torch/nn/modules/module.py\u001b[0m in \u001b[0;36m_call_impl\u001b[0;34m(self, *args, **kwargs)\u001b[0m\n\u001b[1;32m   1560\u001b[0m                 \u001b[0;32mor\u001b[0m \u001b[0m_global_backward_pre_hooks\u001b[0m \u001b[0;32mor\u001b[0m \u001b[0m_global_backward_hooks\u001b[0m\u001b[0;34m\u001b[0m\u001b[0;34m\u001b[0m\u001b[0m\n\u001b[1;32m   1561\u001b[0m                 or _global_forward_hooks or _global_forward_pre_hooks):\n\u001b[0;32m-> 1562\u001b[0;31m             \u001b[0;32mreturn\u001b[0m \u001b[0mforward_call\u001b[0m\u001b[0;34m(\u001b[0m\u001b[0;34m*\u001b[0m\u001b[0margs\u001b[0m\u001b[0;34m,\u001b[0m \u001b[0;34m**\u001b[0m\u001b[0mkwargs\u001b[0m\u001b[0;34m)\u001b[0m\u001b[0;34m\u001b[0m\u001b[0;34m\u001b[0m\u001b[0m\n\u001b[0m\u001b[1;32m   1563\u001b[0m \u001b[0;34m\u001b[0m\u001b[0m\n\u001b[1;32m   1564\u001b[0m         \u001b[0;32mtry\u001b[0m\u001b[0;34m:\u001b[0m\u001b[0;34m\u001b[0m\u001b[0;34m\u001b[0m\u001b[0m\n",
            "\u001b[0;32m/usr/local/lib/python3.10/dist-packages/torch/nn/modules/linear.py\u001b[0m in \u001b[0;36mforward\u001b[0;34m(self, input)\u001b[0m\n\u001b[1;32m    115\u001b[0m \u001b[0;34m\u001b[0m\u001b[0m\n\u001b[1;32m    116\u001b[0m     \u001b[0;32mdef\u001b[0m \u001b[0mforward\u001b[0m\u001b[0;34m(\u001b[0m\u001b[0mself\u001b[0m\u001b[0;34m,\u001b[0m \u001b[0minput\u001b[0m\u001b[0;34m:\u001b[0m \u001b[0mTensor\u001b[0m\u001b[0;34m)\u001b[0m \u001b[0;34m->\u001b[0m \u001b[0mTensor\u001b[0m\u001b[0;34m:\u001b[0m\u001b[0;34m\u001b[0m\u001b[0;34m\u001b[0m\u001b[0m\n\u001b[0;32m--> 117\u001b[0;31m         \u001b[0;32mreturn\u001b[0m \u001b[0mF\u001b[0m\u001b[0;34m.\u001b[0m\u001b[0mlinear\u001b[0m\u001b[0;34m(\u001b[0m\u001b[0minput\u001b[0m\u001b[0;34m,\u001b[0m \u001b[0mself\u001b[0m\u001b[0;34m.\u001b[0m\u001b[0mweight\u001b[0m\u001b[0;34m,\u001b[0m \u001b[0mself\u001b[0m\u001b[0;34m.\u001b[0m\u001b[0mbias\u001b[0m\u001b[0;34m)\u001b[0m\u001b[0;34m\u001b[0m\u001b[0;34m\u001b[0m\u001b[0m\n\u001b[0m\u001b[1;32m    118\u001b[0m \u001b[0;34m\u001b[0m\u001b[0m\n\u001b[1;32m    119\u001b[0m     \u001b[0;32mdef\u001b[0m \u001b[0mextra_repr\u001b[0m\u001b[0;34m(\u001b[0m\u001b[0mself\u001b[0m\u001b[0;34m)\u001b[0m \u001b[0;34m->\u001b[0m \u001b[0mstr\u001b[0m\u001b[0;34m:\u001b[0m\u001b[0;34m\u001b[0m\u001b[0;34m\u001b[0m\u001b[0m\n",
            "\u001b[0;31mKeyboardInterrupt\u001b[0m: "
          ]
        }
      ],
      "source": [
        "from going_modular.going_modular import engine\n",
        "\n",
        "# Setup the optimizer to optimize our ViT model parameters using hyperparameters from the ViT paper\n",
        "optimizer = torch.optim.Adam(params=vit.parameters(),\n",
        "                             lr=3e-3, # Base LR from Table 3 for ViT-* ImageNet-1k\n",
        "                             betas=(0.9, 0.999), # default values but also mentioned in ViT paper section 4.1 (Training & Fine-tuning)\n",
        "                             weight_decay=0.3) # from the ViT paper section 4.1 (Training & Fine-tuning) and Table 3 for ViT-* ImageNet-1k\n",
        "\n",
        "# Setup the loss function for multi-class classification\n",
        "loss_fn = torch.nn.CrossEntropyLoss()\n",
        "\n",
        "# Set the seeds\n",
        "set_seeds()\n",
        "\n",
        "# Train the model and save the training results to a dictionary\n",
        "results = engine.train(model=vit,\n",
        "                       train_dataloader=train_dataloader,\n",
        "                       test_dataloader=test_dataloader,\n",
        "                       optimizer=optimizer,\n",
        "                       loss_fn=loss_fn,\n",
        "                       epochs=10,\n",
        "                       device=device)"
      ]
    },
    {
      "cell_type": "markdown",
      "id": "1d99ae68-6825-42b7-a567-de5701e62014",
      "metadata": {
        "id": "1d99ae68-6825-42b7-a567-de5701e62014"
      },
      "source": [
        "Wonderful!\n",
        "\n",
        "Our ViT model has come to life!\n",
        "\n",
        "Though the results on our pizza, steak and sushi dataset don't look too good.\n",
        "\n",
        "Perhaps it's because we're missing a few things?"
      ]
    },
    {
      "cell_type": "markdown",
      "id": "4ba435de-1521-4d70-a48e-7039062c6a6f",
      "metadata": {
        "id": "4ba435de-1521-4d70-a48e-7039062c6a6f"
      },
      "source": [
        "### 9.4 What our training setup is missing\n",
        "\n",
        "The original ViT architecture achieves good results on several image classification benchmarks (on par or better than many state-of-the-art results when it was released).\n",
        "\n",
        "However, our results (so far) aren't as good.\n",
        "\n",
        "There's a few reasons this could be but the main one is scale.\n",
        "\n",
        "The original ViT paper uses a far larger amount of data than ours (in deep learning, more data is generally always a good thing) and a longer training schedule (see Table 3).\n",
        "\n",
        "| **Hyperparameter value** | **ViT Paper** | **Our implementation** |\n",
        "| ----- | ----- | ----- |\n",
        "| Number of training images | 1.3M (ImageNet-1k), 14M (ImageNet-21k), 303M (JFT) | 225 |\n",
        "| Epochs | 7 (for largest dataset), 90, 300 (for ImageNet) | 10 |\n",
        "| Batch size | 4096 | 32 |\n",
        "| [Learning rate warmup](https://paperswithcode.com/method/linear-warmup) | 10k steps (Table 3) | None |\n",
        "| [Learning rate decay](https://medium.com/analytics-vidhya/learning-rate-decay-and-methods-in-deep-learning-2cee564f910b#:~:text=Learning%20rate%20decay%20is%20a,help%20both%20optimization%20and%20generalization.) | Linear/Cosine (Table 3) | None |\n",
        "| [Gradient clipping](https://paperswithcode.com/method/gradient-clipping) | Global norm 1 (Table 3) | None |\n",
        "\n",
        "Even though our ViT architecture is the same as the paper, the results from the ViT paper were achieved using far more data and a more elaborate training scheme than ours.\n",
        "\n",
        "Because of the size of the ViT architecture and its high number of parameters (increased learning capabilities), and amount of data it uses (increased learning opportunities), many of the techniques used in the ViT paper training scheme such as learning rate warmup, learning rate decay and gradient clipping are specifically designed to [prevent overfitting](https://www.learnpytorch.io/04_pytorch_custom_datasets/#81-how-to-deal-with-overfitting) (regularization).\n",
        "\n",
        "> **Note:** For any technique you're unsure of, you can often quickly find an example by searching \"pytorch TECHNIQUE NAME\", for exmaple, say you wanted to learn about learning rate warmup and what it does, you could search \"pytorch learning rate warmup\".\n",
        "\n",
        "Good news is, there are many pretrained ViT models (using vast amounts of data) available online, we'll see one in action in section 10."
      ]
    },
    {
      "cell_type": "markdown",
      "id": "32cb3ad2-6eea-4b69-9ce8-322270643919",
      "metadata": {
        "id": "32cb3ad2-6eea-4b69-9ce8-322270643919"
      },
      "source": [
        "### 9.5 Plot the loss curves of our ViT model\n",
        "\n",
        "We've trained our ViT model and seen the results as numbers on a page.\n",
        "\n",
        "But let's now follow the data explorer's motto of *visualize, visualize, visualize!*\n",
        "\n",
        "And one of the best things to visualize for a model is its loss curves.\n",
        "\n",
        "To check out our ViT model's loss curves, we can use the `plot_loss_curves` function from `helper_functions.py` we created in [04. PyTorch Custom Datasets section 7.8](https://www.learnpytorch.io/04_pytorch_custom_datasets/#78-plot-the-loss-curves-of-model-0)."
      ]
    },
    {
      "cell_type": "code",
      "execution_count": null,
      "id": "fcca1148-6475-4012-bfc9-cbad2706c22d",
      "metadata": {
        "id": "fcca1148-6475-4012-bfc9-cbad2706c22d"
      },
      "outputs": [],
      "source": [
        "from helper_functions import plot_loss_curves\n",
        "\n",
        "# Plot our ViT model's loss curves\n",
        "plot_loss_curves(results)"
      ]
    },
    {
      "cell_type": "markdown",
      "id": "0c370cae-9854-474c-be05-51dabe62c204",
      "metadata": {
        "id": "0c370cae-9854-474c-be05-51dabe62c204"
      },
      "source": [
        "Hmm, it looks like our model's loss curves are all over the place.\n",
        "\n",
        "At least the loss looks like it's heading the right direction but the accuracy curves don't really show much promise.\n",
        "\n",
        "These results are likely because of the difference in data resources and training regime of our ViT model versus the ViT paper.\n",
        "\n",
        "It seems our model is [severely underfitting](learnpytorch.io/04_pytorch_custom_datasets/#82-how-to-deal-with-underfitting) (not achieving the results we'd like it to).\n",
        "\n",
        "How about we see if we can fix that by bringing in a pretrained ViT model?"
      ]
    },
    {
      "cell_type": "markdown",
      "id": "de0f9531-64f3-4e13-8482-ce545d608900",
      "metadata": {
        "id": "de0f9531-64f3-4e13-8482-ce545d608900"
      },
      "source": [
        "## 10. Using a pretrained ViT from `torchvision.models` on the same dataset\n",
        "\n",
        "We've discussed the benefits of using pretrained models in [06. PyTorch Transfer Learning](https://www.learnpytorch.io/06_pytorch_transfer_learning/).\n",
        "\n",
        "But since we've now trained our own ViT from scratch and achieved less than optimal results, the benefits of transfer learning (using a pretrained model) really shine.\n",
        "\n",
        "### 10.1 Why use a pretrained model?\n",
        "\n",
        "An important note on many modern machine learning research papers is that much of the results are obtained with large datasets and vast compute resources.\n",
        "\n",
        "And in modern day machine learning, the original fully trained ViT would likely not be considered a \"super large\" training setup (models are continually getting bigger and bigger).\n",
        "\n",
        "Reading the ViT paper section 4.2:\n",
        "\n",
        "> Finally, the ViT-L/16 model pre-trained on the public ImageNet-21k dataset performs well on most datasets too, while taking fewer resources to pre-train: it could be trained using a standard cloud TPUv3 with 8 cores in approximately **30 days**.\n",
        "\n",
        "As of July 2022, the [price for renting a TPUv3](https://cloud.google.com/tpu/pricing) (Tensor Processing Unit version 3) with 8 cores on Google Cloud is $8 USD per hour.\n",
        "\n",
        "To rent one for 30 straight days would cost **$5,760 USD**.\n",
        "\n",
        "This cost (monetary and time) may be viable for some larger research teams or enterprises but for many people it's not.\n",
        "\n",
        "So having a pretrained model available through resources like [`torchvision.models`](https://pytorch.org/vision/stable/models.html), the [`timm` (Torch Image Models) library](https://github.com/rwightman/pytorch-image-models), the [HuggingFace Hub](https://huggingface.co/models) or even from the authors of the papers themselves (there's a growing trend for machine learning researchers to release the code and pretrained models from their research papers, I'm a big fan of this trend, many of these resources can be found on [Paperswithcode.com](https://paperswithcode.com/)).\n",
        "\n",
        "If you're focused on leveraging the benefits of a specific model architecture rather than creating your custom architecture, I'd highly recommend using a pretrained model."
      ]
    },
    {
      "cell_type": "markdown",
      "id": "93027389-1309-47c0-85d3-50e241b617b0",
      "metadata": {
        "id": "93027389-1309-47c0-85d3-50e241b617b0"
      },
      "source": [
        "### 10.2 Getting a pretrained ViT model and creating a feature extractor\n",
        "\n",
        "We can get a pretrained ViT model from `torchvision.models`.\n",
        "\n",
        "We'll go from the top by first making sure we've got the right versions of `torch` and `torchvision`.\n",
        "\n",
        "> **Note:** The following code requires `torch` v0.12+ and `torchvision` v0.13+ to use the latest `torchvision` model weights API."
      ]
    },
    {
      "cell_type": "code",
      "execution_count": null,
      "id": "30de8333-74b0-49ae-a81e-0266e6325f26",
      "metadata": {
        "id": "30de8333-74b0-49ae-a81e-0266e6325f26"
      },
      "outputs": [],
      "source": [
        "# The following requires torch v0.12+ and torchvision v0.13+\n",
        "import torch\n",
        "import torchvision\n",
        "print(torch.__version__)\n",
        "print(torchvision.__version__)"
      ]
    },
    {
      "cell_type": "markdown",
      "id": "45a65cda-db08-441c-9f60-cf79138e029d",
      "metadata": {
        "id": "45a65cda-db08-441c-9f60-cf79138e029d"
      },
      "source": [
        "Then we'll setup device-agnostic code."
      ]
    },
    {
      "cell_type": "code",
      "execution_count": null,
      "id": "b0b87f68-98cc-49f8-89bd-ff220a757f76",
      "metadata": {
        "id": "b0b87f68-98cc-49f8-89bd-ff220a757f76"
      },
      "outputs": [],
      "source": [
        "device = \"cuda\" if torch.cuda.is_available() else \"cpu\"\n",
        "device"
      ]
    },
    {
      "cell_type": "markdown",
      "id": "f3d05630-aa4c-41cc-b7c0-ac9de0a4390c",
      "metadata": {
        "id": "f3d05630-aa4c-41cc-b7c0-ac9de0a4390c"
      },
      "source": [
        "Finally, we'll get the pretrained ViT-Base with patch size 16 from `torchvision.models` and prepare it for our FoodVision Mini use case by turning it into a feature extractor transfer learning model.\n",
        "\n",
        "Specifically, we'll:\n",
        "1. Get the pretrained weights for ViT-Base trained on ImageNet-1k from [`torchvision.models.ViT_B_16_Weights.DEFAULT`](https://pytorch.org/vision/stable/models/generated/torchvision.models.vit_b_16.html#torchvision.models.ViT_B_16_Weights) (`DEFAULT` stands for best available).\n",
        "2. Setup a ViT model instance via `torchvision.models.vit_b_16`, pass it the pretrained weights step 1 and send it to the target device.\n",
        "3. Freeze all of the parameters in the base ViT model created in step 2 by setting their `requires_grad` attribute to `False`.\n",
        "4. Update the classifier head of the ViT model created in step 2 to suit our own problem by changing the number of `out_features` to our number of classes (pizza, steak, sushi).\n",
        "\n",
        "We covered steps like this in 06. PyTorch Transfer Learning [section 3.2: Setting up a pretrained model](https://www.learnpytorch.io/06_pytorch_transfer_learning/#32-setting-up-a-pretrained-model) and [section 3.4: Freezing the base model and changing the output layer to suit our needs](https://www.learnpytorch.io/06_pytorch_transfer_learning/#34-freezing-the-base-model-and-changing-the-output-layer-to-suit-our-needs)."
      ]
    },
    {
      "cell_type": "code",
      "execution_count": null,
      "id": "b8e2dda6-8af0-4255-815f-4d885fa4b477",
      "metadata": {
        "id": "b8e2dda6-8af0-4255-815f-4d885fa4b477"
      },
      "outputs": [],
      "source": [
        "# 1. Get pretrained weights for ViT-Base\n",
        "pretrained_vit_weights = torchvision.models.ViT_B_16_Weights.DEFAULT # requires torchvision >= 0.13, \"DEFAULT\" means best available\n",
        "\n",
        "# 2. Setup a ViT model instance with pretrained weights\n",
        "pretrained_vit = torchvision.models.vit_b_16(weights=pretrained_vit_weights).to(device)\n",
        "\n",
        "# 3. Freeze the base parameters\n",
        "for parameter in pretrained_vit.parameters():\n",
        "    parameter.requires_grad = False\n",
        "\n",
        "# 4. Change the classifier head (set the seeds to ensure same initialization with linear head)\n",
        "set_seeds()\n",
        "pretrained_vit.heads = nn.Linear(in_features=768, out_features=len(class_names)).to(device)\n",
        "# pretrained_vit # uncomment for model output"
      ]
    },
    {
      "cell_type": "markdown",
      "id": "182fc970-1650-48b3-914d-0cb3e287beec",
      "metadata": {
        "id": "182fc970-1650-48b3-914d-0cb3e287beec"
      },
      "source": [
        "Pretrained ViT feature extractor model created!\n",
        "\n",
        "Let's now check it out by printing a `torchinfo.summary()`."
      ]
    },
    {
      "cell_type": "code",
      "execution_count": null,
      "id": "8fbd83a1",
      "metadata": {
        "id": "8fbd83a1"
      },
      "outputs": [],
      "source": [
        "# # Print a summary using torchinfo (uncomment for actual output)\n",
        "# summary(model=pretrained_vit,\n",
        "#         input_size=(32, 3, 224, 224), # (batch_size, color_channels, height, width)\n",
        "#         # col_names=[\"input_size\"], # uncomment for smaller output\n",
        "#         col_names=[\"input_size\", \"output_size\", \"num_params\", \"trainable\"],\n",
        "#         col_width=20,\n",
        "#         row_settings=[\"var_names\"]\n",
        "# )"
      ]
    },
    {
      "cell_type": "markdown",
      "id": "90c176e5-6453-4911-b8ec-97bab43b437d",
      "metadata": {
        "id": "90c176e5-6453-4911-b8ec-97bab43b437d"
      },
      "source": [
        "<img src=\"https://raw.githubusercontent.com/mrdbourke/pytorch-deep-learning/main/images/08-vit-paper-summary-output-pytorch-vit.png\" alt=\"output of pytorch pretrained ViT model summary\" width=900 />\n",
        "\n",
        "Woohoo!\n",
        "\n",
        "Notice how only the output layer is trainable, where as, all of the rest of the layers are untrainable (frozen).\n",
        "\n",
        "And the total number of parameters, 85,800,963, is the same as our custom made ViT model above.\n",
        "\n",
        "But the number of trainable parameters for `pretrained_vit` is much, much lower than our custom `vit` at only 2,307 compared to 85,800,963 (in our custom `vit`, since we're training from scratch, all parameters are trainable).\n",
        "\n",
        "This means the pretrained model should train a lot faster, we could potentially even use a larger batch size since less parameter updates are going to be taking up memory."
      ]
    },
    {
      "cell_type": "markdown",
      "id": "a50dfe1f-a475-473d-bc23-ef3c58ba4854",
      "metadata": {
        "id": "a50dfe1f-a475-473d-bc23-ef3c58ba4854"
      },
      "source": [
        "### 10.3 Preparing data for the pretrained ViT model\n",
        "\n",
        "We downloaded and created DataLoaders for our own ViT model back in section 2.\n",
        "\n",
        "So we don't necessarily need to do it again.\n",
        "\n",
        "But in the name of practice, let's download some image data (pizza, steak and sushi images for Food Vision Mini), setup train and test directories and then transform the images into tensors and DataLoaders.\n",
        "\n",
        "We can download pizza, steak and sushi images from the course GitHub and the `download_data()` function we created in [07. PyTorch Experiment Tracking section 1](https://www.learnpytorch.io/07_pytorch_experiment_tracking/#1-get-data).\n",
        "    "
      ]
    },
    {
      "cell_type": "code",
      "execution_count": null,
      "id": "94cb3900",
      "metadata": {
        "id": "94cb3900"
      },
      "outputs": [],
      "source": [
        "from helper_functions import download_data\n",
        "\n",
        "# Download pizza, steak, sushi images from GitHub\n",
        "image_path = download_data(source=\"https://github.com/mrdbourke/pytorch-deep-learning/raw/main/data/pizza_steak_sushi.zip\",\n",
        "                           destination=\"pizza_steak_sushi\")\n",
        "\n",
        "image_path"
      ]
    },
    {
      "cell_type": "markdown",
      "id": "4696fecb-cd74-41ca-b1f7-02bbaf7f8ed3",
      "metadata": {
        "id": "4696fecb-cd74-41ca-b1f7-02bbaf7f8ed3"
      },
      "source": [
        "And now we'll setup the training and test directory paths."
      ]
    },
    {
      "cell_type": "code",
      "execution_count": null,
      "id": "2e6ae0fe-73c0-4930-988a-e4df903084b6",
      "metadata": {
        "id": "2e6ae0fe-73c0-4930-988a-e4df903084b6"
      },
      "outputs": [],
      "source": [
        "# Setup train and test directory paths\n",
        "train_dir = image_path / \"train\"\n",
        "test_dir = image_path / \"test\"\n",
        "train_dir, test_dir"
      ]
    },
    {
      "cell_type": "markdown",
      "id": "c8736ad3-f510-4418-8c8e-f6cc3f2e1788",
      "metadata": {
        "id": "c8736ad3-f510-4418-8c8e-f6cc3f2e1788"
      },
      "source": [
        "Finally, we'll transform our images into tensors and turn the tensors into DataLoaders.\n",
        "\n",
        "Since we're using a pretrained model from `torchvision.models` we can call the `transforms()` method on it to get its required transforms.\n",
        "\n",
        "Remember, if you're going to use a pretrained model, it's generally important to **ensure your own custom data is transformed/formatted in the same way the data the original model was trained on**.\n",
        "\n",
        "We covered this method of \"automatic\" transform creation in [06. PyTorch Transfer Learning section 2.2](https://www.learnpytorch.io/06_pytorch_transfer_learning/#22-creating-a-transform-for-torchvisionmodels-auto-creation)."
      ]
    },
    {
      "cell_type": "code",
      "execution_count": null,
      "id": "6f48d40b-11f6-4e74-8503-cc29e073140e",
      "metadata": {
        "id": "6f48d40b-11f6-4e74-8503-cc29e073140e"
      },
      "outputs": [],
      "source": [
        "# Get automatic transforms from pretrained ViT weights\n",
        "pretrained_vit_transforms = pretrained_vit_weights.transforms()\n",
        "print(pretrained_vit_transforms)"
      ]
    },
    {
      "cell_type": "markdown",
      "id": "76244403-6d3b-472f-a4f0-ccbaa3dfd764",
      "metadata": {
        "id": "76244403-6d3b-472f-a4f0-ccbaa3dfd764"
      },
      "source": [
        "And now we've got transforms ready, we can turn our images into DataLoaders using the `data_setup.create_dataloaders()` method we created in [05. PyTorch Going Modular section 2](https://www.learnpytorch.io/05_pytorch_going_modular/#2-create-datasets-and-dataloaders-data_setuppy).\n",
        "\n",
        "Since we're using a feature extractor model (less trainable parameters), we could increase the batch size to a higher value (if we set it to 1024, we'd be mimicking an improvement found in [*Better plain ViT baselines for ImageNet-1k*](https://arxiv.org/abs/2205.01580), a paper which improves upon the original ViT paper and suggested extra reading). But since we only have ~200 training samples total, we'll stick with 32."
      ]
    },
    {
      "cell_type": "code",
      "execution_count": null,
      "id": "dd2f58ff-6182-453a-a802-70ff98c09557",
      "metadata": {
        "id": "dd2f58ff-6182-453a-a802-70ff98c09557"
      },
      "outputs": [],
      "source": [
        "# Setup dataloaders\n",
        "train_dataloader_pretrained, test_dataloader_pretrained, class_names = data_setup.create_dataloaders(train_dir=train_dir,\n",
        "                                                                                                     test_dir=test_dir,\n",
        "                                                                                                     transform=pretrained_vit_transforms,\n",
        "                                                                                                     batch_size=32) # Could increase if we had more samples, such as here: https://arxiv.org/abs/2205.01580 (there are other improvements there too...)\n"
      ]
    },
    {
      "cell_type": "markdown",
      "id": "4e9da731-3c11-4d79-9e68-f006fcedd288",
      "metadata": {
        "id": "4e9da731-3c11-4d79-9e68-f006fcedd288"
      },
      "source": [
        "### 10.4 Train feature extractor ViT model\n",
        "\n",
        "Feature extractor model ready, DataLoaders ready, time to train!\n",
        "\n",
        "As before we'll use the Adam optimizer (`torch.optim.Adam()`) with a learning rate of `1e-3` and `torch.nn.CrossEntropyLoss()` as the loss function.\n",
        "\n",
        "Our `engine.train()` function we created in [05. PyTorch Going Modular section 4](https://www.learnpytorch.io/05_pytorch_going_modular/#4-creating-train_step-and-test_step-functions-and-train-to-combine-them) will take care of the rest."
      ]
    },
    {
      "cell_type": "code",
      "execution_count": null,
      "id": "a49408b4-24d9-4bb1-90a2-dd61c08f78a4",
      "metadata": {
        "id": "a49408b4-24d9-4bb1-90a2-dd61c08f78a4"
      },
      "outputs": [],
      "source": [
        "from going_modular.going_modular import engine\n",
        "\n",
        "# Create optimizer and loss function\n",
        "optimizer = torch.optim.Adam(params=pretrained_vit.parameters(),\n",
        "                             lr=1e-3)\n",
        "loss_fn = torch.nn.CrossEntropyLoss()\n",
        "\n",
        "# Train the classifier head of the pretrained ViT feature extractor model\n",
        "set_seeds()\n",
        "pretrained_vit_results = engine.train(model=pretrained_vit,\n",
        "                                      train_dataloader=train_dataloader_pretrained,\n",
        "                                      test_dataloader=test_dataloader_pretrained,\n",
        "                                      optimizer=optimizer,\n",
        "                                      loss_fn=loss_fn,\n",
        "                                      epochs=10,\n",
        "                                      device=device)"
      ]
    },
    {
      "cell_type": "markdown",
      "id": "f8309f97-a93c-4975-b837-8387a517b6f4",
      "metadata": {
        "id": "f8309f97-a93c-4975-b837-8387a517b6f4"
      },
      "source": [
        "Holy cow!\n",
        "\n",
        "Looks like our pretrained ViT feature extractor performed far better than our custom ViT model trained from scratch (in the same amount of time).\n",
        "\n",
        "Let's get visual."
      ]
    },
    {
      "cell_type": "markdown",
      "id": "233717e4-9983-47ed-9ef2-5a079df9a971",
      "metadata": {
        "id": "233717e4-9983-47ed-9ef2-5a079df9a971"
      },
      "source": [
        "### 10.5 Plot feature extractor ViT model loss curves\n",
        "\n",
        "Our pretrained ViT feature model numbers look good on the training and test sets.\n",
        "\n",
        "How do the loss curves look?"
      ]
    },
    {
      "cell_type": "code",
      "execution_count": null,
      "id": "3c0af18e-6419-4dd6-b8ea-f5830bbd63d5",
      "metadata": {
        "id": "3c0af18e-6419-4dd6-b8ea-f5830bbd63d5"
      },
      "outputs": [],
      "source": [
        "# Plot the loss curves\n",
        "from helper_functions import plot_loss_curves\n",
        "\n",
        "plot_loss_curves(pretrained_vit_results)"
      ]
    },
    {
      "cell_type": "markdown",
      "id": "3ac9256f-90fb-4c75-8100-38977886aa80",
      "metadata": {
        "id": "3ac9256f-90fb-4c75-8100-38977886aa80"
      },
      "source": [
        "Woah!\n",
        "\n",
        "Those are some close to textbook looking (really good) loss curves (check out [04. PyTorch Custom Datasets section 8](https://www.learnpytorch.io/04_pytorch_custom_datasets/#8-what-should-an-ideal-loss-curve-look-like) for what an ideal loss curve should look like).\n",
        "\n",
        "That's the power of transfer learning!\n",
        "\n",
        "We managed to get outstanding results with the *same* model architecture, except our custom implementation was trained from scratch (worse performance) and this feature extractor model has the power of pretrained weights from ImageNet behind it.\n",
        "\n",
        "What do you think?\n",
        "\n",
        "Would our feature extractor model improve more if you kept training it?"
      ]
    },
    {
      "cell_type": "markdown",
      "id": "eab07548-3b1c-43a3-9f8d-02672ef1f47c",
      "metadata": {
        "id": "eab07548-3b1c-43a3-9f8d-02672ef1f47c"
      },
      "source": [
        "### 10.6 Save feature extractor ViT model and check file size\n",
        "\n",
        "It looks like our ViT feature extractor model is performing quite well for our Food Vision Mini problem.\n",
        "\n",
        "Perhaps we might want to try deploying it and see how it goes in production (in this case, deploying means putting our trained model in an application someone could use, say taking photos on their smartphone of food and seeing if our model thinks it's pizza, steak or sushi).\n",
        "\n",
        "To do so we can first save our model with the `utils.save_model()` function we created in [05. PyTorch Going Modular section 5](https://www.learnpytorch.io/05_pytorch_going_modular/#5-creating-a-function-to-save-the-model-utilspy)."
      ]
    },
    {
      "cell_type": "code",
      "execution_count": null,
      "id": "0fd00943-01aa-4ef4-b366-3cb859a25b6f",
      "metadata": {
        "id": "0fd00943-01aa-4ef4-b366-3cb859a25b6f"
      },
      "outputs": [],
      "source": [
        "# Save the model\n",
        "from going_modular.going_modular import utils\n",
        "\n",
        "utils.save_model(model=pretrained_vit,\n",
        "                 target_dir=\"models\",\n",
        "                 model_name=\"08_pretrained_vit_feature_extractor_pizza_steak_sushi.pth\")"
      ]
    },
    {
      "cell_type": "markdown",
      "id": "0d115e5c-46a0-4063-a3d5-24609f2c9f51",
      "metadata": {
        "id": "0d115e5c-46a0-4063-a3d5-24609f2c9f51"
      },
      "source": [
        "And since we're thinking about deploying this model, it'd be good to know the size of it (in megabytes or MB).\n",
        "\n",
        "Since we want our Food Vision Mini application to run fast, generally a smaller model with good performance will be better than a larger model with great performance.\n",
        "\n",
        "We can check the size of our model in bytes using the `st_size` attribute of Python's [`pathlib.Path().stat()`](https://docs.python.org/3/library/pathlib.html#pathlib.Path.stat) method whilst passing it our model's filepath name.\n",
        "\n",
        "We can then scale the size in bytes to megabytes."
      ]
    },
    {
      "cell_type": "code",
      "execution_count": null,
      "id": "f52ef12c-b88e-4796-84eb-981491a84334",
      "metadata": {
        "id": "f52ef12c-b88e-4796-84eb-981491a84334"
      },
      "outputs": [],
      "source": [
        "from pathlib import Path\n",
        "\n",
        "# Get the model size in bytes then convert to megabytes\n",
        "pretrained_vit_model_size = Path(\"models/08_pretrained_vit_feature_extractor_pizza_steak_sushi.pth\").stat().st_size // (1024*1024) # division converts bytes to megabytes (roughly)\n",
        "print(f\"Pretrained ViT feature extractor model size: {pretrained_vit_model_size} MB\")"
      ]
    },
    {
      "cell_type": "markdown",
      "id": "6b63b857-04e1-460c-a510-fc61231b5bc4",
      "metadata": {
        "id": "6b63b857-04e1-460c-a510-fc61231b5bc4"
      },
      "source": [
        "Hmm, looks like our ViT feature extractor model for Food Vision Mini turned out to be about 327 MB in size.\n",
        "\n",
        "How does this compare to the EffNetB2 feature extractor model in [07. PyTorch Experiment Tracking section 9](https://www.learnpytorch.io/07_pytorch_experiment_tracking/#9-load-in-the-best-model-and-make-predictions-with-it)?\n",
        "\n",
        "| **Model** | **Model size (MB)** | **Test loss** | **Test accuracy** |\n",
        "| ----- | ----- | ----- | ------ |\n",
        "| EffNetB2 feature extractor^ | 29 | ~0.3906 | ~0.9384 |\n",
        "| ViT feature extractor | 327 | ~0.1084 | ~0.9384 |\n",
        "\n",
        "> **Note:** ^ the EffNetB2 model in reference was trained with 20% of pizza, steak and sushi data (double the amount of images) rather than the ViT feature extractor which was trained with 10% of pizza, steak and sushi data. An exercise would be to train the ViT feature extractor model on the same amount of data and see how much the results improve.\n",
        "\n",
        "The EffNetB2 model is ~11x smaller than the ViT model with similar results for test loss and accuracy.\n",
        "\n",
        "However, the ViT model's results may improve more when trained with the same data (20% pizza, steak and sushi data).\n",
        "\n",
        "But in terms of deployment, if we were comparing these two models, something we'd need to consider is whether the extra accuracy from the ViT model is worth the ~11x increase in model size?\n",
        "\n",
        "Perhaps such a large model would take longer to load/run and wouldn't provide as good an experience as EffNetB2 which performs similarly but at a much reduced size."
      ]
    },
    {
      "cell_type": "markdown",
      "id": "2adf6c78-95c9-4c0c-b143-6d66d3b7aa25",
      "metadata": {
        "id": "2adf6c78-95c9-4c0c-b143-6d66d3b7aa25"
      },
      "source": [
        "## 11. Make predictions on a custom image\n",
        "\n",
        "And finally, we'll finish with the ultimate test, predicting on our own custom data.\n",
        "\n",
        "Let's download the pizza dad image (a photo of my dad eating pizza) and use our ViT feature extractor to predict on it.\n",
        "\n",
        "To do so, let's use the `pred_and_plot()` function we created in [06. PyTorch Transfer Learning section 6](https://www.learnpytorch.io/06_pytorch_transfer_learning/#6-make-predictions-on-images-from-the-test-set), for convenience, I saved this function to [`going_modular.going_modular.predictions.py`](https://github.com/mrdbourke/pytorch-deep-learning/blob/main/going_modular/going_modular/predictions.py) on the course GitHub."
      ]
    },
    {
      "cell_type": "code",
      "execution_count": null,
      "id": "16aa8e02-e209-450d-920e-806fde1997f5",
      "metadata": {
        "id": "16aa8e02-e209-450d-920e-806fde1997f5"
      },
      "outputs": [],
      "source": [
        "import requests\n",
        "\n",
        "# Import function to make predictions on images and plot them\n",
        "from going_modular.going_modular.predictions import pred_and_plot_image\n",
        "\n",
        "# Setup custom image path\n",
        "custom_image_path = image_path / \"04-pizza-dad.jpeg\"\n",
        "\n",
        "# Download the image if it doesn't already exist\n",
        "if not custom_image_path.is_file():\n",
        "    with open(custom_image_path, \"wb\") as f:\n",
        "        # When downloading from GitHub, need to use the \"raw\" file link\n",
        "        request = requests.get(\"https://raw.githubusercontent.com/mrdbourke/pytorch-deep-learning/main/images/04-pizza-dad.jpeg\")\n",
        "        print(f\"Downloading {custom_image_path}...\")\n",
        "        f.write(request.content)\n",
        "else:\n",
        "    print(f\"{custom_image_path} already exists, skipping download.\")\n",
        "\n",
        "# Predict on custom image\n",
        "pred_and_plot_image(model=pretrained_vit,\n",
        "                    image_path=custom_image_path,\n",
        "                    class_names=class_names)"
      ]
    },
    {
      "cell_type": "markdown",
      "id": "d19162cf-0129-44cb-a083-e4d94db6d10a",
      "metadata": {
        "id": "d19162cf-0129-44cb-a083-e4d94db6d10a"
      },
      "source": [
        "Two thumbs up!\n",
        "\n",
        "Congratulations!\n",
        "\n",
        "We've gone all the way from research paper to usable model code on our own custom images!"
      ]
    },
    {
      "cell_type": "markdown",
      "id": "b2d4e7fc-4b0c-4466-8530-2a81f41eab76",
      "metadata": {
        "id": "b2d4e7fc-4b0c-4466-8530-2a81f41eab76"
      },
      "source": [
        "## Main takeaways\n",
        "\n",
        "* With the explosion of machine learning, new research papers detailing advancements come out every day. And it's impossible to keep up with it *all* but you can narrow things down to your own use case, such as what we did here, replicating a computer vision paper for FoodVision Mini.\n",
        "* Machine learning research papers often contain months of research by teams of smart people compressed into a few pages (so teasing out all the details and replicating the paper in full can be a bit of challenge).\n",
        "* The goal of paper replicating is to turn machine learning research papers (text and math) into usable code.\n",
        "    * With this being said, many machine learning research teams are starting to publish code with their papers and one of the best places to see this is at [Paperswithcode.com](https://paperswithcode.com/)\n",
        "* Breaking a machine learning research paper into inputs and outputs (what goes in and out of each layer/block/model?) and layers (how does each layer manipulate the input?) and blocks (a collection of layers) and replicating each part step by step (like we've done in this notebook) can be very helpful for understanding.\n",
        "* Pretrained models are available for many state of the art model architectures and with the power of transfer learning, these often perform *very* well with little data.\n",
        "* Larger models generally perform better but have a larger footprint too (they take up more storage space and can take longer to perform inference).\n",
        "    * A big question is: deployment wise, is the extra performance of a larger model worth it/aligned with the use case?"
      ]
    },
    {
      "cell_type": "markdown",
      "id": "04b1569b-117e-43fd-9e0b-324157cb82a4",
      "metadata": {
        "id": "04b1569b-117e-43fd-9e0b-324157cb82a4"
      },
      "source": [
        "## Exercises\n",
        "\n",
        "> **Note:** These exercises expect the use of `torchvision` v0.13+ (released July 2022), previous versions may work but will likely have errors.\n",
        "\n",
        "All of the exercises are focused on practicing the code above.\n",
        "\n",
        "You should be able to complete them by referencing each section or by following the resource(s) linked.\n",
        "\n",
        "All exercises should be completed using [device-agnostic code](https://pytorch.org/docs/stable/notes/cuda.html#device-agnostic-code).\n",
        "\n",
        "**Resources:**\n",
        "\n",
        "* [Exercise template notebook for 08](https://github.com/mrdbourke/pytorch-deep-learning/blob/main/extras/exercises/08_pytorch_paper_replicating_exercises.ipynb).\n",
        "* [Example solutions notebook for 08](https://github.com/mrdbourke/pytorch-deep-learning/blob/main/extras/solutions/08_pytorch_paper_replicating_exercise_solutions.ipynb) (try the exercises *before* looking at this).\n",
        "    * See a live [video walkthrough of the solutions on YouTube](https://youtu.be/tjpW_BY8y3g) (errors and all).\n",
        "\n",
        "1. Replicate the ViT architecture we created with in-built [PyTorch transformer layers](https://pytorch.org/docs/stable/nn.html#transformer-layers).\n",
        "    * You'll want to look into replacing our `TransformerEncoderBlock()` class with [`torch.nn.TransformerEncoderLayer()`](https://pytorch.org/docs/stable/generated/torch.nn.TransformerEncoderLayer.html#torch.nn.TransformerEncoderLayer) (these contain the same layers as our custom blocks).\n",
        "    * You can stack `torch.nn.TransformerEncoderLayer()`'s on top of each other with [`torch.nn.TransformerEncoder()`](https://pytorch.org/docs/stable/generated/torch.nn.TransformerEncoder.html#torch.nn.TransformerEncoder).\n",
        "2. Turn the custom ViT architecture we created into a Python script, for example, `vit.py`.\n",
        "    * You should be able to import an entire ViT model using something like`from vit import ViT`.\n",
        "3. Train a pretrained ViT feature extractor model (like the one we made in [08. PyTorch Paper Replicating section 10](https://www.learnpytorch.io/08_pytorch_paper_replicating/#10-bring-in-pretrained-vit-from-torchvisionmodels-on-same-dataset)) on 20% of the pizza, steak and sushi data like the dataset we used in [07. PyTorch Experiment Tracking section 7.3](https://www.learnpytorch.io/07_pytorch_experiment_tracking/#73-download-different-datasets).\n",
        "    * See how it performs compared to the EffNetB2 model we compared it to in [08. PyTorch Paper Replicating section 10.6](https://www.learnpytorch.io/08_pytorch_paper_replicating/#106-save-feature-extractor-vit-model-and-check-file-size).\n",
        "4. Try repeating the steps from excercise 3 but this time use the \"`ViT_B_16_Weights.IMAGENET1K_SWAG_E2E_V1`\" pretrained weights from [`torchvision.models.vit_b_16()`](https://pytorch.org/vision/stable/models/generated/torchvision.models.vit_b_16.html#torchvision.models.vit_b_16).\n",
        "    * **Note:** ViT pretrained with SWAG weights has a minimum input image size of `(384, 384)` (the pretrained ViT in exercise 3 has a minimum input size of `(224, 224)`), though this is accessible in the weights `.transforms()` method.\n",
        "5. Our custom ViT model architecture closely mimics that of the ViT paper, however, our training recipe misses a few things. Research some of the following topics from Table 3 in the ViT paper that we miss and write a sentence about each and how it might help with training:\n",
        "    * ImageNet-21k pretraining (more data).\n",
        "    * Learning rate warmup.\n",
        "    * Learning rate decay.\n",
        "    * Gradient clipping."
      ]
    },
    {
      "cell_type": "markdown",
      "id": "dd69be46-cb68-4391-9834-8f87d8814722",
      "metadata": {
        "id": "dd69be46-cb68-4391-9834-8f87d8814722"
      },
      "source": [
        "## Extra-curriculum\n",
        "\n",
        "* There have been several iterations and tweaks to the Vision Transformer since its original release and the most concise and best performing (as of July 2022) can be viewed in [*Better plain ViT baselines for ImageNet-1k*](https://arxiv.org/abs/2205.01580). Despite of the upgrades, we stuck with replicating a \"vanilla Vision Transformer\" in this notebook because if you understand the structure of the original, you can bridge to different iterations.\n",
        "* The [`vit-pytorch` repository on GitHub by lucidrains](https://github.com/lucidrains/vit-pytorch) is one of the most extensive resources of different ViT architectures implemented in PyTorch. It's a phenomenal reference and one I used often to create the materials we've been through in this chapter.\n",
        "* PyTorch have their [own implementation of the ViT architecture on GitHub](https://github.com/pytorch/vision/blob/main/torchvision/models/vision_transformer.py), it's used as the basis of the pretrained ViT models in `torchvision.models`.\n",
        "* Jay Alammar has fantastic illustrations and explanations on his blog of the [attention mechanism](https://jalammar.github.io/visualizing-neural-machine-translation-mechanics-of-seq2seq-models-with-attention/) (the foundation of Transformer models) and [Transformer models](https://jalammar.github.io/illustrated-transformer/).\n",
        "* Adrish Dey has a fantastic [write up of Layer Normalization](https://wandb.ai/wandb_fc/LayerNorm/reports/Layer-Normalization-in-Pytorch-With-Examples---VmlldzoxMjk5MTk1) (a main component of the ViT architecture) can help neural network training.\n",
        "* The self-attention (and multi-head self-attention) mechanism is at the heart of the ViT architecture as well as many other Transformer architectures, it was originally introduced in the [*Attention is all you need*](https://arxiv.org/abs/1706.03762) paper.\n",
        "* Yannic Kilcher's YouTube channel is a sensational resource for visual paper walkthroughs, you can see his videos for the following papers:\n",
        "    * [Attention is all you need](https://www.youtube.com/watch?v=iDulhoQ2pro) (the paper that introduced the Transformer architecture).\n",
        "    * [An Image is Worth 16x16 Words: Transformers for Image Recognition at Scale](https://youtu.be/TrdevFK_am4) (the paper that introduced the ViT architecture)."
      ]
    }
  ],
  "metadata": {
    "colab": {
      "provenance": [],
      "include_colab_link": true
    },
    "kernelspec": {
      "display_name": "Python 3",
      "language": "python",
      "name": "python3"
    },
    "language_info": {
      "codemirror_mode": {
        "name": "ipython",
        "version": 3
      },
      "file_extension": ".py",
      "mimetype": "text/x-python",
      "name": "python",
      "nbconvert_exporter": "python",
      "pygments_lexer": "ipython3",
      "version": "3.10.0 (tags/v3.10.0:b494f59, Oct  4 2021, 19:00:18) [MSC v.1929 64 bit (AMD64)]"
    },
    "vscode": {
      "interpreter": {
        "hash": "110a4ad9b3b23ac6a757cfb6c77f1e39e8d0496598f07ec14a944919c025e818"
      }
    },
    "widgets": {
      "application/vnd.jupyter.widget-state+json": {
        "d3b374b7e6eb43be81ef1b7f9ce15fdf": {
          "model_module": "@jupyter-widgets/controls",
          "model_name": "HBoxModel",
          "model_module_version": "1.5.0",
          "state": {
            "_dom_classes": [],
            "_model_module": "@jupyter-widgets/controls",
            "_model_module_version": "1.5.0",
            "_model_name": "HBoxModel",
            "_view_count": null,
            "_view_module": "@jupyter-widgets/controls",
            "_view_module_version": "1.5.0",
            "_view_name": "HBoxView",
            "box_style": "",
            "children": [
              "IPY_MODEL_941222949a504db9a5a3b4e6b53ec237",
              "IPY_MODEL_d29e536035d1411a984812437de594c3",
              "IPY_MODEL_1499938d55864430934074a1a061a706"
            ],
            "layout": "IPY_MODEL_2dde3c9ab51d4f5a9d19adad130c137d"
          }
        },
        "941222949a504db9a5a3b4e6b53ec237": {
          "model_module": "@jupyter-widgets/controls",
          "model_name": "HTMLModel",
          "model_module_version": "1.5.0",
          "state": {
            "_dom_classes": [],
            "_model_module": "@jupyter-widgets/controls",
            "_model_module_version": "1.5.0",
            "_model_name": "HTMLModel",
            "_view_count": null,
            "_view_module": "@jupyter-widgets/controls",
            "_view_module_version": "1.5.0",
            "_view_name": "HTMLView",
            "description": "",
            "description_tooltip": null,
            "layout": "IPY_MODEL_62374e1a2d7c4822a9572fe0ccc27f5f",
            "placeholder": "​",
            "style": "IPY_MODEL_687dac1efb1943b78acb03588551479c",
            "value": "  0%"
          }
        },
        "d29e536035d1411a984812437de594c3": {
          "model_module": "@jupyter-widgets/controls",
          "model_name": "FloatProgressModel",
          "model_module_version": "1.5.0",
          "state": {
            "_dom_classes": [],
            "_model_module": "@jupyter-widgets/controls",
            "_model_module_version": "1.5.0",
            "_model_name": "FloatProgressModel",
            "_view_count": null,
            "_view_module": "@jupyter-widgets/controls",
            "_view_module_version": "1.5.0",
            "_view_name": "ProgressView",
            "bar_style": "danger",
            "description": "",
            "description_tooltip": null,
            "layout": "IPY_MODEL_8f72fe524a794b0386db4324a83ff739",
            "max": 10,
            "min": 0,
            "orientation": "horizontal",
            "style": "IPY_MODEL_03999b7f136f4dd1afebbae5a55ff86f",
            "value": 0
          }
        },
        "1499938d55864430934074a1a061a706": {
          "model_module": "@jupyter-widgets/controls",
          "model_name": "HTMLModel",
          "model_module_version": "1.5.0",
          "state": {
            "_dom_classes": [],
            "_model_module": "@jupyter-widgets/controls",
            "_model_module_version": "1.5.0",
            "_model_name": "HTMLModel",
            "_view_count": null,
            "_view_module": "@jupyter-widgets/controls",
            "_view_module_version": "1.5.0",
            "_view_name": "HTMLView",
            "description": "",
            "description_tooltip": null,
            "layout": "IPY_MODEL_5304934f2054484fb4780cb42047655d",
            "placeholder": "​",
            "style": "IPY_MODEL_5d17b2137f7d4181af9a6219d2144b04",
            "value": " 0/10 [00:22&lt;?, ?it/s]"
          }
        },
        "2dde3c9ab51d4f5a9d19adad130c137d": {
          "model_module": "@jupyter-widgets/base",
          "model_name": "LayoutModel",
          "model_module_version": "1.2.0",
          "state": {
            "_model_module": "@jupyter-widgets/base",
            "_model_module_version": "1.2.0",
            "_model_name": "LayoutModel",
            "_view_count": null,
            "_view_module": "@jupyter-widgets/base",
            "_view_module_version": "1.2.0",
            "_view_name": "LayoutView",
            "align_content": null,
            "align_items": null,
            "align_self": null,
            "border": null,
            "bottom": null,
            "display": null,
            "flex": null,
            "flex_flow": null,
            "grid_area": null,
            "grid_auto_columns": null,
            "grid_auto_flow": null,
            "grid_auto_rows": null,
            "grid_column": null,
            "grid_gap": null,
            "grid_row": null,
            "grid_template_areas": null,
            "grid_template_columns": null,
            "grid_template_rows": null,
            "height": null,
            "justify_content": null,
            "justify_items": null,
            "left": null,
            "margin": null,
            "max_height": null,
            "max_width": null,
            "min_height": null,
            "min_width": null,
            "object_fit": null,
            "object_position": null,
            "order": null,
            "overflow": null,
            "overflow_x": null,
            "overflow_y": null,
            "padding": null,
            "right": null,
            "top": null,
            "visibility": null,
            "width": null
          }
        },
        "62374e1a2d7c4822a9572fe0ccc27f5f": {
          "model_module": "@jupyter-widgets/base",
          "model_name": "LayoutModel",
          "model_module_version": "1.2.0",
          "state": {
            "_model_module": "@jupyter-widgets/base",
            "_model_module_version": "1.2.0",
            "_model_name": "LayoutModel",
            "_view_count": null,
            "_view_module": "@jupyter-widgets/base",
            "_view_module_version": "1.2.0",
            "_view_name": "LayoutView",
            "align_content": null,
            "align_items": null,
            "align_self": null,
            "border": null,
            "bottom": null,
            "display": null,
            "flex": null,
            "flex_flow": null,
            "grid_area": null,
            "grid_auto_columns": null,
            "grid_auto_flow": null,
            "grid_auto_rows": null,
            "grid_column": null,
            "grid_gap": null,
            "grid_row": null,
            "grid_template_areas": null,
            "grid_template_columns": null,
            "grid_template_rows": null,
            "height": null,
            "justify_content": null,
            "justify_items": null,
            "left": null,
            "margin": null,
            "max_height": null,
            "max_width": null,
            "min_height": null,
            "min_width": null,
            "object_fit": null,
            "object_position": null,
            "order": null,
            "overflow": null,
            "overflow_x": null,
            "overflow_y": null,
            "padding": null,
            "right": null,
            "top": null,
            "visibility": null,
            "width": null
          }
        },
        "687dac1efb1943b78acb03588551479c": {
          "model_module": "@jupyter-widgets/controls",
          "model_name": "DescriptionStyleModel",
          "model_module_version": "1.5.0",
          "state": {
            "_model_module": "@jupyter-widgets/controls",
            "_model_module_version": "1.5.0",
            "_model_name": "DescriptionStyleModel",
            "_view_count": null,
            "_view_module": "@jupyter-widgets/base",
            "_view_module_version": "1.2.0",
            "_view_name": "StyleView",
            "description_width": ""
          }
        },
        "8f72fe524a794b0386db4324a83ff739": {
          "model_module": "@jupyter-widgets/base",
          "model_name": "LayoutModel",
          "model_module_version": "1.2.0",
          "state": {
            "_model_module": "@jupyter-widgets/base",
            "_model_module_version": "1.2.0",
            "_model_name": "LayoutModel",
            "_view_count": null,
            "_view_module": "@jupyter-widgets/base",
            "_view_module_version": "1.2.0",
            "_view_name": "LayoutView",
            "align_content": null,
            "align_items": null,
            "align_self": null,
            "border": null,
            "bottom": null,
            "display": null,
            "flex": null,
            "flex_flow": null,
            "grid_area": null,
            "grid_auto_columns": null,
            "grid_auto_flow": null,
            "grid_auto_rows": null,
            "grid_column": null,
            "grid_gap": null,
            "grid_row": null,
            "grid_template_areas": null,
            "grid_template_columns": null,
            "grid_template_rows": null,
            "height": null,
            "justify_content": null,
            "justify_items": null,
            "left": null,
            "margin": null,
            "max_height": null,
            "max_width": null,
            "min_height": null,
            "min_width": null,
            "object_fit": null,
            "object_position": null,
            "order": null,
            "overflow": null,
            "overflow_x": null,
            "overflow_y": null,
            "padding": null,
            "right": null,
            "top": null,
            "visibility": null,
            "width": null
          }
        },
        "03999b7f136f4dd1afebbae5a55ff86f": {
          "model_module": "@jupyter-widgets/controls",
          "model_name": "ProgressStyleModel",
          "model_module_version": "1.5.0",
          "state": {
            "_model_module": "@jupyter-widgets/controls",
            "_model_module_version": "1.5.0",
            "_model_name": "ProgressStyleModel",
            "_view_count": null,
            "_view_module": "@jupyter-widgets/base",
            "_view_module_version": "1.2.0",
            "_view_name": "StyleView",
            "bar_color": null,
            "description_width": ""
          }
        },
        "5304934f2054484fb4780cb42047655d": {
          "model_module": "@jupyter-widgets/base",
          "model_name": "LayoutModel",
          "model_module_version": "1.2.0",
          "state": {
            "_model_module": "@jupyter-widgets/base",
            "_model_module_version": "1.2.0",
            "_model_name": "LayoutModel",
            "_view_count": null,
            "_view_module": "@jupyter-widgets/base",
            "_view_module_version": "1.2.0",
            "_view_name": "LayoutView",
            "align_content": null,
            "align_items": null,
            "align_self": null,
            "border": null,
            "bottom": null,
            "display": null,
            "flex": null,
            "flex_flow": null,
            "grid_area": null,
            "grid_auto_columns": null,
            "grid_auto_flow": null,
            "grid_auto_rows": null,
            "grid_column": null,
            "grid_gap": null,
            "grid_row": null,
            "grid_template_areas": null,
            "grid_template_columns": null,
            "grid_template_rows": null,
            "height": null,
            "justify_content": null,
            "justify_items": null,
            "left": null,
            "margin": null,
            "max_height": null,
            "max_width": null,
            "min_height": null,
            "min_width": null,
            "object_fit": null,
            "object_position": null,
            "order": null,
            "overflow": null,
            "overflow_x": null,
            "overflow_y": null,
            "padding": null,
            "right": null,
            "top": null,
            "visibility": null,
            "width": null
          }
        },
        "5d17b2137f7d4181af9a6219d2144b04": {
          "model_module": "@jupyter-widgets/controls",
          "model_name": "DescriptionStyleModel",
          "model_module_version": "1.5.0",
          "state": {
            "_model_module": "@jupyter-widgets/controls",
            "_model_module_version": "1.5.0",
            "_model_name": "DescriptionStyleModel",
            "_view_count": null,
            "_view_module": "@jupyter-widgets/base",
            "_view_module_version": "1.2.0",
            "_view_name": "StyleView",
            "description_width": ""
          }
        }
      }
    }
  },
  "nbformat": 4,
  "nbformat_minor": 5
}